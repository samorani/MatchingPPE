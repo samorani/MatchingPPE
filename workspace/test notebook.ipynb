{
 "cells": [
  {
   "cell_type": "markdown",
   "metadata": {},
   "source": [
    "# Process results"
   ]
  },
  {
   "cell_type": "markdown",
   "metadata": {},
   "source": [
    "This notebook analyzes the matching decisions by the simulation.py and summarizes a few metrics"
   ]
  },
  {
   "cell_type": "code",
   "execution_count": 1,
   "metadata": {},
   "outputs": [],
   "source": [
    "import pandas as pd\n",
    "import numpy as np"
   ]
  },
  {
   "cell_type": "code",
   "execution_count": 2,
   "metadata": {},
   "outputs": [
    {
     "output_type": "execute_result",
     "data": {
      "text/plain": [
       "  rec_id                      date     ppe    qty\n",
       "0     R1 2020-04-04 13:08:00+00:00   masks  100.0\n",
       "1     R1 2020-04-09 13:08:00+00:00  gloves  300.0\n",
       "2     R2 2020-04-10 13:08:00+00:00  gloves  200.0\n",
       "3     R2 2020-04-12 13:08:00+00:00   gowns   50.0\n",
       "4     R3 2020-04-05 13:08:00+00:00   gowns   60.0"
      ],
      "text/html": "<div>\n<style scoped>\n    .dataframe tbody tr th:only-of-type {\n        vertical-align: middle;\n    }\n\n    .dataframe tbody tr th {\n        vertical-align: top;\n    }\n\n    .dataframe thead th {\n        text-align: right;\n    }\n</style>\n<table border=\"1\" class=\"dataframe\">\n  <thead>\n    <tr style=\"text-align: right;\">\n      <th></th>\n      <th>rec_id</th>\n      <th>date</th>\n      <th>ppe</th>\n      <th>qty</th>\n    </tr>\n  </thead>\n  <tbody>\n    <tr>\n      <th>0</th>\n      <td>R1</td>\n      <td>2020-04-04 13:08:00+00:00</td>\n      <td>masks</td>\n      <td>100.0</td>\n    </tr>\n    <tr>\n      <th>1</th>\n      <td>R1</td>\n      <td>2020-04-09 13:08:00+00:00</td>\n      <td>gloves</td>\n      <td>300.0</td>\n    </tr>\n    <tr>\n      <th>2</th>\n      <td>R2</td>\n      <td>2020-04-10 13:08:00+00:00</td>\n      <td>gloves</td>\n      <td>200.0</td>\n    </tr>\n    <tr>\n      <th>3</th>\n      <td>R2</td>\n      <td>2020-04-12 13:08:00+00:00</td>\n      <td>gowns</td>\n      <td>50.0</td>\n    </tr>\n    <tr>\n      <th>4</th>\n      <td>R3</td>\n      <td>2020-04-05 13:08:00+00:00</td>\n      <td>gowns</td>\n      <td>60.0</td>\n    </tr>\n  </tbody>\n</table>\n</div>"
     },
     "metadata": {},
     "execution_count": 2
    }
   ],
   "source": [
    "recipients = pd.read_csv('data/test/test_recipients.csv',index_col=0,parse_dates=['date'])\n",
    "recipients = recipients[recipients['qty']>0]\n",
    "recipients"
   ]
  },
  {
   "cell_type": "code",
   "execution_count": 3,
   "metadata": {},
   "outputs": [
    {
     "output_type": "execute_result",
     "data": {
      "text/plain": [
       "  don_id                      date     ppe  qty  don_req_id\n",
       "0     D1 2020-04-05 13:08:00+00:00  gloves  400           0\n",
       "1     D1 2020-04-11 13:08:00+00:00   gowns   20           1\n",
       "2     D2 2020-04-12 13:08:00+00:00   gowns   30           2\n",
       "3     D2 2020-04-12 13:08:00+00:00   masks  130           3"
      ],
      "text/html": "<div>\n<style scoped>\n    .dataframe tbody tr th:only-of-type {\n        vertical-align: middle;\n    }\n\n    .dataframe tbody tr th {\n        vertical-align: top;\n    }\n\n    .dataframe thead th {\n        text-align: right;\n    }\n</style>\n<table border=\"1\" class=\"dataframe\">\n  <thead>\n    <tr style=\"text-align: right;\">\n      <th></th>\n      <th>don_id</th>\n      <th>date</th>\n      <th>ppe</th>\n      <th>qty</th>\n      <th>don_req_id</th>\n    </tr>\n  </thead>\n  <tbody>\n    <tr>\n      <th>0</th>\n      <td>D1</td>\n      <td>2020-04-05 13:08:00+00:00</td>\n      <td>gloves</td>\n      <td>400</td>\n      <td>0</td>\n    </tr>\n    <tr>\n      <th>1</th>\n      <td>D1</td>\n      <td>2020-04-11 13:08:00+00:00</td>\n      <td>gowns</td>\n      <td>20</td>\n      <td>1</td>\n    </tr>\n    <tr>\n      <th>2</th>\n      <td>D2</td>\n      <td>2020-04-12 13:08:00+00:00</td>\n      <td>gowns</td>\n      <td>30</td>\n      <td>2</td>\n    </tr>\n    <tr>\n      <th>3</th>\n      <td>D2</td>\n      <td>2020-04-12 13:08:00+00:00</td>\n      <td>masks</td>\n      <td>130</td>\n      <td>3</td>\n    </tr>\n  </tbody>\n</table>\n</div>"
     },
     "metadata": {},
     "execution_count": 3
    }
   ],
   "source": [
    "donors = pd.read_csv('data/test/test_donors.csv',index_col=0,parse_dates=['date'])\n",
    "donors"
   ]
  },
  {
   "cell_type": "code",
   "execution_count": 4,
   "metadata": {},
   "outputs": [
    {
     "output_type": "execute_result",
     "data": {
      "text/plain": [
       "                       date don_id rec_id     ppe  qty  distance\n",
       "0 2020-04-15 13:08:00+00:00     D1     R1  gloves  300       100\n",
       "1 2020-04-15 13:08:00+00:00     D1     R2  gloves  100       100\n",
       "2 2020-04-15 13:08:00+00:00     D1     R2   gowns   20       100\n",
       "3 2020-04-20 13:08:00+00:00     D2     R1   masks  130        50\n",
       "4 2020-04-20 13:08:00+00:00     D2     R2   gowns   30        50"
      ],
      "text/html": "<div>\n<style scoped>\n    .dataframe tbody tr th:only-of-type {\n        vertical-align: middle;\n    }\n\n    .dataframe tbody tr th {\n        vertical-align: top;\n    }\n\n    .dataframe thead th {\n        text-align: right;\n    }\n</style>\n<table border=\"1\" class=\"dataframe\">\n  <thead>\n    <tr style=\"text-align: right;\">\n      <th></th>\n      <th>date</th>\n      <th>don_id</th>\n      <th>rec_id</th>\n      <th>ppe</th>\n      <th>qty</th>\n      <th>distance</th>\n    </tr>\n  </thead>\n  <tbody>\n    <tr>\n      <th>0</th>\n      <td>2020-04-15 13:08:00+00:00</td>\n      <td>D1</td>\n      <td>R1</td>\n      <td>gloves</td>\n      <td>300</td>\n      <td>100</td>\n    </tr>\n    <tr>\n      <th>1</th>\n      <td>2020-04-15 13:08:00+00:00</td>\n      <td>D1</td>\n      <td>R2</td>\n      <td>gloves</td>\n      <td>100</td>\n      <td>100</td>\n    </tr>\n    <tr>\n      <th>2</th>\n      <td>2020-04-15 13:08:00+00:00</td>\n      <td>D1</td>\n      <td>R2</td>\n      <td>gowns</td>\n      <td>20</td>\n      <td>100</td>\n    </tr>\n    <tr>\n      <th>3</th>\n      <td>2020-04-20 13:08:00+00:00</td>\n      <td>D2</td>\n      <td>R1</td>\n      <td>masks</td>\n      <td>130</td>\n      <td>50</td>\n    </tr>\n    <tr>\n      <th>4</th>\n      <td>2020-04-20 13:08:00+00:00</td>\n      <td>D2</td>\n      <td>R2</td>\n      <td>gowns</td>\n      <td>30</td>\n      <td>50</td>\n    </tr>\n  </tbody>\n</table>\n</div>"
     },
     "metadata": {},
     "execution_count": 4
    }
   ],
   "source": [
    "decisions = pd.read_csv('data/test/test_decisions.csv',index_col=0,parse_dates=['date'])\n",
    "decisions"
   ]
  },
  {
   "cell_type": "code",
   "execution_count": 5,
   "metadata": {},
   "outputs": [],
   "source": [
    "all_ppes = set(donors.ppe.unique())\n",
    "all_ppes = all_ppes.union(set(recipients.ppe.unique()))"
   ]
  },
  {
   "source": [
    "# Set up result table"
   ],
   "cell_type": "markdown",
   "metadata": {}
  },
  {
   "cell_type": "code",
   "execution_count": 17,
   "metadata": {},
   "outputs": [
    {
     "output_type": "execute_result",
     "data": {
      "text/plain": [
       "Empty DataFrame\n",
       "Columns: [metric_name, description, value]\n",
       "Index: []"
      ],
      "text/html": "<div>\n<style scoped>\n    .dataframe tbody tr th:only-of-type {\n        vertical-align: middle;\n    }\n\n    .dataframe tbody tr th {\n        vertical-align: top;\n    }\n\n    .dataframe thead th {\n        text-align: right;\n    }\n</style>\n<table border=\"1\" class=\"dataframe\">\n  <thead>\n    <tr style=\"text-align: right;\">\n      <th></th>\n      <th>metric_name</th>\n      <th>description</th>\n      <th>value</th>\n    </tr>\n  </thead>\n  <tbody>\n  </tbody>\n</table>\n</div>"
     },
     "metadata": {},
     "execution_count": 17
    }
   ],
   "source": [
    "result = pd.DataFrame(columns=['metric_name','description','value'])\n",
    "result"
   ]
  },
  {
   "source": [
    "# Fill rate for rec_id,ppe"
   ],
   "cell_type": "markdown",
   "metadata": {}
  },
  {
   "cell_type": "code",
   "execution_count": 31,
   "metadata": {},
   "outputs": [
    {
     "output_type": "execute_result",
     "data": {
      "text/plain": [
       "  rec_id     ppe    qty\n",
       "0     R1  gloves  300.0\n",
       "1     R1   masks  100.0\n",
       "2     R2  gloves  200.0\n",
       "3     R2   gowns   50.0\n",
       "4     R3   gowns   60.0"
      ],
      "text/html": "<div>\n<style scoped>\n    .dataframe tbody tr th:only-of-type {\n        vertical-align: middle;\n    }\n\n    .dataframe tbody tr th {\n        vertical-align: top;\n    }\n\n    .dataframe thead th {\n        text-align: right;\n    }\n</style>\n<table border=\"1\" class=\"dataframe\">\n  <thead>\n    <tr style=\"text-align: right;\">\n      <th></th>\n      <th>rec_id</th>\n      <th>ppe</th>\n      <th>qty</th>\n    </tr>\n  </thead>\n  <tbody>\n    <tr>\n      <th>0</th>\n      <td>R1</td>\n      <td>gloves</td>\n      <td>300.0</td>\n    </tr>\n    <tr>\n      <th>1</th>\n      <td>R1</td>\n      <td>masks</td>\n      <td>100.0</td>\n    </tr>\n    <tr>\n      <th>2</th>\n      <td>R2</td>\n      <td>gloves</td>\n      <td>200.0</td>\n    </tr>\n    <tr>\n      <th>3</th>\n      <td>R2</td>\n      <td>gowns</td>\n      <td>50.0</td>\n    </tr>\n    <tr>\n      <th>4</th>\n      <td>R3</td>\n      <td>gowns</td>\n      <td>60.0</td>\n    </tr>\n  </tbody>\n</table>\n</div>"
     },
     "metadata": {},
     "execution_count": 31
    }
   ],
   "source": [
    "total_request = recipients.groupby(['rec_id','ppe'])['qty'].agg(['sum'])\n",
    "total_request =total_request.reset_index()\n",
    "total_request.columns=['rec_id','ppe','qty']\n",
    "total_request"
   ]
  },
  {
   "cell_type": "code",
   "execution_count": 32,
   "metadata": {},
   "outputs": [
    {
     "output_type": "execute_result",
     "data": {
      "text/plain": [
       "  rec_id     ppe  qty_rec                      date don_id  qty_dec  distance\n",
       "0     R1  gloves    300.0 2020-04-15 13:08:00+00:00     D1    300.0     100.0\n",
       "1     R1   masks    100.0 2020-04-20 13:08:00+00:00     D2    130.0      50.0\n",
       "2     R2  gloves    200.0 2020-04-15 13:08:00+00:00     D1    100.0     100.0\n",
       "3     R2   gowns     50.0 2020-04-15 13:08:00+00:00     D1     20.0     100.0\n",
       "4     R2   gowns     50.0 2020-04-20 13:08:00+00:00     D2     30.0      50.0\n",
       "5     R3   gowns     60.0                       NaT    NaN      NaN       NaN"
      ],
      "text/html": "<div>\n<style scoped>\n    .dataframe tbody tr th:only-of-type {\n        vertical-align: middle;\n    }\n\n    .dataframe tbody tr th {\n        vertical-align: top;\n    }\n\n    .dataframe thead th {\n        text-align: right;\n    }\n</style>\n<table border=\"1\" class=\"dataframe\">\n  <thead>\n    <tr style=\"text-align: right;\">\n      <th></th>\n      <th>rec_id</th>\n      <th>ppe</th>\n      <th>qty_rec</th>\n      <th>date</th>\n      <th>don_id</th>\n      <th>qty_dec</th>\n      <th>distance</th>\n    </tr>\n  </thead>\n  <tbody>\n    <tr>\n      <th>0</th>\n      <td>R1</td>\n      <td>gloves</td>\n      <td>300.0</td>\n      <td>2020-04-15 13:08:00+00:00</td>\n      <td>D1</td>\n      <td>300.0</td>\n      <td>100.0</td>\n    </tr>\n    <tr>\n      <th>1</th>\n      <td>R1</td>\n      <td>masks</td>\n      <td>100.0</td>\n      <td>2020-04-20 13:08:00+00:00</td>\n      <td>D2</td>\n      <td>130.0</td>\n      <td>50.0</td>\n    </tr>\n    <tr>\n      <th>2</th>\n      <td>R2</td>\n      <td>gloves</td>\n      <td>200.0</td>\n      <td>2020-04-15 13:08:00+00:00</td>\n      <td>D1</td>\n      <td>100.0</td>\n      <td>100.0</td>\n    </tr>\n    <tr>\n      <th>3</th>\n      <td>R2</td>\n      <td>gowns</td>\n      <td>50.0</td>\n      <td>2020-04-15 13:08:00+00:00</td>\n      <td>D1</td>\n      <td>20.0</td>\n      <td>100.0</td>\n    </tr>\n    <tr>\n      <th>4</th>\n      <td>R2</td>\n      <td>gowns</td>\n      <td>50.0</td>\n      <td>2020-04-20 13:08:00+00:00</td>\n      <td>D2</td>\n      <td>30.0</td>\n      <td>50.0</td>\n    </tr>\n    <tr>\n      <th>5</th>\n      <td>R3</td>\n      <td>gowns</td>\n      <td>60.0</td>\n      <td>NaT</td>\n      <td>NaN</td>\n      <td>NaN</td>\n      <td>NaN</td>\n    </tr>\n  </tbody>\n</table>\n</div>"
     },
     "metadata": {},
     "execution_count": 32
    }
   ],
   "source": [
    "total_request.merge(decisions,how='left',on=['rec_id','ppe'],suffixes=['_rec','_dec'])"
   ]
  },
  {
   "cell_type": "code",
   "execution_count": 33,
   "metadata": {},
   "outputs": [
    {
     "output_type": "execute_result",
     "data": {
      "text/plain": [
       "  rec_id     ppe  requested  received  fill_rate\n",
       "0     R1  gloves      300.0     300.0        1.0\n",
       "1     R1   masks      100.0     130.0        1.0\n",
       "2     R2  gloves      200.0     100.0        0.5\n",
       "3     R2   gowns       50.0      50.0        1.0\n",
       "4     R3   gowns       60.0       0.0        0.0"
      ],
      "text/html": "<div>\n<style scoped>\n    .dataframe tbody tr th:only-of-type {\n        vertical-align: middle;\n    }\n\n    .dataframe tbody tr th {\n        vertical-align: top;\n    }\n\n    .dataframe thead th {\n        text-align: right;\n    }\n</style>\n<table border=\"1\" class=\"dataframe\">\n  <thead>\n    <tr style=\"text-align: right;\">\n      <th></th>\n      <th>rec_id</th>\n      <th>ppe</th>\n      <th>requested</th>\n      <th>received</th>\n      <th>fill_rate</th>\n    </tr>\n  </thead>\n  <tbody>\n    <tr>\n      <th>0</th>\n      <td>R1</td>\n      <td>gloves</td>\n      <td>300.0</td>\n      <td>300.0</td>\n      <td>1.0</td>\n    </tr>\n    <tr>\n      <th>1</th>\n      <td>R1</td>\n      <td>masks</td>\n      <td>100.0</td>\n      <td>130.0</td>\n      <td>1.0</td>\n    </tr>\n    <tr>\n      <th>2</th>\n      <td>R2</td>\n      <td>gloves</td>\n      <td>200.0</td>\n      <td>100.0</td>\n      <td>0.5</td>\n    </tr>\n    <tr>\n      <th>3</th>\n      <td>R2</td>\n      <td>gowns</td>\n      <td>50.0</td>\n      <td>50.0</td>\n      <td>1.0</td>\n    </tr>\n    <tr>\n      <th>4</th>\n      <td>R3</td>\n      <td>gowns</td>\n      <td>60.0</td>\n      <td>0.0</td>\n      <td>0.0</td>\n    </tr>\n  </tbody>\n</table>\n</div>"
     },
     "metadata": {},
     "execution_count": 33
    }
   ],
   "source": [
    "fr = total_request.merge(decisions,how='left',on=['rec_id','ppe'],suffixes=['_rec','_dec']).groupby(['rec_id','ppe']).agg({'qty_rec':['mean'],'qty_dec':['sum','size']})\n",
    "fr = fr.reset_index()\n",
    "fr.columns = ['rec_id','ppe','requested','received','fill_rate']\n",
    "fr['fill_rate'] = fr['received'] / fr['requested']\n",
    "fr.loc[fr['fill_rate'] > 1,'fill_rate'] = 1\n",
    "fr['fill_rate'] = fr['fill_rate'].fillna(0)\n",
    "fr"
   ]
  },
  {
   "cell_type": "code",
   "execution_count": 35,
   "metadata": {},
   "outputs": [
    {
     "output_type": "execute_result",
     "data": {
      "text/plain": [
       "             metric_name                                  description  value\n",
       "0  fill rate (R1,gloves)  fill rate of recipient R1 limited to gloves    1.0\n",
       "1   fill rate (R1,masks)   fill rate of recipient R1 limited to masks    1.0\n",
       "2  fill rate (R2,gloves)  fill rate of recipient R2 limited to gloves    0.5\n",
       "3   fill rate (R2,gowns)   fill rate of recipient R2 limited to gowns    1.0\n",
       "4   fill rate (R3,gowns)   fill rate of recipient R3 limited to gowns    0.0"
      ],
      "text/html": "<div>\n<style scoped>\n    .dataframe tbody tr th:only-of-type {\n        vertical-align: middle;\n    }\n\n    .dataframe tbody tr th {\n        vertical-align: top;\n    }\n\n    .dataframe thead th {\n        text-align: right;\n    }\n</style>\n<table border=\"1\" class=\"dataframe\">\n  <thead>\n    <tr style=\"text-align: right;\">\n      <th></th>\n      <th>metric_name</th>\n      <th>description</th>\n      <th>value</th>\n    </tr>\n  </thead>\n  <tbody>\n    <tr>\n      <th>0</th>\n      <td>fill rate (R1,gloves)</td>\n      <td>fill rate of recipient R1 limited to gloves</td>\n      <td>1.0</td>\n    </tr>\n    <tr>\n      <th>1</th>\n      <td>fill rate (R1,masks)</td>\n      <td>fill rate of recipient R1 limited to masks</td>\n      <td>1.0</td>\n    </tr>\n    <tr>\n      <th>2</th>\n      <td>fill rate (R2,gloves)</td>\n      <td>fill rate of recipient R2 limited to gloves</td>\n      <td>0.5</td>\n    </tr>\n    <tr>\n      <th>3</th>\n      <td>fill rate (R2,gowns)</td>\n      <td>fill rate of recipient R2 limited to gowns</td>\n      <td>1.0</td>\n    </tr>\n    <tr>\n      <th>4</th>\n      <td>fill rate (R3,gowns)</td>\n      <td>fill rate of recipient R3 limited to gowns</td>\n      <td>0.0</td>\n    </tr>\n  </tbody>\n</table>\n</div>"
     },
     "metadata": {},
     "execution_count": 35
    }
   ],
   "source": [
    "result['metric_name'] = \"fill rate (\" + fr['rec_id'] + \",\" + fr['ppe'] + \")\"\n",
    "result['description'] = \"fill rate of recipient \" + fr['rec_id'] + \" limited to \" + fr['ppe']\n",
    "result['value'] = fr['fill_rate']\n",
    "result"
   ]
  },
  {
   "cell_type": "code",
   "execution_count": 36,
   "metadata": {},
   "outputs": [
    {
     "output_type": "execute_result",
     "data": {
      "text/plain": [
       "  rec_id     ppe  requested  received  fill_rate\n",
       "0     R1  gloves      300.0     300.0        1.0\n",
       "1     R1   masks      100.0     130.0        1.0\n",
       "2     R2  gloves      200.0     100.0        0.5\n",
       "3     R2   gowns       50.0      50.0        1.0\n",
       "4     R3   gowns       60.0       0.0        0.0"
      ],
      "text/html": "<div>\n<style scoped>\n    .dataframe tbody tr th:only-of-type {\n        vertical-align: middle;\n    }\n\n    .dataframe tbody tr th {\n        vertical-align: top;\n    }\n\n    .dataframe thead th {\n        text-align: right;\n    }\n</style>\n<table border=\"1\" class=\"dataframe\">\n  <thead>\n    <tr style=\"text-align: right;\">\n      <th></th>\n      <th>rec_id</th>\n      <th>ppe</th>\n      <th>requested</th>\n      <th>received</th>\n      <th>fill_rate</th>\n    </tr>\n  </thead>\n  <tbody>\n    <tr>\n      <th>0</th>\n      <td>R1</td>\n      <td>gloves</td>\n      <td>300.0</td>\n      <td>300.0</td>\n      <td>1.0</td>\n    </tr>\n    <tr>\n      <th>1</th>\n      <td>R1</td>\n      <td>masks</td>\n      <td>100.0</td>\n      <td>130.0</td>\n      <td>1.0</td>\n    </tr>\n    <tr>\n      <th>2</th>\n      <td>R2</td>\n      <td>gloves</td>\n      <td>200.0</td>\n      <td>100.0</td>\n      <td>0.5</td>\n    </tr>\n    <tr>\n      <th>3</th>\n      <td>R2</td>\n      <td>gowns</td>\n      <td>50.0</td>\n      <td>50.0</td>\n      <td>1.0</td>\n    </tr>\n    <tr>\n      <th>4</th>\n      <td>R3</td>\n      <td>gowns</td>\n      <td>60.0</td>\n      <td>0.0</td>\n      <td>0.0</td>\n    </tr>\n  </tbody>\n</table>\n</div>"
     },
     "metadata": {},
     "execution_count": 36
    }
   ],
   "source": [
    "fr"
   ]
  },
  {
   "cell_type": "code",
   "execution_count": 38,
   "metadata": {},
   "outputs": [
    {
     "output_type": "execute_result",
     "data": {
      "text/plain": [
       "             metric_name                                  description  value\n",
       "0  fill rate (R1,gloves)  fill rate of recipient R1 limited to gloves    1.0\n",
       "1   fill rate (R1,masks)   fill rate of recipient R1 limited to masks    1.0\n",
       "2  fill rate (R2,gloves)  fill rate of recipient R2 limited to gloves    0.5\n",
       "3   fill rate (R2,gowns)   fill rate of recipient R2 limited to gowns    1.0\n",
       "4   fill rate (R3,gowns)   fill rate of recipient R3 limited to gowns    0.0"
      ],
      "text/html": "<div>\n<style scoped>\n    .dataframe tbody tr th:only-of-type {\n        vertical-align: middle;\n    }\n\n    .dataframe tbody tr th {\n        vertical-align: top;\n    }\n\n    .dataframe thead th {\n        text-align: right;\n    }\n</style>\n<table border=\"1\" class=\"dataframe\">\n  <thead>\n    <tr style=\"text-align: right;\">\n      <th></th>\n      <th>metric_name</th>\n      <th>description</th>\n      <th>value</th>\n    </tr>\n  </thead>\n  <tbody>\n    <tr>\n      <th>0</th>\n      <td>fill rate (R1,gloves)</td>\n      <td>fill rate of recipient R1 limited to gloves</td>\n      <td>1.0</td>\n    </tr>\n    <tr>\n      <th>1</th>\n      <td>fill rate (R1,masks)</td>\n      <td>fill rate of recipient R1 limited to masks</td>\n      <td>1.0</td>\n    </tr>\n    <tr>\n      <th>2</th>\n      <td>fill rate (R2,gloves)</td>\n      <td>fill rate of recipient R2 limited to gloves</td>\n      <td>0.5</td>\n    </tr>\n    <tr>\n      <th>3</th>\n      <td>fill rate (R2,gowns)</td>\n      <td>fill rate of recipient R2 limited to gowns</td>\n      <td>1.0</td>\n    </tr>\n    <tr>\n      <th>4</th>\n      <td>fill rate (R3,gowns)</td>\n      <td>fill rate of recipient R3 limited to gowns</td>\n      <td>0.0</td>\n    </tr>\n  </tbody>\n</table>\n</div>"
     },
     "metadata": {},
     "execution_count": 38
    }
   ],
   "source": [
    "result"
   ]
  },
  {
   "source": [
    "# Fill rate for each ppe"
   ],
   "cell_type": "markdown",
   "metadata": {}
  },
  {
   "source": [
    "For each ppe, the average fill rate from table fr"
   ],
   "cell_type": "markdown",
   "metadata": {}
  },
  {
   "cell_type": "code",
   "execution_count": 39,
   "metadata": {},
   "outputs": [
    {
     "output_type": "execute_result",
     "data": {
      "text/plain": [
       "ppe\n",
       "gloves    0.75\n",
       "gowns     0.50\n",
       "masks     1.00\n",
       "Name: fill_rate, dtype: float64"
      ]
     },
     "metadata": {},
     "execution_count": 39
    }
   ],
   "source": [
    "fr_p = fr.groupby('ppe')['fill_rate'].mean()\n",
    "fr_p"
   ]
  },
  {
   "cell_type": "code",
   "execution_count": 40,
   "metadata": {},
   "outputs": [],
   "source": [
    "for ppe,val in fr_p.items():\n",
    "    result.loc[len(result)] = [f'fill rate ({ppe})', f'average fill rate among recipients who requested {ppe}',val]"
   ]
  },
  {
   "cell_type": "code",
   "execution_count": 41,
   "metadata": {},
   "outputs": [
    {
     "output_type": "execute_result",
     "data": {
      "text/plain": [
       "             metric_name                                        description  \\\n",
       "0  fill rate (R1,gloves)        fill rate of recipient R1 limited to gloves   \n",
       "1   fill rate (R1,masks)         fill rate of recipient R1 limited to masks   \n",
       "2  fill rate (R2,gloves)        fill rate of recipient R2 limited to gloves   \n",
       "3   fill rate (R2,gowns)         fill rate of recipient R2 limited to gowns   \n",
       "4   fill rate (R3,gowns)         fill rate of recipient R3 limited to gowns   \n",
       "5     fill rate (gloves)  average fill rate among recipients who request...   \n",
       "6      fill rate (gowns)  average fill rate among recipients who request...   \n",
       "7      fill rate (masks)  average fill rate among recipients who request...   \n",
       "\n",
       "   value  \n",
       "0   1.00  \n",
       "1   1.00  \n",
       "2   0.50  \n",
       "3   1.00  \n",
       "4   0.00  \n",
       "5   0.75  \n",
       "6   0.50  \n",
       "7   1.00  "
      ],
      "text/html": "<div>\n<style scoped>\n    .dataframe tbody tr th:only-of-type {\n        vertical-align: middle;\n    }\n\n    .dataframe tbody tr th {\n        vertical-align: top;\n    }\n\n    .dataframe thead th {\n        text-align: right;\n    }\n</style>\n<table border=\"1\" class=\"dataframe\">\n  <thead>\n    <tr style=\"text-align: right;\">\n      <th></th>\n      <th>metric_name</th>\n      <th>description</th>\n      <th>value</th>\n    </tr>\n  </thead>\n  <tbody>\n    <tr>\n      <th>0</th>\n      <td>fill rate (R1,gloves)</td>\n      <td>fill rate of recipient R1 limited to gloves</td>\n      <td>1.00</td>\n    </tr>\n    <tr>\n      <th>1</th>\n      <td>fill rate (R1,masks)</td>\n      <td>fill rate of recipient R1 limited to masks</td>\n      <td>1.00</td>\n    </tr>\n    <tr>\n      <th>2</th>\n      <td>fill rate (R2,gloves)</td>\n      <td>fill rate of recipient R2 limited to gloves</td>\n      <td>0.50</td>\n    </tr>\n    <tr>\n      <th>3</th>\n      <td>fill rate (R2,gowns)</td>\n      <td>fill rate of recipient R2 limited to gowns</td>\n      <td>1.00</td>\n    </tr>\n    <tr>\n      <th>4</th>\n      <td>fill rate (R3,gowns)</td>\n      <td>fill rate of recipient R3 limited to gowns</td>\n      <td>0.00</td>\n    </tr>\n    <tr>\n      <th>5</th>\n      <td>fill rate (gloves)</td>\n      <td>average fill rate among recipients who request...</td>\n      <td>0.75</td>\n    </tr>\n    <tr>\n      <th>6</th>\n      <td>fill rate (gowns)</td>\n      <td>average fill rate among recipients who request...</td>\n      <td>0.50</td>\n    </tr>\n    <tr>\n      <th>7</th>\n      <td>fill rate (masks)</td>\n      <td>average fill rate among recipients who request...</td>\n      <td>1.00</td>\n    </tr>\n  </tbody>\n</table>\n</div>"
     },
     "metadata": {},
     "execution_count": 41
    }
   ],
   "source": [
    "result"
   ]
  },
  {
   "source": [
    "Excluding the zero fill_rates"
   ],
   "cell_type": "markdown",
   "metadata": {}
  },
  {
   "cell_type": "code",
   "execution_count": 42,
   "metadata": {},
   "outputs": [
    {
     "output_type": "execute_result",
     "data": {
      "text/plain": [
       "ppe\n",
       "gloves    0.75\n",
       "gowns     1.00\n",
       "masks     1.00\n",
       "Name: fill_rate, dtype: float64"
      ]
     },
     "metadata": {},
     "execution_count": 42
    }
   ],
   "source": [
    "fr_p_zero = fr[fr.fill_rate > 0].groupby('ppe')['fill_rate'].mean()\n",
    "fr_p_zero"
   ]
  },
  {
   "cell_type": "code",
   "execution_count": 43,
   "metadata": {},
   "outputs": [
    {
     "output_type": "execute_result",
     "data": {
      "text/plain": [
       "                     metric_name  \\\n",
       "0          fill rate (R1,gloves)   \n",
       "1           fill rate (R1,masks)   \n",
       "2          fill rate (R2,gloves)   \n",
       "3           fill rate (R2,gowns)   \n",
       "4           fill rate (R3,gowns)   \n",
       "5             fill rate (gloves)   \n",
       "6              fill rate (gowns)   \n",
       "7              fill rate (masks)   \n",
       "8   fill rate exc zeros (gloves)   \n",
       "9    fill rate exc zeros (gowns)   \n",
       "10   fill rate exc zeros (masks)   \n",
       "\n",
       "                                          description  value  \n",
       "0         fill rate of recipient R1 limited to gloves   1.00  \n",
       "1          fill rate of recipient R1 limited to masks   1.00  \n",
       "2         fill rate of recipient R2 limited to gloves   0.50  \n",
       "3          fill rate of recipient R2 limited to gowns   1.00  \n",
       "4          fill rate of recipient R3 limited to gowns   0.00  \n",
       "5   average fill rate among recipients who request...   0.75  \n",
       "6   average fill rate among recipients who request...   0.50  \n",
       "7   average fill rate among recipients who request...   1.00  \n",
       "8   average fill rate among recipients who request...   0.75  \n",
       "9   average fill rate among recipients who request...   1.00  \n",
       "10  average fill rate among recipients who request...   1.00  "
      ],
      "text/html": "<div>\n<style scoped>\n    .dataframe tbody tr th:only-of-type {\n        vertical-align: middle;\n    }\n\n    .dataframe tbody tr th {\n        vertical-align: top;\n    }\n\n    .dataframe thead th {\n        text-align: right;\n    }\n</style>\n<table border=\"1\" class=\"dataframe\">\n  <thead>\n    <tr style=\"text-align: right;\">\n      <th></th>\n      <th>metric_name</th>\n      <th>description</th>\n      <th>value</th>\n    </tr>\n  </thead>\n  <tbody>\n    <tr>\n      <th>0</th>\n      <td>fill rate (R1,gloves)</td>\n      <td>fill rate of recipient R1 limited to gloves</td>\n      <td>1.00</td>\n    </tr>\n    <tr>\n      <th>1</th>\n      <td>fill rate (R1,masks)</td>\n      <td>fill rate of recipient R1 limited to masks</td>\n      <td>1.00</td>\n    </tr>\n    <tr>\n      <th>2</th>\n      <td>fill rate (R2,gloves)</td>\n      <td>fill rate of recipient R2 limited to gloves</td>\n      <td>0.50</td>\n    </tr>\n    <tr>\n      <th>3</th>\n      <td>fill rate (R2,gowns)</td>\n      <td>fill rate of recipient R2 limited to gowns</td>\n      <td>1.00</td>\n    </tr>\n    <tr>\n      <th>4</th>\n      <td>fill rate (R3,gowns)</td>\n      <td>fill rate of recipient R3 limited to gowns</td>\n      <td>0.00</td>\n    </tr>\n    <tr>\n      <th>5</th>\n      <td>fill rate (gloves)</td>\n      <td>average fill rate among recipients who request...</td>\n      <td>0.75</td>\n    </tr>\n    <tr>\n      <th>6</th>\n      <td>fill rate (gowns)</td>\n      <td>average fill rate among recipients who request...</td>\n      <td>0.50</td>\n    </tr>\n    <tr>\n      <th>7</th>\n      <td>fill rate (masks)</td>\n      <td>average fill rate among recipients who request...</td>\n      <td>1.00</td>\n    </tr>\n    <tr>\n      <th>8</th>\n      <td>fill rate exc zeros (gloves)</td>\n      <td>average fill rate among recipients who request...</td>\n      <td>0.75</td>\n    </tr>\n    <tr>\n      <th>9</th>\n      <td>fill rate exc zeros (gowns)</td>\n      <td>average fill rate among recipients who request...</td>\n      <td>1.00</td>\n    </tr>\n    <tr>\n      <th>10</th>\n      <td>fill rate exc zeros (masks)</td>\n      <td>average fill rate among recipients who request...</td>\n      <td>1.00</td>\n    </tr>\n  </tbody>\n</table>\n</div>"
     },
     "metadata": {},
     "execution_count": 43
    }
   ],
   "source": [
    "for ppe,val in fr_p_zero.items():\n",
    "    result.loc[len(result)] = [f'fill rate exc zeros ({ppe})', f'average fill rate among recipients who requested {ppe} and received at least one unit',val]\n",
    "result"
   ]
  },
  {
   "source": [
    "# overall fill rate"
   ],
   "cell_type": "markdown",
   "metadata": {}
  },
  {
   "cell_type": "code",
   "execution_count": 44,
   "metadata": {},
   "outputs": [],
   "source": [
    "result.loc[len(result)] = [f'fill rate', f'overall fill rate, i.e., the average of the fill rates (ppe)',fr_p.mean()]\n",
    "result.loc[len(result)] = [f'fill rate exc zeros', f'overall fill rate among recipients who received something, i.e., the average of the fill rates (ppe) among recipients who received at least one unit',fr_p_zero.mean()]\n",
    "\n"
   ]
  },
  {
   "cell_type": "code",
   "execution_count": 45,
   "metadata": {},
   "outputs": [
    {
     "output_type": "execute_result",
     "data": {
      "text/plain": [
       "                     metric_name  \\\n",
       "0          fill rate (R1,gloves)   \n",
       "1           fill rate (R1,masks)   \n",
       "2          fill rate (R2,gloves)   \n",
       "3           fill rate (R2,gowns)   \n",
       "4           fill rate (R3,gowns)   \n",
       "5             fill rate (gloves)   \n",
       "6              fill rate (gowns)   \n",
       "7              fill rate (masks)   \n",
       "8   fill rate exc zeros (gloves)   \n",
       "9    fill rate exc zeros (gowns)   \n",
       "10   fill rate exc zeros (masks)   \n",
       "11                     fill rate   \n",
       "12           fill rate exc zeros   \n",
       "\n",
       "                                          description     value  \n",
       "0         fill rate of recipient R1 limited to gloves  1.000000  \n",
       "1          fill rate of recipient R1 limited to masks  1.000000  \n",
       "2         fill rate of recipient R2 limited to gloves  0.500000  \n",
       "3          fill rate of recipient R2 limited to gowns  1.000000  \n",
       "4          fill rate of recipient R3 limited to gowns  0.000000  \n",
       "5   average fill rate among recipients who request...  0.750000  \n",
       "6   average fill rate among recipients who request...  0.500000  \n",
       "7   average fill rate among recipients who request...  1.000000  \n",
       "8   average fill rate among recipients who request...  0.750000  \n",
       "9   average fill rate among recipients who request...  1.000000  \n",
       "10  average fill rate among recipients who request...  1.000000  \n",
       "11  overall fill rate, i.e., the average of the fi...  0.750000  \n",
       "12  overall fill rate among recipients who receive...  0.916667  "
      ],
      "text/html": "<div>\n<style scoped>\n    .dataframe tbody tr th:only-of-type {\n        vertical-align: middle;\n    }\n\n    .dataframe tbody tr th {\n        vertical-align: top;\n    }\n\n    .dataframe thead th {\n        text-align: right;\n    }\n</style>\n<table border=\"1\" class=\"dataframe\">\n  <thead>\n    <tr style=\"text-align: right;\">\n      <th></th>\n      <th>metric_name</th>\n      <th>description</th>\n      <th>value</th>\n    </tr>\n  </thead>\n  <tbody>\n    <tr>\n      <th>0</th>\n      <td>fill rate (R1,gloves)</td>\n      <td>fill rate of recipient R1 limited to gloves</td>\n      <td>1.000000</td>\n    </tr>\n    <tr>\n      <th>1</th>\n      <td>fill rate (R1,masks)</td>\n      <td>fill rate of recipient R1 limited to masks</td>\n      <td>1.000000</td>\n    </tr>\n    <tr>\n      <th>2</th>\n      <td>fill rate (R2,gloves)</td>\n      <td>fill rate of recipient R2 limited to gloves</td>\n      <td>0.500000</td>\n    </tr>\n    <tr>\n      <th>3</th>\n      <td>fill rate (R2,gowns)</td>\n      <td>fill rate of recipient R2 limited to gowns</td>\n      <td>1.000000</td>\n    </tr>\n    <tr>\n      <th>4</th>\n      <td>fill rate (R3,gowns)</td>\n      <td>fill rate of recipient R3 limited to gowns</td>\n      <td>0.000000</td>\n    </tr>\n    <tr>\n      <th>5</th>\n      <td>fill rate (gloves)</td>\n      <td>average fill rate among recipients who request...</td>\n      <td>0.750000</td>\n    </tr>\n    <tr>\n      <th>6</th>\n      <td>fill rate (gowns)</td>\n      <td>average fill rate among recipients who request...</td>\n      <td>0.500000</td>\n    </tr>\n    <tr>\n      <th>7</th>\n      <td>fill rate (masks)</td>\n      <td>average fill rate among recipients who request...</td>\n      <td>1.000000</td>\n    </tr>\n    <tr>\n      <th>8</th>\n      <td>fill rate exc zeros (gloves)</td>\n      <td>average fill rate among recipients who request...</td>\n      <td>0.750000</td>\n    </tr>\n    <tr>\n      <th>9</th>\n      <td>fill rate exc zeros (gowns)</td>\n      <td>average fill rate among recipients who request...</td>\n      <td>1.000000</td>\n    </tr>\n    <tr>\n      <th>10</th>\n      <td>fill rate exc zeros (masks)</td>\n      <td>average fill rate among recipients who request...</td>\n      <td>1.000000</td>\n    </tr>\n    <tr>\n      <th>11</th>\n      <td>fill rate</td>\n      <td>overall fill rate, i.e., the average of the fi...</td>\n      <td>0.750000</td>\n    </tr>\n    <tr>\n      <th>12</th>\n      <td>fill rate exc zeros</td>\n      <td>overall fill rate among recipients who receive...</td>\n      <td>0.916667</td>\n    </tr>\n  </tbody>\n</table>\n</div>"
     },
     "metadata": {},
     "execution_count": 45
    }
   ],
   "source": [
    "result"
   ]
  },
  {
   "source": [
    "# Unit-miles"
   ],
   "cell_type": "markdown",
   "metadata": {}
  },
  {
   "cell_type": "code",
   "execution_count": 18,
   "metadata": {},
   "outputs": [
    {
     "output_type": "execute_result",
     "data": {
      "text/plain": [
       "      ppe  avg_unit_miles\n",
       "0  gloves           100.0\n",
       "1   gowns            70.0\n",
       "2   masks            50.0"
      ],
      "text/html": "<div>\n<style scoped>\n    .dataframe tbody tr th:only-of-type {\n        vertical-align: middle;\n    }\n\n    .dataframe tbody tr th {\n        vertical-align: top;\n    }\n\n    .dataframe thead th {\n        text-align: right;\n    }\n</style>\n<table border=\"1\" class=\"dataframe\">\n  <thead>\n    <tr style=\"text-align: right;\">\n      <th></th>\n      <th>ppe</th>\n      <th>avg_unit_miles</th>\n    </tr>\n  </thead>\n  <tbody>\n    <tr>\n      <th>0</th>\n      <td>gloves</td>\n      <td>100.0</td>\n    </tr>\n    <tr>\n      <th>1</th>\n      <td>gowns</td>\n      <td>70.0</td>\n    </tr>\n    <tr>\n      <th>2</th>\n      <td>masks</td>\n      <td>50.0</td>\n    </tr>\n  </tbody>\n</table>\n</div>"
     },
     "metadata": {},
     "execution_count": 18
    }
   ],
   "source": [
    "decisions['unit_miles'] = decisions['distance'] * decisions['qty']\n",
    "\n",
    "gb = decisions.groupby('ppe')\n",
    "rr = (gb['unit_miles'].sum() / gb['qty'].sum()).to_frame().reset_index()\n",
    "rr.columns=['ppe','avg_unit_miles']\n",
    "rr"
   ]
  },
  {
   "cell_type": "code",
   "execution_count": 19,
   "metadata": {},
   "outputs": [],
   "source": [
    "for _,row in rr.iterrows():\n",
    "    ppe = row['ppe']\n",
    "    result.loc[len(result)] = [f'avg unit-miles ({ppe})', f'average miles travelled by each unit of {ppe}',row['avg_unit_miles']]"
   ]
  },
  {
   "cell_type": "code",
   "execution_count": 20,
   "metadata": {},
   "outputs": [],
   "source": [
    "overall_unit_miles = decisions.unit_miles.sum() / decisions.qty.sum()\n",
    "result.loc[len(result)] = [f'avg unit-miles', f'average miles travelled by each unit of ppe',overall_unit_miles]"
   ]
  },
  {
   "source": [
    "# Holding time"
   ],
   "cell_type": "markdown",
   "metadata": {}
  },
  {
   "cell_type": "code",
   "execution_count": 21,
   "metadata": {},
   "outputs": [
    {
     "output_type": "execute_result",
     "data": {
      "text/plain": [
       "                   date_dec don_id rec_id     ppe  qty_dec  distance  \\\n",
       "0 2020-04-15 13:08:00+00:00     D1     R1  gloves      300       100   \n",
       "1 2020-04-15 13:08:00+00:00     D1     R2  gloves      100       100   \n",
       "2 2020-04-15 13:08:00+00:00     D1     R2   gowns       20       100   \n",
       "3 2020-04-20 13:08:00+00:00     D2     R1   masks      130        50   \n",
       "4 2020-04-20 13:08:00+00:00     D2     R2   gowns       30        50   \n",
       "\n",
       "   unit_miles                  date_don  qty_don  don_req_id  holding_time  \\\n",
       "0       30000 2020-04-05 13:08:00+00:00      400           0            10   \n",
       "1       10000 2020-04-05 13:08:00+00:00      400           0            10   \n",
       "2        2000 2020-04-11 13:08:00+00:00       20           1             4   \n",
       "3        6500 2020-04-12 13:08:00+00:00      130           3             8   \n",
       "4        1500 2020-04-12 13:08:00+00:00       30           2             8   \n",
       "\n",
       "   unit_holding_time  \n",
       "0               3000  \n",
       "1               1000  \n",
       "2                 80  \n",
       "3               1040  \n",
       "4                240  "
      ],
      "text/html": "<div>\n<style scoped>\n    .dataframe tbody tr th:only-of-type {\n        vertical-align: middle;\n    }\n\n    .dataframe tbody tr th {\n        vertical-align: top;\n    }\n\n    .dataframe thead th {\n        text-align: right;\n    }\n</style>\n<table border=\"1\" class=\"dataframe\">\n  <thead>\n    <tr style=\"text-align: right;\">\n      <th></th>\n      <th>date_dec</th>\n      <th>don_id</th>\n      <th>rec_id</th>\n      <th>ppe</th>\n      <th>qty_dec</th>\n      <th>distance</th>\n      <th>unit_miles</th>\n      <th>date_don</th>\n      <th>qty_don</th>\n      <th>don_req_id</th>\n      <th>holding_time</th>\n      <th>unit_holding_time</th>\n    </tr>\n  </thead>\n  <tbody>\n    <tr>\n      <th>0</th>\n      <td>2020-04-15 13:08:00+00:00</td>\n      <td>D1</td>\n      <td>R1</td>\n      <td>gloves</td>\n      <td>300</td>\n      <td>100</td>\n      <td>30000</td>\n      <td>2020-04-05 13:08:00+00:00</td>\n      <td>400</td>\n      <td>0</td>\n      <td>10</td>\n      <td>3000</td>\n    </tr>\n    <tr>\n      <th>1</th>\n      <td>2020-04-15 13:08:00+00:00</td>\n      <td>D1</td>\n      <td>R2</td>\n      <td>gloves</td>\n      <td>100</td>\n      <td>100</td>\n      <td>10000</td>\n      <td>2020-04-05 13:08:00+00:00</td>\n      <td>400</td>\n      <td>0</td>\n      <td>10</td>\n      <td>1000</td>\n    </tr>\n    <tr>\n      <th>2</th>\n      <td>2020-04-15 13:08:00+00:00</td>\n      <td>D1</td>\n      <td>R2</td>\n      <td>gowns</td>\n      <td>20</td>\n      <td>100</td>\n      <td>2000</td>\n      <td>2020-04-11 13:08:00+00:00</td>\n      <td>20</td>\n      <td>1</td>\n      <td>4</td>\n      <td>80</td>\n    </tr>\n    <tr>\n      <th>3</th>\n      <td>2020-04-20 13:08:00+00:00</td>\n      <td>D2</td>\n      <td>R1</td>\n      <td>masks</td>\n      <td>130</td>\n      <td>50</td>\n      <td>6500</td>\n      <td>2020-04-12 13:08:00+00:00</td>\n      <td>130</td>\n      <td>3</td>\n      <td>8</td>\n      <td>1040</td>\n    </tr>\n    <tr>\n      <th>4</th>\n      <td>2020-04-20 13:08:00+00:00</td>\n      <td>D2</td>\n      <td>R2</td>\n      <td>gowns</td>\n      <td>30</td>\n      <td>50</td>\n      <td>1500</td>\n      <td>2020-04-12 13:08:00+00:00</td>\n      <td>30</td>\n      <td>2</td>\n      <td>8</td>\n      <td>240</td>\n    </tr>\n  </tbody>\n</table>\n</div>"
     },
     "metadata": {},
     "execution_count": 21
    }
   ],
   "source": [
    "dd = decisions.merge(donors,on=['don_id','ppe'],suffixes=['_dec','_don'])\n",
    "dd['holding_time'] = (dd['date_dec'] - dd['date_don']).dt.days\n",
    "dd['unit_holding_time'] = dd['holding_time'] * dd['qty_dec']\n",
    "dd"
   ]
  },
  {
   "cell_type": "code",
   "execution_count": 22,
   "metadata": {},
   "outputs": [
    {
     "output_type": "execute_result",
     "data": {
      "text/plain": [
       "      ppe  avg_unit_days\n",
       "0  gloves           10.0\n",
       "1   gowns            6.4\n",
       "2   masks            8.0"
      ],
      "text/html": "<div>\n<style scoped>\n    .dataframe tbody tr th:only-of-type {\n        vertical-align: middle;\n    }\n\n    .dataframe tbody tr th {\n        vertical-align: top;\n    }\n\n    .dataframe thead th {\n        text-align: right;\n    }\n</style>\n<table border=\"1\" class=\"dataframe\">\n  <thead>\n    <tr style=\"text-align: right;\">\n      <th></th>\n      <th>ppe</th>\n      <th>avg_unit_days</th>\n    </tr>\n  </thead>\n  <tbody>\n    <tr>\n      <th>0</th>\n      <td>gloves</td>\n      <td>10.0</td>\n    </tr>\n    <tr>\n      <th>1</th>\n      <td>gowns</td>\n      <td>6.4</td>\n    </tr>\n    <tr>\n      <th>2</th>\n      <td>masks</td>\n      <td>8.0</td>\n    </tr>\n  </tbody>\n</table>\n</div>"
     },
     "metadata": {},
     "execution_count": 22
    }
   ],
   "source": [
    "gb = dd.groupby('ppe')\n",
    "rr = (gb['unit_holding_time'].sum() / gb['qty_dec'].sum()).to_frame().reset_index()\n",
    "rr.columns=['ppe','avg_unit_days']\n",
    "rr"
   ]
  },
  {
   "cell_type": "code",
   "execution_count": 23,
   "metadata": {},
   "outputs": [],
   "source": [
    "for _,row in rr.iterrows():\n",
    "    ppe = row['ppe']\n",
    "    result.loc[len(result)] = [f'avg unit-days ({ppe})', f'average days that each unit of {ppe} stayed idle',row['avg_unit_days']]"
   ]
  },
  {
   "cell_type": "code",
   "execution_count": 24,
   "metadata": {},
   "outputs": [],
   "source": [
    "overall_holding_time = dd.unit_holding_time.sum() / dd.qty_dec.sum()\n",
    "result.loc[len(result)] = [f'avg holding time', f'average days that each unit of ppe stayed idle',overall_holding_time]"
   ]
  },
  {
   "source": [
    "# Average number of shipments among donors"
   ],
   "cell_type": "markdown",
   "metadata": {}
  },
  {
   "cell_type": "code",
   "execution_count": 25,
   "metadata": {},
   "outputs": [],
   "source": [
    "total_shipments = len(decisions.groupby(['don_id','rec_id']).size())\n",
    "donors = decisions['don_id'].nunique()\n",
    "result.loc[len(result)] = [f'avg number of shipments', f'average number of shipments among donors',total_shipments/donors]"
   ]
  },
  {
   "cell_type": "code",
   "execution_count": null,
   "metadata": {},
   "outputs": [],
   "source": []
  },
  {
   "cell_type": "code",
   "execution_count": 26,
   "metadata": {},
   "outputs": [
    {
     "output_type": "execute_result",
     "data": {
      "text/plain": [
       "                     metric_name  \\\n",
       "0          fill rate (R1,gloves)   \n",
       "1           fill rate (R1,masks)   \n",
       "2          fill rate (R2,gloves)   \n",
       "3           fill rate (R2,gowns)   \n",
       "4           fill rate (R3,gowns)   \n",
       "5             fill rate (gloves)   \n",
       "6              fill rate (gowns)   \n",
       "7              fill rate (masks)   \n",
       "8   fill rate exc zeros (gloves)   \n",
       "9    fill rate exc zeros (gowns)   \n",
       "10   fill rate exc zeros (masks)   \n",
       "11                     fill rate   \n",
       "12           fill rate exc zeros   \n",
       "13       avg unit-miles (gloves)   \n",
       "14        avg unit-miles (gowns)   \n",
       "15        avg unit-miles (masks)   \n",
       "16                avg unit-miles   \n",
       "17        avg unit-days (gloves)   \n",
       "18         avg unit-days (gowns)   \n",
       "19         avg unit-days (masks)   \n",
       "20              avg holding time   \n",
       "21       avg number of shipments   \n",
       "\n",
       "                                          description     value  \n",
       "0         fill rate of recipient R1 limited to gloves         1  \n",
       "1          fill rate of recipient R1 limited to masks         1  \n",
       "2         fill rate of recipient R2 limited to gloves       0.5  \n",
       "3          fill rate of recipient R2 limited to gowns         1  \n",
       "4          fill rate of recipient R3 limited to gowns         0  \n",
       "5   average fill rate among recipients who request...      0.75  \n",
       "6   average fill rate among recipients who request...       0.5  \n",
       "7   average fill rate among recipients who request...         1  \n",
       "8   average fill rate among recipients who request...      0.75  \n",
       "9   average fill rate among recipients who request...         1  \n",
       "10  average fill rate among recipients who request...         1  \n",
       "11  overall fill rate, i.e., the average of the fi...      0.75  \n",
       "12  overall fill rate among recipients who receive...  0.916667  \n",
       "13     average miles travelled by each unit of gloves       100  \n",
       "14      average miles travelled by each unit of gowns        70  \n",
       "15      average miles travelled by each unit of masks        50  \n",
       "16        average miles travelled by each unit of ppe   86.2069  \n",
       "17  average days that each unit of gloves stayed idle        10  \n",
       "18   average days that each unit of gowns stayed idle       6.4  \n",
       "19   average days that each unit of masks stayed idle         8  \n",
       "20     average days that each unit of ppe stayed idle   9.24138  \n",
       "21           average number of shipments among donors         2  "
      ],
      "text/html": "<div>\n<style scoped>\n    .dataframe tbody tr th:only-of-type {\n        vertical-align: middle;\n    }\n\n    .dataframe tbody tr th {\n        vertical-align: top;\n    }\n\n    .dataframe thead th {\n        text-align: right;\n    }\n</style>\n<table border=\"1\" class=\"dataframe\">\n  <thead>\n    <tr style=\"text-align: right;\">\n      <th></th>\n      <th>metric_name</th>\n      <th>description</th>\n      <th>value</th>\n    </tr>\n  </thead>\n  <tbody>\n    <tr>\n      <th>0</th>\n      <td>fill rate (R1,gloves)</td>\n      <td>fill rate of recipient R1 limited to gloves</td>\n      <td>1</td>\n    </tr>\n    <tr>\n      <th>1</th>\n      <td>fill rate (R1,masks)</td>\n      <td>fill rate of recipient R1 limited to masks</td>\n      <td>1</td>\n    </tr>\n    <tr>\n      <th>2</th>\n      <td>fill rate (R2,gloves)</td>\n      <td>fill rate of recipient R2 limited to gloves</td>\n      <td>0.5</td>\n    </tr>\n    <tr>\n      <th>3</th>\n      <td>fill rate (R2,gowns)</td>\n      <td>fill rate of recipient R2 limited to gowns</td>\n      <td>1</td>\n    </tr>\n    <tr>\n      <th>4</th>\n      <td>fill rate (R3,gowns)</td>\n      <td>fill rate of recipient R3 limited to gowns</td>\n      <td>0</td>\n    </tr>\n    <tr>\n      <th>5</th>\n      <td>fill rate (gloves)</td>\n      <td>average fill rate among recipients who request...</td>\n      <td>0.75</td>\n    </tr>\n    <tr>\n      <th>6</th>\n      <td>fill rate (gowns)</td>\n      <td>average fill rate among recipients who request...</td>\n      <td>0.5</td>\n    </tr>\n    <tr>\n      <th>7</th>\n      <td>fill rate (masks)</td>\n      <td>average fill rate among recipients who request...</td>\n      <td>1</td>\n    </tr>\n    <tr>\n      <th>8</th>\n      <td>fill rate exc zeros (gloves)</td>\n      <td>average fill rate among recipients who request...</td>\n      <td>0.75</td>\n    </tr>\n    <tr>\n      <th>9</th>\n      <td>fill rate exc zeros (gowns)</td>\n      <td>average fill rate among recipients who request...</td>\n      <td>1</td>\n    </tr>\n    <tr>\n      <th>10</th>\n      <td>fill rate exc zeros (masks)</td>\n      <td>average fill rate among recipients who request...</td>\n      <td>1</td>\n    </tr>\n    <tr>\n      <th>11</th>\n      <td>fill rate</td>\n      <td>overall fill rate, i.e., the average of the fi...</td>\n      <td>0.75</td>\n    </tr>\n    <tr>\n      <th>12</th>\n      <td>fill rate exc zeros</td>\n      <td>overall fill rate among recipients who receive...</td>\n      <td>0.916667</td>\n    </tr>\n    <tr>\n      <th>13</th>\n      <td>avg unit-miles (gloves)</td>\n      <td>average miles travelled by each unit of gloves</td>\n      <td>100</td>\n    </tr>\n    <tr>\n      <th>14</th>\n      <td>avg unit-miles (gowns)</td>\n      <td>average miles travelled by each unit of gowns</td>\n      <td>70</td>\n    </tr>\n    <tr>\n      <th>15</th>\n      <td>avg unit-miles (masks)</td>\n      <td>average miles travelled by each unit of masks</td>\n      <td>50</td>\n    </tr>\n    <tr>\n      <th>16</th>\n      <td>avg unit-miles</td>\n      <td>average miles travelled by each unit of ppe</td>\n      <td>86.2069</td>\n    </tr>\n    <tr>\n      <th>17</th>\n      <td>avg unit-days (gloves)</td>\n      <td>average days that each unit of gloves stayed idle</td>\n      <td>10</td>\n    </tr>\n    <tr>\n      <th>18</th>\n      <td>avg unit-days (gowns)</td>\n      <td>average days that each unit of gowns stayed idle</td>\n      <td>6.4</td>\n    </tr>\n    <tr>\n      <th>19</th>\n      <td>avg unit-days (masks)</td>\n      <td>average days that each unit of masks stayed idle</td>\n      <td>8</td>\n    </tr>\n    <tr>\n      <th>20</th>\n      <td>avg holding time</td>\n      <td>average days that each unit of ppe stayed idle</td>\n      <td>9.24138</td>\n    </tr>\n    <tr>\n      <th>21</th>\n      <td>avg number of shipments</td>\n      <td>average number of shipments among donors</td>\n      <td>2</td>\n    </tr>\n  </tbody>\n</table>\n</div>"
     },
     "metadata": {},
     "execution_count": 26
    }
   ],
   "source": [
    "result"
   ]
  },
  {
   "cell_type": "code",
   "execution_count": null,
   "metadata": {},
   "outputs": [],
   "source": []
  },
  {
   "cell_type": "code",
   "execution_count": null,
   "metadata": {},
   "outputs": [],
   "source": []
  }
 ],
 "metadata": {
  "kernelspec": {
   "name": "python366jvsc74a57bd0f7291e4b392a32fbfa525b87d1bbd0a3d888adf3d0deca0c205c61b9e7284b82",
   "display_name": "Python 3.6.6 64-bit"
  },
  "language_info": {
   "codemirror_mode": {
    "name": "ipython",
    "version": 3
   },
   "file_extension": ".py",
   "mimetype": "text/x-python",
   "name": "python",
   "nbconvert_exporter": "python",
   "pygments_lexer": "ipython3",
   "version": "3.6.6"
  }
 },
 "nbformat": 4,
 "nbformat_minor": 4
}