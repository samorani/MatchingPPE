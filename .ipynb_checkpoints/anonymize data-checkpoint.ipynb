{
 "cells": [
  {
   "cell_type": "markdown",
   "metadata": {},
   "source": [
    "# Make distances"
   ]
  },
  {
   "cell_type": "code",
   "execution_count": 1,
   "metadata": {},
   "outputs": [],
   "source": [
    "import pandas as pd\n",
    "import os\n",
    "import numpy as np\n",
    "import datetime\n",
    "original_donors = pd.read_csv('raw_data/donors.csv',parse_dates=['DateCreated'],dtype={'address':str})\n",
    "original_recipients = pd.read_csv('raw_data/recipients.csv',parse_dates=['createddate'],dtype={'address':str})\n",
    "original_donors.sort_values('DateCreated',inplace=True)\n",
    "original_recipients.sort_values('createddate',inplace=True)"
   ]
  },
  {
   "cell_type": "markdown",
   "metadata": {},
   "source": [
    "## Get rid of test rows"
   ]
  },
  {
   "cell_type": "code",
   "execution_count": 2,
   "metadata": {},
   "outputs": [],
   "source": [
    "dd = original_donors.groupby('DonorKey').size().sort_values().to_frame().reset_index()\n",
    "dd.columns=['DonorKey','']"
   ]
  },
  {
   "cell_type": "code",
   "execution_count": null,
   "metadata": {},
   "outputs": [],
   "source": []
  },
  {
   "cell_type": "code",
   "execution_count": 3,
   "metadata": {},
   "outputs": [
    {
     "data": {
      "text/html": [
       "<div>\n",
       "<style scoped>\n",
       "    .dataframe tbody tr th:only-of-type {\n",
       "        vertical-align: middle;\n",
       "    }\n",
       "\n",
       "    .dataframe tbody tr th {\n",
       "        vertical-align: top;\n",
       "    }\n",
       "\n",
       "    .dataframe thead th {\n",
       "        text-align: right;\n",
       "    }\n",
       "</style>\n",
       "<table border=\"1\" class=\"dataframe\">\n",
       "  <thead>\n",
       "    <tr style=\"text-align: right;\">\n",
       "      <th></th>\n",
       "      <th>DonorName</th>\n",
       "      <th>DonorKey</th>\n",
       "      <th>PostCode</th>\n",
       "      <th>EquipmentType</th>\n",
       "      <th>UnopenQty</th>\n",
       "      <th>OpenQty</th>\n",
       "      <th>DateCreated</th>\n",
       "    </tr>\n",
       "  </thead>\n",
       "  <tbody>\n",
       "    <tr>\n",
       "      <th>1100</th>\n",
       "      <td>Bahadar Srichawla</td>\n",
       "      <td>77998232-6b31-4939-8c22-0901cac6f913</td>\n",
       "      <td>10940</td>\n",
       "      <td>Filtering facepiece respirators</td>\n",
       "      <td>0.0</td>\n",
       "      <td>20.0</td>\n",
       "      <td>2020-03-27 11:47:00+00:00</td>\n",
       "    </tr>\n",
       "    <tr>\n",
       "      <th>469</th>\n",
       "      <td>Pierre Baillargeon</td>\n",
       "      <td>e6dd5103-1e80-499f-8b41-4258497cfb34</td>\n",
       "      <td>33458</td>\n",
       "      <td>3D printed / laser cut face shields</td>\n",
       "      <td>10.0</td>\n",
       "      <td>10.0</td>\n",
       "      <td>2020-04-09 13:08:00+00:00</td>\n",
       "    </tr>\n",
       "    <tr>\n",
       "      <th>470</th>\n",
       "      <td>Barbara Pettijohn</td>\n",
       "      <td>1dd1ced6-2c35-4a64-8b7c-3dcaf4814f13</td>\n",
       "      <td>6084</td>\n",
       "      <td>3D printed / laser cut face shields</td>\n",
       "      <td>1.0</td>\n",
       "      <td>1.0</td>\n",
       "      <td>2020-04-09 13:36:00+00:00</td>\n",
       "    </tr>\n",
       "    <tr>\n",
       "      <th>327</th>\n",
       "      <td>John Wagner</td>\n",
       "      <td>b598e546-dd8e-4978-b31a-92fc53b70cdf</td>\n",
       "      <td>55110</td>\n",
       "      <td>3D printed / laser cut face shields</td>\n",
       "      <td>3000.0</td>\n",
       "      <td>3000.0</td>\n",
       "      <td>2020-04-09 13:53:00+00:00</td>\n",
       "    </tr>\n",
       "    <tr>\n",
       "      <th>328</th>\n",
       "      <td>Michael Galloway</td>\n",
       "      <td>5f7fe93a-8943-4cde-bbb8-41ff8ba9bc56</td>\n",
       "      <td>19128</td>\n",
       "      <td>3D printed / laser cut face shields</td>\n",
       "      <td>5.0</td>\n",
       "      <td>5.0</td>\n",
       "      <td>2020-04-09 14:24:00+00:00</td>\n",
       "    </tr>\n",
       "  </tbody>\n",
       "</table>\n",
       "</div>"
      ],
      "text/plain": [
       "               DonorName                              DonorKey PostCode  \\\n",
       "1100   Bahadar Srichawla  77998232-6b31-4939-8c22-0901cac6f913    10940   \n",
       "469   Pierre Baillargeon  e6dd5103-1e80-499f-8b41-4258497cfb34    33458   \n",
       "470    Barbara Pettijohn  1dd1ced6-2c35-4a64-8b7c-3dcaf4814f13     6084   \n",
       "327          John Wagner  b598e546-dd8e-4978-b31a-92fc53b70cdf    55110   \n",
       "328     Michael Galloway  5f7fe93a-8943-4cde-bbb8-41ff8ba9bc56    19128   \n",
       "\n",
       "                            EquipmentType  UnopenQty  OpenQty  \\\n",
       "1100      Filtering facepiece respirators        0.0     20.0   \n",
       "469   3D printed / laser cut face shields       10.0     10.0   \n",
       "470   3D printed / laser cut face shields        1.0      1.0   \n",
       "327   3D printed / laser cut face shields     3000.0   3000.0   \n",
       "328   3D printed / laser cut face shields        5.0      5.0   \n",
       "\n",
       "                   DateCreated  \n",
       "1100 2020-03-27 11:47:00+00:00  \n",
       "469  2020-04-09 13:08:00+00:00  \n",
       "470  2020-04-09 13:36:00+00:00  \n",
       "327  2020-04-09 13:53:00+00:00  \n",
       "328  2020-04-09 14:24:00+00:00  "
      ]
     },
     "execution_count": 3,
     "metadata": {},
     "output_type": "execute_result"
    }
   ],
   "source": [
    "original_donors.head()"
   ]
  },
  {
   "cell_type": "code",
   "execution_count": null,
   "metadata": {},
   "outputs": [],
   "source": []
  },
  {
   "cell_type": "code",
   "execution_count": 4,
   "metadata": {},
   "outputs": [
    {
     "data": {
      "text/html": [
       "<div>\n",
       "<style scoped>\n",
       "    .dataframe tbody tr th:only-of-type {\n",
       "        vertical-align: middle;\n",
       "    }\n",
       "\n",
       "    .dataframe tbody tr th {\n",
       "        vertical-align: top;\n",
       "    }\n",
       "\n",
       "    .dataframe thead th {\n",
       "        text-align: right;\n",
       "    }\n",
       "</style>\n",
       "<table border=\"1\" class=\"dataframe\">\n",
       "  <thead>\n",
       "    <tr style=\"text-align: right;\">\n",
       "      <th></th>\n",
       "      <th>DonorName</th>\n",
       "      <th>DonorKey</th>\n",
       "      <th>PostCode</th>\n",
       "      <th>EquipmentType</th>\n",
       "      <th>UnopenQty</th>\n",
       "      <th>OpenQty</th>\n",
       "      <th>DateCreated</th>\n",
       "    </tr>\n",
       "  </thead>\n",
       "  <tbody>\n",
       "    <tr>\n",
       "      <th>1644</th>\n",
       "      <td>Ivailo Pavlov</td>\n",
       "      <td>89a046dd-a8cf-4223-9bf0-2c8ab3dfedd4</td>\n",
       "      <td>2705</td>\n",
       "      <td>Safety goggles</td>\n",
       "      <td>50000.0</td>\n",
       "      <td>0.0</td>\n",
       "      <td>2020-07-14 10:22:40.322000+00:00</td>\n",
       "    </tr>\n",
       "    <tr>\n",
       "      <th>1650</th>\n",
       "      <td>Ivailo Pavlov</td>\n",
       "      <td>89a046dd-a8cf-4223-9bf0-2c8ab3dfedd4</td>\n",
       "      <td>2705</td>\n",
       "      <td>Surgical/procedure masks</td>\n",
       "      <td>20000.0</td>\n",
       "      <td>0.0</td>\n",
       "      <td>2020-07-14 10:22:40.322000+00:00</td>\n",
       "    </tr>\n",
       "    <tr>\n",
       "      <th>1645</th>\n",
       "      <td>Ivailo Pavlov</td>\n",
       "      <td>89a046dd-a8cf-4223-9bf0-2c8ab3dfedd4</td>\n",
       "      <td>2705</td>\n",
       "      <td>Nitrile gloves</td>\n",
       "      <td>50000.0</td>\n",
       "      <td>0.0</td>\n",
       "      <td>2020-07-14 10:22:40.322000+00:00</td>\n",
       "    </tr>\n",
       "    <tr>\n",
       "      <th>42</th>\n",
       "      <td>Ivailo Pavlov</td>\n",
       "      <td>89a046dd-a8cf-4223-9bf0-2c8ab3dfedd4</td>\n",
       "      <td>2705</td>\n",
       "      <td>Disinfecting wipes</td>\n",
       "      <td>15000.0</td>\n",
       "      <td>0.0</td>\n",
       "      <td>2020-07-14 10:22:40.322000+00:00</td>\n",
       "    </tr>\n",
       "    <tr>\n",
       "      <th>1649</th>\n",
       "      <td>Ivailo Pavlov</td>\n",
       "      <td>89a046dd-a8cf-4223-9bf0-2c8ab3dfedd4</td>\n",
       "      <td>2705</td>\n",
       "      <td>Filtering facepiece respirators</td>\n",
       "      <td>10000.0</td>\n",
       "      <td>0.0</td>\n",
       "      <td>2020-07-14 10:22:40.322000+00:00</td>\n",
       "    </tr>\n",
       "    <tr>\n",
       "      <th>1646</th>\n",
       "      <td>Ivailo Pavlov</td>\n",
       "      <td>89a046dd-a8cf-4223-9bf0-2c8ab3dfedd4</td>\n",
       "      <td>2705</td>\n",
       "      <td>Hand sanitizer</td>\n",
       "      <td>10000.0</td>\n",
       "      <td>0.0</td>\n",
       "      <td>2020-07-14 10:22:40.322000+00:00</td>\n",
       "    </tr>\n",
       "    <tr>\n",
       "      <th>1647</th>\n",
       "      <td>Ivailo Pavlov</td>\n",
       "      <td>89a046dd-a8cf-4223-9bf0-2c8ab3dfedd4</td>\n",
       "      <td>2705</td>\n",
       "      <td>Face shields</td>\n",
       "      <td>10000.0</td>\n",
       "      <td>0.0</td>\n",
       "      <td>2020-07-14 10:22:40.322000+00:00</td>\n",
       "    </tr>\n",
       "    <tr>\n",
       "      <th>1648</th>\n",
       "      <td>Ivailo Pavlov</td>\n",
       "      <td>89a046dd-a8cf-4223-9bf0-2c8ab3dfedd4</td>\n",
       "      <td>2705</td>\n",
       "      <td>Safety glasses</td>\n",
       "      <td>5000.0</td>\n",
       "      <td>0.0</td>\n",
       "      <td>2020-07-14 10:22:40.322000+00:00</td>\n",
       "    </tr>\n",
       "  </tbody>\n",
       "</table>\n",
       "</div>"
      ],
      "text/plain": [
       "          DonorName                              DonorKey PostCode  \\\n",
       "1644  Ivailo Pavlov  89a046dd-a8cf-4223-9bf0-2c8ab3dfedd4     2705   \n",
       "1650  Ivailo Pavlov  89a046dd-a8cf-4223-9bf0-2c8ab3dfedd4     2705   \n",
       "1645  Ivailo Pavlov  89a046dd-a8cf-4223-9bf0-2c8ab3dfedd4     2705   \n",
       "42    Ivailo Pavlov  89a046dd-a8cf-4223-9bf0-2c8ab3dfedd4     2705   \n",
       "1649  Ivailo Pavlov  89a046dd-a8cf-4223-9bf0-2c8ab3dfedd4     2705   \n",
       "1646  Ivailo Pavlov  89a046dd-a8cf-4223-9bf0-2c8ab3dfedd4     2705   \n",
       "1647  Ivailo Pavlov  89a046dd-a8cf-4223-9bf0-2c8ab3dfedd4     2705   \n",
       "1648  Ivailo Pavlov  89a046dd-a8cf-4223-9bf0-2c8ab3dfedd4     2705   \n",
       "\n",
       "                        EquipmentType  UnopenQty  OpenQty  \\\n",
       "1644                   Safety goggles    50000.0      0.0   \n",
       "1650         Surgical/procedure masks    20000.0      0.0   \n",
       "1645                   Nitrile gloves    50000.0      0.0   \n",
       "42                 Disinfecting wipes    15000.0      0.0   \n",
       "1649  Filtering facepiece respirators    10000.0      0.0   \n",
       "1646                   Hand sanitizer    10000.0      0.0   \n",
       "1647                     Face shields    10000.0      0.0   \n",
       "1648                   Safety glasses     5000.0      0.0   \n",
       "\n",
       "                          DateCreated  \n",
       "1644 2020-07-14 10:22:40.322000+00:00  \n",
       "1650 2020-07-14 10:22:40.322000+00:00  \n",
       "1645 2020-07-14 10:22:40.322000+00:00  \n",
       "42   2020-07-14 10:22:40.322000+00:00  \n",
       "1649 2020-07-14 10:22:40.322000+00:00  \n",
       "1646 2020-07-14 10:22:40.322000+00:00  \n",
       "1647 2020-07-14 10:22:40.322000+00:00  \n",
       "1648 2020-07-14 10:22:40.322000+00:00  "
      ]
     },
     "execution_count": 4,
     "metadata": {},
     "output_type": "execute_result"
    }
   ],
   "source": [
    "original_donors[original_donors.DonorKey == '89a046dd-a8cf-4223-9bf0-2c8ab3dfedd4']"
   ]
  },
  {
   "cell_type": "code",
   "execution_count": 5,
   "metadata": {},
   "outputs": [],
   "source": [
    "type_dict = {\n",
    "    'Filtering facepiece respirators':'respirators',\n",
    "    '3D printed / laser cut face shields':'faceShields',\n",
    "    'Face shields':'faceShields',\n",
    "    'Surgical cap or bouffant cap':'surgicalCaps',\n",
    "    'Surgical/procedure masks':'surgicalMasks',\n",
    "    'Handmade masks':'handmadeMasks',\n",
    "    'Nitrile gloves':'nitrileGloves',\n",
    "    'Gowns':'gowns',\n",
    "    'Coveralls / bunny suits':'coveralls',\n",
    "    'Safety glasses':'safetyGlasses',\n",
    "    'Disposable booties':'disposableBooties',\n",
    "    'Hand sanitizer':'handSanitizer',\n",
    "    'Disinfecting wipes':'disinfectingWipes',\n",
    "    'Baby monitors / two way radios':'babyMonitors',\n",
    "    'Safety goggles':'safetyGoggles',\n",
    "    'Thermometers':'thermometers',\n",
    "    'Body Bag':'bodyBags',\n",
    "    'PAPR Shield':'paprShield',\n",
    "}"
   ]
  },
  {
   "cell_type": "markdown",
   "metadata": {},
   "source": [
    "# Recipients"
   ]
  },
  {
   "cell_type": "markdown",
   "metadata": {},
   "source": [
    "### Keep only the columns with date, facilityName, and the request for each PPE"
   ]
  },
  {
   "cell_type": "code",
   "execution_count": 6,
   "metadata": {},
   "outputs": [
    {
     "data": {
      "text/plain": [
       "13816"
      ]
     },
     "execution_count": 6,
     "metadata": {},
     "output_type": "execute_result"
    }
   ],
   "source": [
    "original_recipients['facilityKey'].nunique()"
   ]
  },
  {
   "cell_type": "code",
   "execution_count": 7,
   "metadata": {
    "scrolled": true
   },
   "outputs": [],
   "source": [
    "cols_to_keeps = ['facilityKey','postCode','createddate']\n",
    "cols_to_keeps.extend(set(type_dict.values()))\n",
    "mod_recipients = original_recipients.copy()[cols_to_keeps]"
   ]
  },
  {
   "cell_type": "markdown",
   "metadata": {},
   "source": [
    "### Remove lines where date is missing"
   ]
  },
  {
   "cell_type": "code",
   "execution_count": 8,
   "metadata": {},
   "outputs": [
    {
     "name": "stdout",
     "output_type": "stream",
     "text": [
      "From 13819 lines\n"
     ]
    }
   ],
   "source": [
    "print(f'From {len(mod_recipients)} lines')"
   ]
  },
  {
   "cell_type": "code",
   "execution_count": 9,
   "metadata": {},
   "outputs": [],
   "source": [
    "mod_recipients = mod_recipients[~mod_recipients[\"createddate\"].isna()]"
   ]
  },
  {
   "cell_type": "code",
   "execution_count": 10,
   "metadata": {},
   "outputs": [
    {
     "name": "stdout",
     "output_type": "stream",
     "text": [
      "To 13213 lines\n"
     ]
    }
   ],
   "source": [
    "print(f'To {len(mod_recipients)} lines')"
   ]
  },
  {
   "cell_type": "markdown",
   "metadata": {},
   "source": [
    "### Keep only zipcodes with only digits. And padleft with zeros"
   ]
  },
  {
   "cell_type": "code",
   "execution_count": 11,
   "metadata": {},
   "outputs": [
    {
     "name": "stdout",
     "output_type": "stream",
     "text": [
      "From 13213 lines\n"
     ]
    }
   ],
   "source": [
    "print(f'From {len(mod_recipients)} lines')"
   ]
  },
  {
   "cell_type": "code",
   "execution_count": 12,
   "metadata": {
    "scrolled": true
   },
   "outputs": [],
   "source": [
    "mod_recipients['postCode'] = mod_recipients['postCode'].apply(lambda s : str(s).zfill(5))"
   ]
  },
  {
   "cell_type": "code",
   "execution_count": 13,
   "metadata": {},
   "outputs": [
    {
     "data": {
      "text/plain": [
       "13213"
      ]
     },
     "execution_count": 13,
     "metadata": {},
     "output_type": "execute_result"
    }
   ],
   "source": [
    "len(mod_recipients)"
   ]
  },
  {
   "cell_type": "code",
   "execution_count": 14,
   "metadata": {
    "scrolled": true
   },
   "outputs": [],
   "source": [
    "mod_recipients = mod_recipients[mod_recipients['postCode'].str.isdigit()]"
   ]
  },
  {
   "cell_type": "code",
   "execution_count": 15,
   "metadata": {},
   "outputs": [
    {
     "data": {
      "text/plain": [
       "12751"
      ]
     },
     "execution_count": 15,
     "metadata": {},
     "output_type": "execute_result"
    }
   ],
   "source": [
    "len(mod_recipients)"
   ]
  },
  {
   "cell_type": "code",
   "execution_count": 16,
   "metadata": {},
   "outputs": [],
   "source": [
    "mod_recipients = mod_recipients[~mod_recipients['postCode'].isna()]"
   ]
  },
  {
   "cell_type": "code",
   "execution_count": 17,
   "metadata": {},
   "outputs": [
    {
     "data": {
      "text/plain": [
       "12751"
      ]
     },
     "execution_count": 17,
     "metadata": {},
     "output_type": "execute_result"
    }
   ],
   "source": [
    "len(mod_recipients)"
   ]
  },
  {
   "cell_type": "code",
   "execution_count": 18,
   "metadata": {},
   "outputs": [
    {
     "name": "stdout",
     "output_type": "stream",
     "text": [
      "To 12751 lines\n"
     ]
    }
   ],
   "source": [
    "print(f'To {len(mod_recipients)} lines')"
   ]
  },
  {
   "cell_type": "markdown",
   "metadata": {},
   "source": [
    "### Deal with nulls in requests and set negative requests to zero"
   ]
  },
  {
   "cell_type": "code",
   "execution_count": 19,
   "metadata": {},
   "outputs": [],
   "source": [
    "for c in set(type_dict.values()):\n",
    "    mod_recipients.loc[:,c] = mod_recipients[c].fillna(0)\n",
    "    mod_recipients.loc[mod_recipients[c]<0,c] = 0"
   ]
  },
  {
   "cell_type": "markdown",
   "metadata": {},
   "source": [
    "### Remove recipients with zero requests"
   ]
  },
  {
   "cell_type": "code",
   "execution_count": 20,
   "metadata": {},
   "outputs": [],
   "source": [
    "aaa = mod_recipients[set(type_dict.values())].sum(axis=1)\n",
    "mod_recipients = mod_recipients[aaa > 0]"
   ]
  },
  {
   "cell_type": "markdown",
   "metadata": {},
   "source": [
    "### Rename columns"
   ]
  },
  {
   "cell_type": "code",
   "execution_count": 21,
   "metadata": {},
   "outputs": [],
   "source": [
    "mod_recipients.rename(columns={'facilityKey':'rec_id','postCode':'zipcode','createddate':'date'},inplace=True)"
   ]
  },
  {
   "cell_type": "code",
   "execution_count": 22,
   "metadata": {
    "scrolled": false
   },
   "outputs": [
    {
     "data": {
      "text/html": [
       "<div>\n",
       "<style scoped>\n",
       "    .dataframe tbody tr th:only-of-type {\n",
       "        vertical-align: middle;\n",
       "    }\n",
       "\n",
       "    .dataframe tbody tr th {\n",
       "        vertical-align: top;\n",
       "    }\n",
       "\n",
       "    .dataframe thead th {\n",
       "        text-align: right;\n",
       "    }\n",
       "</style>\n",
       "<table border=\"1\" class=\"dataframe\">\n",
       "  <thead>\n",
       "    <tr style=\"text-align: right;\">\n",
       "      <th></th>\n",
       "      <th>rec_id</th>\n",
       "      <th>zipcode</th>\n",
       "      <th>date</th>\n",
       "      <th>disinfectingWipes</th>\n",
       "      <th>surgicalCaps</th>\n",
       "      <th>disposableBooties</th>\n",
       "      <th>respirators</th>\n",
       "      <th>handmadeMasks</th>\n",
       "      <th>nitrileGloves</th>\n",
       "      <th>coveralls</th>\n",
       "      <th>handSanitizer</th>\n",
       "      <th>safetyGlasses</th>\n",
       "      <th>bodyBags</th>\n",
       "      <th>gowns</th>\n",
       "      <th>faceShields</th>\n",
       "      <th>safetyGoggles</th>\n",
       "      <th>thermometers</th>\n",
       "      <th>surgicalMasks</th>\n",
       "      <th>paprShield</th>\n",
       "      <th>babyMonitors</th>\n",
       "    </tr>\n",
       "  </thead>\n",
       "  <tbody>\n",
       "    <tr>\n",
       "      <th>699</th>\n",
       "      <td>4320d44a-a8a7-4394-a842-8503153faa44</td>\n",
       "      <td>94609</td>\n",
       "      <td>2020-04-02 16:27:00+00:00</td>\n",
       "      <td>0</td>\n",
       "      <td>0</td>\n",
       "      <td>0</td>\n",
       "      <td>10000.0</td>\n",
       "      <td>0</td>\n",
       "      <td>10000</td>\n",
       "      <td>0</td>\n",
       "      <td>0</td>\n",
       "      <td>0</td>\n",
       "      <td>0</td>\n",
       "      <td>1000</td>\n",
       "      <td>5000</td>\n",
       "      <td>0</td>\n",
       "      <td>0</td>\n",
       "      <td>0</td>\n",
       "      <td>0</td>\n",
       "      <td>0</td>\n",
       "    </tr>\n",
       "    <tr>\n",
       "      <th>1957</th>\n",
       "      <td>0c33f512-d45f-4462-9703-f06d1add777a</td>\n",
       "      <td>91505</td>\n",
       "      <td>2020-04-02 16:35:00+00:00</td>\n",
       "      <td>4</td>\n",
       "      <td>0</td>\n",
       "      <td>0</td>\n",
       "      <td>9.0</td>\n",
       "      <td>9</td>\n",
       "      <td>5</td>\n",
       "      <td>0</td>\n",
       "      <td>4</td>\n",
       "      <td>0</td>\n",
       "      <td>0</td>\n",
       "      <td>9</td>\n",
       "      <td>9</td>\n",
       "      <td>0</td>\n",
       "      <td>0</td>\n",
       "      <td>0</td>\n",
       "      <td>0</td>\n",
       "      <td>0</td>\n",
       "    </tr>\n",
       "    <tr>\n",
       "      <th>690</th>\n",
       "      <td>6da9e3db-ffcd-49c5-a37e-c606eeb3e6d3</td>\n",
       "      <td>98208</td>\n",
       "      <td>2020-04-02 16:44:00+00:00</td>\n",
       "      <td>300</td>\n",
       "      <td>0</td>\n",
       "      <td>100</td>\n",
       "      <td>5.0</td>\n",
       "      <td>0</td>\n",
       "      <td>0</td>\n",
       "      <td>0</td>\n",
       "      <td>25</td>\n",
       "      <td>0</td>\n",
       "      <td>0</td>\n",
       "      <td>100</td>\n",
       "      <td>10</td>\n",
       "      <td>0</td>\n",
       "      <td>20</td>\n",
       "      <td>0</td>\n",
       "      <td>0</td>\n",
       "      <td>0</td>\n",
       "    </tr>\n",
       "    <tr>\n",
       "      <th>780</th>\n",
       "      <td>2206ab02-6714-4ea5-ac9a-134efc936974</td>\n",
       "      <td>45209</td>\n",
       "      <td>2020-04-02 16:47:00+00:00</td>\n",
       "      <td>50</td>\n",
       "      <td>0</td>\n",
       "      <td>0</td>\n",
       "      <td>200.0</td>\n",
       "      <td>100</td>\n",
       "      <td>100</td>\n",
       "      <td>0</td>\n",
       "      <td>100</td>\n",
       "      <td>0</td>\n",
       "      <td>0</td>\n",
       "      <td>400</td>\n",
       "      <td>200</td>\n",
       "      <td>0</td>\n",
       "      <td>50</td>\n",
       "      <td>0</td>\n",
       "      <td>0</td>\n",
       "      <td>0</td>\n",
       "    </tr>\n",
       "    <tr>\n",
       "      <th>227</th>\n",
       "      <td>5b9b0536-c071-4903-b513-a61c6d3fd3d4</td>\n",
       "      <td>73703</td>\n",
       "      <td>2020-04-02 16:54:00+00:00</td>\n",
       "      <td>0</td>\n",
       "      <td>0</td>\n",
       "      <td>0</td>\n",
       "      <td>10.0</td>\n",
       "      <td>0</td>\n",
       "      <td>0</td>\n",
       "      <td>0</td>\n",
       "      <td>4</td>\n",
       "      <td>0</td>\n",
       "      <td>0</td>\n",
       "      <td>30</td>\n",
       "      <td>0</td>\n",
       "      <td>0</td>\n",
       "      <td>2</td>\n",
       "      <td>0</td>\n",
       "      <td>0</td>\n",
       "      <td>0</td>\n",
       "    </tr>\n",
       "  </tbody>\n",
       "</table>\n",
       "</div>"
      ],
      "text/plain": [
       "                                    rec_id zipcode                      date  \\\n",
       "699   4320d44a-a8a7-4394-a842-8503153faa44   94609 2020-04-02 16:27:00+00:00   \n",
       "1957  0c33f512-d45f-4462-9703-f06d1add777a   91505 2020-04-02 16:35:00+00:00   \n",
       "690   6da9e3db-ffcd-49c5-a37e-c606eeb3e6d3   98208 2020-04-02 16:44:00+00:00   \n",
       "780   2206ab02-6714-4ea5-ac9a-134efc936974   45209 2020-04-02 16:47:00+00:00   \n",
       "227   5b9b0536-c071-4903-b513-a61c6d3fd3d4   73703 2020-04-02 16:54:00+00:00   \n",
       "\n",
       "      disinfectingWipes  surgicalCaps  disposableBooties  respirators  \\\n",
       "699                   0             0                  0      10000.0   \n",
       "1957                  4             0                  0          9.0   \n",
       "690                 300             0                100          5.0   \n",
       "780                  50             0                  0        200.0   \n",
       "227                   0             0                  0         10.0   \n",
       "\n",
       "      handmadeMasks  nitrileGloves  coveralls  handSanitizer  safetyGlasses  \\\n",
       "699               0          10000          0              0              0   \n",
       "1957              9              5          0              4              0   \n",
       "690               0              0          0             25              0   \n",
       "780             100            100          0            100              0   \n",
       "227               0              0          0              4              0   \n",
       "\n",
       "      bodyBags  gowns  faceShields  safetyGoggles  thermometers  \\\n",
       "699          0   1000         5000              0             0   \n",
       "1957         0      9            9              0             0   \n",
       "690          0    100           10              0            20   \n",
       "780          0    400          200              0            50   \n",
       "227          0     30            0              0             2   \n",
       "\n",
       "      surgicalMasks  paprShield  babyMonitors  \n",
       "699               0           0             0  \n",
       "1957              0           0             0  \n",
       "690               0           0             0  \n",
       "780               0           0             0  \n",
       "227               0           0             0  "
      ]
     },
     "execution_count": 22,
     "metadata": {},
     "output_type": "execute_result"
    }
   ],
   "source": [
    "mod_recipients.head()"
   ]
  },
  {
   "cell_type": "markdown",
   "metadata": {},
   "source": [
    "# Donors"
   ]
  },
  {
   "cell_type": "code",
   "execution_count": 23,
   "metadata": {
    "scrolled": true
   },
   "outputs": [
    {
     "data": {
      "text/html": [
       "<div>\n",
       "<style scoped>\n",
       "    .dataframe tbody tr th:only-of-type {\n",
       "        vertical-align: middle;\n",
       "    }\n",
       "\n",
       "    .dataframe tbody tr th {\n",
       "        vertical-align: top;\n",
       "    }\n",
       "\n",
       "    .dataframe thead th {\n",
       "        text-align: right;\n",
       "    }\n",
       "</style>\n",
       "<table border=\"1\" class=\"dataframe\">\n",
       "  <thead>\n",
       "    <tr style=\"text-align: right;\">\n",
       "      <th></th>\n",
       "      <th>DonorKey</th>\n",
       "      <th>DateCreated</th>\n",
       "      <th>PostCode</th>\n",
       "      <th>EquipmentType</th>\n",
       "      <th>UnopenQty</th>\n",
       "    </tr>\n",
       "  </thead>\n",
       "  <tbody>\n",
       "    <tr>\n",
       "      <th>469</th>\n",
       "      <td>e6dd5103-1e80-499f-8b41-4258497cfb34</td>\n",
       "      <td>2020-04-09 13:08:00+00:00</td>\n",
       "      <td>33458</td>\n",
       "      <td>3D printed / laser cut face shields</td>\n",
       "      <td>10.0</td>\n",
       "    </tr>\n",
       "    <tr>\n",
       "      <th>470</th>\n",
       "      <td>1dd1ced6-2c35-4a64-8b7c-3dcaf4814f13</td>\n",
       "      <td>2020-04-09 13:36:00+00:00</td>\n",
       "      <td>6084</td>\n",
       "      <td>3D printed / laser cut face shields</td>\n",
       "      <td>1.0</td>\n",
       "    </tr>\n",
       "    <tr>\n",
       "      <th>327</th>\n",
       "      <td>b598e546-dd8e-4978-b31a-92fc53b70cdf</td>\n",
       "      <td>2020-04-09 13:53:00+00:00</td>\n",
       "      <td>55110</td>\n",
       "      <td>3D printed / laser cut face shields</td>\n",
       "      <td>3000.0</td>\n",
       "    </tr>\n",
       "    <tr>\n",
       "      <th>328</th>\n",
       "      <td>5f7fe93a-8943-4cde-bbb8-41ff8ba9bc56</td>\n",
       "      <td>2020-04-09 14:24:00+00:00</td>\n",
       "      <td>19128</td>\n",
       "      <td>3D printed / laser cut face shields</td>\n",
       "      <td>5.0</td>\n",
       "    </tr>\n",
       "    <tr>\n",
       "      <th>329</th>\n",
       "      <td>7bbc52ad-1462-4419-9403-666a89fdbec6</td>\n",
       "      <td>2020-04-09 17:52:00+00:00</td>\n",
       "      <td>95379</td>\n",
       "      <td>3D printed / laser cut face shields</td>\n",
       "      <td>10.0</td>\n",
       "    </tr>\n",
       "    <tr>\n",
       "      <th>...</th>\n",
       "      <td>...</td>\n",
       "      <td>...</td>\n",
       "      <td>...</td>\n",
       "      <td>...</td>\n",
       "      <td>...</td>\n",
       "    </tr>\n",
       "    <tr>\n",
       "      <th>1708</th>\n",
       "      <td>37573f01-1a35-4483-9d87-62c99cdeb148</td>\n",
       "      <td>2020-07-18 12:11:44.881000+00:00</td>\n",
       "      <td>57701</td>\n",
       "      <td>Handmade masks</td>\n",
       "      <td>50.0</td>\n",
       "    </tr>\n",
       "    <tr>\n",
       "      <th>1667</th>\n",
       "      <td>f154b325-3546-48b9-98d8-718d62cfc548</td>\n",
       "      <td>2020-07-19 11:40:30.788000+00:00</td>\n",
       "      <td>8521NK</td>\n",
       "      <td>Filtering facepiece respirators</td>\n",
       "      <td>200000.0</td>\n",
       "    </tr>\n",
       "    <tr>\n",
       "      <th>1703</th>\n",
       "      <td>65b6ee3f-ff9d-4a6f-84ed-fdd42fd21e2f</td>\n",
       "      <td>2020-07-19 20:15:07.763000+00:00</td>\n",
       "      <td>L6E1R7</td>\n",
       "      <td>Handmade masks</td>\n",
       "      <td>20.0</td>\n",
       "    </tr>\n",
       "    <tr>\n",
       "      <th>1690</th>\n",
       "      <td>8e68449c-da32-4d55-8153-fa64677914f0</td>\n",
       "      <td>2020-07-19 23:13:57.061000+00:00</td>\n",
       "      <td>H9x1500</td>\n",
       "      <td>Filtering facepiece respirators</td>\n",
       "      <td>25000.0</td>\n",
       "    </tr>\n",
       "    <tr>\n",
       "      <th>1695</th>\n",
       "      <td>c9054d5a-8c3c-4fa5-bd74-f15ad3e35cce</td>\n",
       "      <td>2020-07-20 13:41:30.347000+00:00</td>\n",
       "      <td>19104</td>\n",
       "      <td>Surgical/procedure masks</td>\n",
       "      <td>100000.0</td>\n",
       "    </tr>\n",
       "  </tbody>\n",
       "</table>\n",
       "<p>1034 rows × 5 columns</p>\n",
       "</div>"
      ],
      "text/plain": [
       "                                  DonorKey                      DateCreated  \\\n",
       "469   e6dd5103-1e80-499f-8b41-4258497cfb34        2020-04-09 13:08:00+00:00   \n",
       "470   1dd1ced6-2c35-4a64-8b7c-3dcaf4814f13        2020-04-09 13:36:00+00:00   \n",
       "327   b598e546-dd8e-4978-b31a-92fc53b70cdf        2020-04-09 13:53:00+00:00   \n",
       "328   5f7fe93a-8943-4cde-bbb8-41ff8ba9bc56        2020-04-09 14:24:00+00:00   \n",
       "329   7bbc52ad-1462-4419-9403-666a89fdbec6        2020-04-09 17:52:00+00:00   \n",
       "...                                    ...                              ...   \n",
       "1708  37573f01-1a35-4483-9d87-62c99cdeb148 2020-07-18 12:11:44.881000+00:00   \n",
       "1667  f154b325-3546-48b9-98d8-718d62cfc548 2020-07-19 11:40:30.788000+00:00   \n",
       "1703  65b6ee3f-ff9d-4a6f-84ed-fdd42fd21e2f 2020-07-19 20:15:07.763000+00:00   \n",
       "1690  8e68449c-da32-4d55-8153-fa64677914f0 2020-07-19 23:13:57.061000+00:00   \n",
       "1695  c9054d5a-8c3c-4fa5-bd74-f15ad3e35cce 2020-07-20 13:41:30.347000+00:00   \n",
       "\n",
       "     PostCode                        EquipmentType  UnopenQty  \n",
       "469     33458  3D printed / laser cut face shields       10.0  \n",
       "470      6084  3D printed / laser cut face shields        1.0  \n",
       "327     55110  3D printed / laser cut face shields     3000.0  \n",
       "328     19128  3D printed / laser cut face shields        5.0  \n",
       "329     95379  3D printed / laser cut face shields       10.0  \n",
       "...       ...                                  ...        ...  \n",
       "1708    57701                       Handmade masks       50.0  \n",
       "1667   8521NK      Filtering facepiece respirators   200000.0  \n",
       "1703   L6E1R7                       Handmade masks       20.0  \n",
       "1690  H9x1500      Filtering facepiece respirators    25000.0  \n",
       "1695    19104             Surgical/procedure masks   100000.0  \n",
       "\n",
       "[1034 rows x 5 columns]"
      ]
     },
     "execution_count": 23,
     "metadata": {},
     "output_type": "execute_result"
    }
   ],
   "source": [
    "mod_donors = original_donors[['DonorKey','DateCreated','PostCode','EquipmentType','UnopenQty']]\n",
    "mod_donors = mod_donors[mod_donors['UnopenQty']>0]\n",
    "mod_donors"
   ]
  },
  {
   "cell_type": "markdown",
   "metadata": {},
   "source": [
    "### Keep only zipcodes with only digits. And padleft with zeros"
   ]
  },
  {
   "cell_type": "code",
   "execution_count": 24,
   "metadata": {
    "scrolled": true
   },
   "outputs": [
    {
     "name": "stdout",
     "output_type": "stream",
     "text": [
      "From 1034 lines\n"
     ]
    }
   ],
   "source": [
    "print(f'From {len(mod_donors)} lines')"
   ]
  },
  {
   "cell_type": "code",
   "execution_count": 25,
   "metadata": {
    "scrolled": true
   },
   "outputs": [],
   "source": [
    "mod_donors['PostCode'] = mod_donors['PostCode'].apply(lambda s : str(s).zfill(5))"
   ]
  },
  {
   "cell_type": "code",
   "execution_count": 26,
   "metadata": {
    "scrolled": true
   },
   "outputs": [],
   "source": [
    "mod_donors = mod_donors[mod_donors['PostCode'].str.isdigit()]"
   ]
  },
  {
   "cell_type": "code",
   "execution_count": 27,
   "metadata": {},
   "outputs": [],
   "source": [
    "mod_donors = mod_donors[~mod_donors['PostCode'].isna()]"
   ]
  },
  {
   "cell_type": "code",
   "execution_count": 28,
   "metadata": {},
   "outputs": [
    {
     "name": "stdout",
     "output_type": "stream",
     "text": [
      "To 1024 lines\n"
     ]
    }
   ],
   "source": [
    "print(f'To {len(mod_donors)} lines')"
   ]
  },
  {
   "cell_type": "markdown",
   "metadata": {},
   "source": [
    "### Set Qty as the max between UnopenQty and OpenQty (check with Rohit)"
   ]
  },
  {
   "cell_type": "code",
   "execution_count": 29,
   "metadata": {},
   "outputs": [],
   "source": [
    "mod_donors['Qty']= mod_donors['UnopenQty']"
   ]
  },
  {
   "cell_type": "code",
   "execution_count": 30,
   "metadata": {},
   "outputs": [],
   "source": [
    "mod_donors.drop(columns=['UnopenQty'],inplace=True)"
   ]
  },
  {
   "cell_type": "markdown",
   "metadata": {},
   "source": [
    "### Use dictionary type_dict to change names of PPE so that they match the donor DataFrame"
   ]
  },
  {
   "cell_type": "code",
   "execution_count": 31,
   "metadata": {},
   "outputs": [],
   "source": [
    "mod_donors.loc[:,'EquipmentType'] = mod_donors['EquipmentType'].replace(type_dict)"
   ]
  },
  {
   "cell_type": "markdown",
   "metadata": {},
   "source": [
    "### Rename columns"
   ]
  },
  {
   "cell_type": "code",
   "execution_count": 32,
   "metadata": {},
   "outputs": [],
   "source": [
    "mod_donors.rename(columns={'DonorKey':'don_id','DateCreated':'date','PostCode':'zipcode','EquipmentType':'ppe','Qty':'qty'},inplace=True)"
   ]
  },
  {
   "cell_type": "code",
   "execution_count": 33,
   "metadata": {
    "scrolled": false
   },
   "outputs": [
    {
     "data": {
      "text/html": [
       "<div>\n",
       "<style scoped>\n",
       "    .dataframe tbody tr th:only-of-type {\n",
       "        vertical-align: middle;\n",
       "    }\n",
       "\n",
       "    .dataframe tbody tr th {\n",
       "        vertical-align: top;\n",
       "    }\n",
       "\n",
       "    .dataframe thead th {\n",
       "        text-align: right;\n",
       "    }\n",
       "</style>\n",
       "<table border=\"1\" class=\"dataframe\">\n",
       "  <thead>\n",
       "    <tr style=\"text-align: right;\">\n",
       "      <th></th>\n",
       "      <th>don_id</th>\n",
       "      <th>date</th>\n",
       "      <th>zipcode</th>\n",
       "      <th>ppe</th>\n",
       "      <th>qty</th>\n",
       "    </tr>\n",
       "  </thead>\n",
       "  <tbody>\n",
       "    <tr>\n",
       "      <th>469</th>\n",
       "      <td>e6dd5103-1e80-499f-8b41-4258497cfb34</td>\n",
       "      <td>2020-04-09 13:08:00+00:00</td>\n",
       "      <td>33458</td>\n",
       "      <td>faceShields</td>\n",
       "      <td>10.0</td>\n",
       "    </tr>\n",
       "    <tr>\n",
       "      <th>470</th>\n",
       "      <td>1dd1ced6-2c35-4a64-8b7c-3dcaf4814f13</td>\n",
       "      <td>2020-04-09 13:36:00+00:00</td>\n",
       "      <td>06084</td>\n",
       "      <td>faceShields</td>\n",
       "      <td>1.0</td>\n",
       "    </tr>\n",
       "    <tr>\n",
       "      <th>327</th>\n",
       "      <td>b598e546-dd8e-4978-b31a-92fc53b70cdf</td>\n",
       "      <td>2020-04-09 13:53:00+00:00</td>\n",
       "      <td>55110</td>\n",
       "      <td>faceShields</td>\n",
       "      <td>3000.0</td>\n",
       "    </tr>\n",
       "    <tr>\n",
       "      <th>328</th>\n",
       "      <td>5f7fe93a-8943-4cde-bbb8-41ff8ba9bc56</td>\n",
       "      <td>2020-04-09 14:24:00+00:00</td>\n",
       "      <td>19128</td>\n",
       "      <td>faceShields</td>\n",
       "      <td>5.0</td>\n",
       "    </tr>\n",
       "    <tr>\n",
       "      <th>329</th>\n",
       "      <td>7bbc52ad-1462-4419-9403-666a89fdbec6</td>\n",
       "      <td>2020-04-09 17:52:00+00:00</td>\n",
       "      <td>95379</td>\n",
       "      <td>faceShields</td>\n",
       "      <td>10.0</td>\n",
       "    </tr>\n",
       "  </tbody>\n",
       "</table>\n",
       "</div>"
      ],
      "text/plain": [
       "                                   don_id                      date zipcode  \\\n",
       "469  e6dd5103-1e80-499f-8b41-4258497cfb34 2020-04-09 13:08:00+00:00   33458   \n",
       "470  1dd1ced6-2c35-4a64-8b7c-3dcaf4814f13 2020-04-09 13:36:00+00:00   06084   \n",
       "327  b598e546-dd8e-4978-b31a-92fc53b70cdf 2020-04-09 13:53:00+00:00   55110   \n",
       "328  5f7fe93a-8943-4cde-bbb8-41ff8ba9bc56 2020-04-09 14:24:00+00:00   19128   \n",
       "329  7bbc52ad-1462-4419-9403-666a89fdbec6 2020-04-09 17:52:00+00:00   95379   \n",
       "\n",
       "             ppe     qty  \n",
       "469  faceShields    10.0  \n",
       "470  faceShields     1.0  \n",
       "327  faceShields  3000.0  \n",
       "328  faceShields     5.0  \n",
       "329  faceShields    10.0  "
      ]
     },
     "execution_count": 33,
     "metadata": {},
     "output_type": "execute_result"
    }
   ],
   "source": [
    "mod_donors.head()"
   ]
  },
  {
   "cell_type": "markdown",
   "metadata": {},
   "source": [
    "# Distance Matrix"
   ]
  },
  {
   "cell_type": "code",
   "execution_count": 34,
   "metadata": {},
   "outputs": [],
   "source": [
    "import pgeocode\n",
    "dist_calc = pgeocode.GeoDistance('US')"
   ]
  },
  {
   "cell_type": "code",
   "execution_count": 35,
   "metadata": {},
   "outputs": [
    {
     "data": {
      "text/html": [
       "<div>\n",
       "<style scoped>\n",
       "    .dataframe tbody tr th:only-of-type {\n",
       "        vertical-align: middle;\n",
       "    }\n",
       "\n",
       "    .dataframe tbody tr th {\n",
       "        vertical-align: top;\n",
       "    }\n",
       "\n",
       "    .dataframe thead th {\n",
       "        text-align: right;\n",
       "    }\n",
       "</style>\n",
       "<table border=\"1\" class=\"dataframe\">\n",
       "  <thead>\n",
       "    <tr style=\"text-align: right;\">\n",
       "      <th></th>\n",
       "      <th>rec_id</th>\n",
       "      <th>zipcode</th>\n",
       "      <th>date</th>\n",
       "      <th>ppe</th>\n",
       "      <th>qty</th>\n",
       "    </tr>\n",
       "  </thead>\n",
       "  <tbody>\n",
       "    <tr>\n",
       "      <th>3</th>\n",
       "      <td>4320d44a-a8a7-4394-a842-8503153faa44</td>\n",
       "      <td>94609</td>\n",
       "      <td>2020-04-02 16:27:00+00:00</td>\n",
       "      <td>respirators</td>\n",
       "      <td>10000.0</td>\n",
       "    </tr>\n",
       "    <tr>\n",
       "      <th>5</th>\n",
       "      <td>4320d44a-a8a7-4394-a842-8503153faa44</td>\n",
       "      <td>94609</td>\n",
       "      <td>2020-04-02 16:27:00+00:00</td>\n",
       "      <td>nitrileGloves</td>\n",
       "      <td>10000.0</td>\n",
       "    </tr>\n",
       "    <tr>\n",
       "      <th>10</th>\n",
       "      <td>4320d44a-a8a7-4394-a842-8503153faa44</td>\n",
       "      <td>94609</td>\n",
       "      <td>2020-04-02 16:27:00+00:00</td>\n",
       "      <td>gowns</td>\n",
       "      <td>1000.0</td>\n",
       "    </tr>\n",
       "    <tr>\n",
       "      <th>11</th>\n",
       "      <td>4320d44a-a8a7-4394-a842-8503153faa44</td>\n",
       "      <td>94609</td>\n",
       "      <td>2020-04-02 16:27:00+00:00</td>\n",
       "      <td>faceShields</td>\n",
       "      <td>5000.0</td>\n",
       "    </tr>\n",
       "    <tr>\n",
       "      <th>17</th>\n",
       "      <td>0c33f512-d45f-4462-9703-f06d1add777a</td>\n",
       "      <td>91505</td>\n",
       "      <td>2020-04-02 16:35:00+00:00</td>\n",
       "      <td>disinfectingWipes</td>\n",
       "      <td>4.0</td>\n",
       "    </tr>\n",
       "    <tr>\n",
       "      <th>...</th>\n",
       "      <td>...</td>\n",
       "      <td>...</td>\n",
       "      <td>...</td>\n",
       "      <td>...</td>\n",
       "      <td>...</td>\n",
       "    </tr>\n",
       "    <tr>\n",
       "      <th>109265</th>\n",
       "      <td>8e08b25f-a7dc-491c-81af-a848cc481ef0</td>\n",
       "      <td>91204</td>\n",
       "      <td>2020-07-17 08:14:58.249000+00:00</td>\n",
       "      <td>coveralls</td>\n",
       "      <td>10.0</td>\n",
       "    </tr>\n",
       "    <tr>\n",
       "      <th>109273</th>\n",
       "      <td>8e08b25f-a7dc-491c-81af-a848cc481ef0</td>\n",
       "      <td>91204</td>\n",
       "      <td>2020-07-17 08:14:58.249000+00:00</td>\n",
       "      <td>surgicalMasks</td>\n",
       "      <td>300.0</td>\n",
       "    </tr>\n",
       "    <tr>\n",
       "      <th>109274</th>\n",
       "      <td>8e08b25f-a7dc-491c-81af-a848cc481ef0</td>\n",
       "      <td>91204</td>\n",
       "      <td>2020-07-17 08:14:58.249000+00:00</td>\n",
       "      <td>paprShield</td>\n",
       "      <td>50.0</td>\n",
       "    </tr>\n",
       "    <tr>\n",
       "      <th>109278</th>\n",
       "      <td>a5128eb4-d067-44b5-90c7-8a1313ea2bda</td>\n",
       "      <td>77030</td>\n",
       "      <td>2020-07-17 14:25:54.605000+00:00</td>\n",
       "      <td>disposableBooties</td>\n",
       "      <td>1.0</td>\n",
       "    </tr>\n",
       "    <tr>\n",
       "      <th>109279</th>\n",
       "      <td>a5128eb4-d067-44b5-90c7-8a1313ea2bda</td>\n",
       "      <td>77030</td>\n",
       "      <td>2020-07-17 14:25:54.605000+00:00</td>\n",
       "      <td>respirators</td>\n",
       "      <td>1.0</td>\n",
       "    </tr>\n",
       "  </tbody>\n",
       "</table>\n",
       "<p>31355 rows × 5 columns</p>\n",
       "</div>"
      ],
      "text/plain": [
       "                                      rec_id zipcode  \\\n",
       "3       4320d44a-a8a7-4394-a842-8503153faa44   94609   \n",
       "5       4320d44a-a8a7-4394-a842-8503153faa44   94609   \n",
       "10      4320d44a-a8a7-4394-a842-8503153faa44   94609   \n",
       "11      4320d44a-a8a7-4394-a842-8503153faa44   94609   \n",
       "17      0c33f512-d45f-4462-9703-f06d1add777a   91505   \n",
       "...                                      ...     ...   \n",
       "109265  8e08b25f-a7dc-491c-81af-a848cc481ef0   91204   \n",
       "109273  8e08b25f-a7dc-491c-81af-a848cc481ef0   91204   \n",
       "109274  8e08b25f-a7dc-491c-81af-a848cc481ef0   91204   \n",
       "109278  a5128eb4-d067-44b5-90c7-8a1313ea2bda   77030   \n",
       "109279  a5128eb4-d067-44b5-90c7-8a1313ea2bda   77030   \n",
       "\n",
       "                                   date                ppe      qty  \n",
       "3             2020-04-02 16:27:00+00:00        respirators  10000.0  \n",
       "5             2020-04-02 16:27:00+00:00      nitrileGloves  10000.0  \n",
       "10            2020-04-02 16:27:00+00:00              gowns   1000.0  \n",
       "11            2020-04-02 16:27:00+00:00        faceShields   5000.0  \n",
       "17            2020-04-02 16:35:00+00:00  disinfectingWipes      4.0  \n",
       "...                                 ...                ...      ...  \n",
       "109265 2020-07-17 08:14:58.249000+00:00          coveralls     10.0  \n",
       "109273 2020-07-17 08:14:58.249000+00:00      surgicalMasks    300.0  \n",
       "109274 2020-07-17 08:14:58.249000+00:00         paprShield     50.0  \n",
       "109278 2020-07-17 14:25:54.605000+00:00  disposableBooties      1.0  \n",
       "109279 2020-07-17 14:25:54.605000+00:00        respirators      1.0  \n",
       "\n",
       "[31355 rows x 5 columns]"
      ]
     },
     "execution_count": 35,
     "metadata": {},
     "output_type": "execute_result"
    }
   ],
   "source": [
    "rrr = mod_recipients.set_index(['rec_id','zipcode','date']).stack().to_frame().reset_index()\n",
    "rrr.columns=['rec_id','zipcode','date','ppe','qty']\n",
    "rrr = rrr[rrr.qty>0]\n",
    "rrr"
   ]
  },
  {
   "cell_type": "code",
   "execution_count": 36,
   "metadata": {
    "scrolled": true
   },
   "outputs": [
    {
     "data": {
      "text/html": [
       "<div>\n",
       "<style scoped>\n",
       "    .dataframe tbody tr th:only-of-type {\n",
       "        vertical-align: middle;\n",
       "    }\n",
       "\n",
       "    .dataframe tbody tr th {\n",
       "        vertical-align: top;\n",
       "    }\n",
       "\n",
       "    .dataframe thead th {\n",
       "        text-align: right;\n",
       "    }\n",
       "</style>\n",
       "<table border=\"1\" class=\"dataframe\">\n",
       "  <thead>\n",
       "    <tr style=\"text-align: right;\">\n",
       "      <th></th>\n",
       "      <th>don_id</th>\n",
       "      <th>date_don</th>\n",
       "      <th>zipcode_don</th>\n",
       "      <th>ppe</th>\n",
       "      <th>qty_don</th>\n",
       "      <th>rec_id</th>\n",
       "      <th>zipcode_rec</th>\n",
       "      <th>date_rec</th>\n",
       "      <th>qty_rec</th>\n",
       "    </tr>\n",
       "  </thead>\n",
       "  <tbody>\n",
       "    <tr>\n",
       "      <th>0</th>\n",
       "      <td>e6dd5103-1e80-499f-8b41-4258497cfb34</td>\n",
       "      <td>2020-04-09 13:08:00+00:00</td>\n",
       "      <td>33458</td>\n",
       "      <td>faceShields</td>\n",
       "      <td>10.0</td>\n",
       "      <td>4320d44a-a8a7-4394-a842-8503153faa44</td>\n",
       "      <td>94609</td>\n",
       "      <td>2020-04-02 16:27:00+00:00</td>\n",
       "      <td>5000.0</td>\n",
       "    </tr>\n",
       "    <tr>\n",
       "      <th>1</th>\n",
       "      <td>e6dd5103-1e80-499f-8b41-4258497cfb34</td>\n",
       "      <td>2020-04-09 13:08:00+00:00</td>\n",
       "      <td>33458</td>\n",
       "      <td>faceShields</td>\n",
       "      <td>10.0</td>\n",
       "      <td>0c33f512-d45f-4462-9703-f06d1add777a</td>\n",
       "      <td>91505</td>\n",
       "      <td>2020-04-02 16:35:00+00:00</td>\n",
       "      <td>9.0</td>\n",
       "    </tr>\n",
       "    <tr>\n",
       "      <th>2</th>\n",
       "      <td>e6dd5103-1e80-499f-8b41-4258497cfb34</td>\n",
       "      <td>2020-04-09 13:08:00+00:00</td>\n",
       "      <td>33458</td>\n",
       "      <td>faceShields</td>\n",
       "      <td>10.0</td>\n",
       "      <td>6da9e3db-ffcd-49c5-a37e-c606eeb3e6d3</td>\n",
       "      <td>98208</td>\n",
       "      <td>2020-04-02 16:44:00+00:00</td>\n",
       "      <td>10.0</td>\n",
       "    </tr>\n",
       "    <tr>\n",
       "      <th>3</th>\n",
       "      <td>e6dd5103-1e80-499f-8b41-4258497cfb34</td>\n",
       "      <td>2020-04-09 13:08:00+00:00</td>\n",
       "      <td>33458</td>\n",
       "      <td>faceShields</td>\n",
       "      <td>10.0</td>\n",
       "      <td>2206ab02-6714-4ea5-ac9a-134efc936974</td>\n",
       "      <td>45209</td>\n",
       "      <td>2020-04-02 16:47:00+00:00</td>\n",
       "      <td>200.0</td>\n",
       "    </tr>\n",
       "    <tr>\n",
       "      <th>4</th>\n",
       "      <td>e6dd5103-1e80-499f-8b41-4258497cfb34</td>\n",
       "      <td>2020-04-09 13:08:00+00:00</td>\n",
       "      <td>33458</td>\n",
       "      <td>faceShields</td>\n",
       "      <td>10.0</td>\n",
       "      <td>e62244d6-df43-44b3-8622-b7dc6ada4a08</td>\n",
       "      <td>92683</td>\n",
       "      <td>2020-04-02 16:55:00+00:00</td>\n",
       "      <td>100.0</td>\n",
       "    </tr>\n",
       "    <tr>\n",
       "      <th>...</th>\n",
       "      <td>...</td>\n",
       "      <td>...</td>\n",
       "      <td>...</td>\n",
       "      <td>...</td>\n",
       "      <td>...</td>\n",
       "      <td>...</td>\n",
       "      <td>...</td>\n",
       "      <td>...</td>\n",
       "      <td>...</td>\n",
       "    </tr>\n",
       "    <tr>\n",
       "      <th>3200992</th>\n",
       "      <td>ae3e3190-58c1-41f0-8925-3a4e9d8b30f6</td>\n",
       "      <td>2020-05-27 01:40:58+00:00</td>\n",
       "      <td>70525</td>\n",
       "      <td>bodyBags</td>\n",
       "      <td>10.0</td>\n",
       "      <td>1ef916f1-2fe0-4de9-a0b2-6981a0eb34c8</td>\n",
       "      <td>41501</td>\n",
       "      <td>2020-07-12 21:57:10.032000+00:00</td>\n",
       "      <td>7.0</td>\n",
       "    </tr>\n",
       "    <tr>\n",
       "      <th>3200993</th>\n",
       "      <td>ae3e3190-58c1-41f0-8925-3a4e9d8b30f6</td>\n",
       "      <td>2020-05-27 01:40:58+00:00</td>\n",
       "      <td>70525</td>\n",
       "      <td>bodyBags</td>\n",
       "      <td>10.0</td>\n",
       "      <td>d54a1f90-3e84-4d1a-ac55-d296dcbf04dc</td>\n",
       "      <td>77045</td>\n",
       "      <td>2020-07-13 04:39:04.804000+00:00</td>\n",
       "      <td>100.0</td>\n",
       "    </tr>\n",
       "    <tr>\n",
       "      <th>3200994</th>\n",
       "      <td>ae3e3190-58c1-41f0-8925-3a4e9d8b30f6</td>\n",
       "      <td>2020-05-27 01:40:58+00:00</td>\n",
       "      <td>70525</td>\n",
       "      <td>bodyBags</td>\n",
       "      <td>10.0</td>\n",
       "      <td>be82b38f-8727-4277-9641-f300856b3a64</td>\n",
       "      <td>00265</td>\n",
       "      <td>2020-07-14 08:44:26.061000+00:00</td>\n",
       "      <td>1000.0</td>\n",
       "    </tr>\n",
       "    <tr>\n",
       "      <th>3200995</th>\n",
       "      <td>ae3e3190-58c1-41f0-8925-3a4e9d8b30f6</td>\n",
       "      <td>2020-05-27 01:40:58+00:00</td>\n",
       "      <td>70525</td>\n",
       "      <td>bodyBags</td>\n",
       "      <td>10.0</td>\n",
       "      <td>fe211921-0125-4c08-89c6-f1c386f5e60a</td>\n",
       "      <td>77082</td>\n",
       "      <td>2020-07-15 15:44:03.267000+00:00</td>\n",
       "      <td>20.0</td>\n",
       "    </tr>\n",
       "    <tr>\n",
       "      <th>3200996</th>\n",
       "      <td>ae3e3190-58c1-41f0-8925-3a4e9d8b30f6</td>\n",
       "      <td>2020-05-27 01:40:58+00:00</td>\n",
       "      <td>70525</td>\n",
       "      <td>bodyBags</td>\n",
       "      <td>10.0</td>\n",
       "      <td>966d16d6-001e-4fb8-82ed-0168d6b3e578</td>\n",
       "      <td>29118</td>\n",
       "      <td>2020-07-16 16:45:14.774000+00:00</td>\n",
       "      <td>50.0</td>\n",
       "    </tr>\n",
       "  </tbody>\n",
       "</table>\n",
       "<p>3200997 rows × 9 columns</p>\n",
       "</div>"
      ],
      "text/plain": [
       "                                       don_id                  date_don  \\\n",
       "0        e6dd5103-1e80-499f-8b41-4258497cfb34 2020-04-09 13:08:00+00:00   \n",
       "1        e6dd5103-1e80-499f-8b41-4258497cfb34 2020-04-09 13:08:00+00:00   \n",
       "2        e6dd5103-1e80-499f-8b41-4258497cfb34 2020-04-09 13:08:00+00:00   \n",
       "3        e6dd5103-1e80-499f-8b41-4258497cfb34 2020-04-09 13:08:00+00:00   \n",
       "4        e6dd5103-1e80-499f-8b41-4258497cfb34 2020-04-09 13:08:00+00:00   \n",
       "...                                       ...                       ...   \n",
       "3200992  ae3e3190-58c1-41f0-8925-3a4e9d8b30f6 2020-05-27 01:40:58+00:00   \n",
       "3200993  ae3e3190-58c1-41f0-8925-3a4e9d8b30f6 2020-05-27 01:40:58+00:00   \n",
       "3200994  ae3e3190-58c1-41f0-8925-3a4e9d8b30f6 2020-05-27 01:40:58+00:00   \n",
       "3200995  ae3e3190-58c1-41f0-8925-3a4e9d8b30f6 2020-05-27 01:40:58+00:00   \n",
       "3200996  ae3e3190-58c1-41f0-8925-3a4e9d8b30f6 2020-05-27 01:40:58+00:00   \n",
       "\n",
       "        zipcode_don          ppe  qty_don  \\\n",
       "0             33458  faceShields     10.0   \n",
       "1             33458  faceShields     10.0   \n",
       "2             33458  faceShields     10.0   \n",
       "3             33458  faceShields     10.0   \n",
       "4             33458  faceShields     10.0   \n",
       "...             ...          ...      ...   \n",
       "3200992       70525     bodyBags     10.0   \n",
       "3200993       70525     bodyBags     10.0   \n",
       "3200994       70525     bodyBags     10.0   \n",
       "3200995       70525     bodyBags     10.0   \n",
       "3200996       70525     bodyBags     10.0   \n",
       "\n",
       "                                       rec_id zipcode_rec  \\\n",
       "0        4320d44a-a8a7-4394-a842-8503153faa44       94609   \n",
       "1        0c33f512-d45f-4462-9703-f06d1add777a       91505   \n",
       "2        6da9e3db-ffcd-49c5-a37e-c606eeb3e6d3       98208   \n",
       "3        2206ab02-6714-4ea5-ac9a-134efc936974       45209   \n",
       "4        e62244d6-df43-44b3-8622-b7dc6ada4a08       92683   \n",
       "...                                       ...         ...   \n",
       "3200992  1ef916f1-2fe0-4de9-a0b2-6981a0eb34c8       41501   \n",
       "3200993  d54a1f90-3e84-4d1a-ac55-d296dcbf04dc       77045   \n",
       "3200994  be82b38f-8727-4277-9641-f300856b3a64       00265   \n",
       "3200995  fe211921-0125-4c08-89c6-f1c386f5e60a       77082   \n",
       "3200996  966d16d6-001e-4fb8-82ed-0168d6b3e578       29118   \n",
       "\n",
       "                                date_rec  qty_rec  \n",
       "0              2020-04-02 16:27:00+00:00   5000.0  \n",
       "1              2020-04-02 16:35:00+00:00      9.0  \n",
       "2              2020-04-02 16:44:00+00:00     10.0  \n",
       "3              2020-04-02 16:47:00+00:00    200.0  \n",
       "4              2020-04-02 16:55:00+00:00    100.0  \n",
       "...                                  ...      ...  \n",
       "3200992 2020-07-12 21:57:10.032000+00:00      7.0  \n",
       "3200993 2020-07-13 04:39:04.804000+00:00    100.0  \n",
       "3200994 2020-07-14 08:44:26.061000+00:00   1000.0  \n",
       "3200995 2020-07-15 15:44:03.267000+00:00     20.0  \n",
       "3200996 2020-07-16 16:45:14.774000+00:00     50.0  \n",
       "\n",
       "[3200997 rows x 9 columns]"
      ]
     },
     "execution_count": 36,
     "metadata": {},
     "output_type": "execute_result"
    }
   ],
   "source": [
    "m1 = mod_donors.merge(rrr,on='ppe',suffixes=('_don','_rec'))\n",
    "m1"
   ]
  },
  {
   "cell_type": "code",
   "execution_count": 37,
   "metadata": {},
   "outputs": [],
   "source": [
    "distances = dist_calc.query_postal_code(\n",
    "    m1['zipcode_don'].values,\n",
    "    m1['zipcode_rec'].values) * 0.621371"
   ]
  },
  {
   "cell_type": "code",
   "execution_count": 38,
   "metadata": {},
   "outputs": [
    {
     "data": {
      "text/html": [
       "<div>\n",
       "<style scoped>\n",
       "    .dataframe tbody tr th:only-of-type {\n",
       "        vertical-align: middle;\n",
       "    }\n",
       "\n",
       "    .dataframe tbody tr th {\n",
       "        vertical-align: top;\n",
       "    }\n",
       "\n",
       "    .dataframe thead th {\n",
       "        text-align: right;\n",
       "    }\n",
       "</style>\n",
       "<table border=\"1\" class=\"dataframe\">\n",
       "  <thead>\n",
       "    <tr style=\"text-align: right;\">\n",
       "      <th></th>\n",
       "      <th>don_id</th>\n",
       "      <th>date_don</th>\n",
       "      <th>zipcode_don</th>\n",
       "      <th>ppe</th>\n",
       "      <th>qty_don</th>\n",
       "      <th>rec_id</th>\n",
       "      <th>zipcode_rec</th>\n",
       "      <th>date_rec</th>\n",
       "      <th>qty_rec</th>\n",
       "      <th>distance</th>\n",
       "    </tr>\n",
       "  </thead>\n",
       "  <tbody>\n",
       "    <tr>\n",
       "      <th>0</th>\n",
       "      <td>e6dd5103-1e80-499f-8b41-4258497cfb34</td>\n",
       "      <td>2020-04-09 13:08:00+00:00</td>\n",
       "      <td>33458</td>\n",
       "      <td>faceShields</td>\n",
       "      <td>10.0</td>\n",
       "      <td>4320d44a-a8a7-4394-a842-8503153faa44</td>\n",
       "      <td>94609</td>\n",
       "      <td>2020-04-02 16:27:00+00:00</td>\n",
       "      <td>5000.0</td>\n",
       "      <td>2548.016134</td>\n",
       "    </tr>\n",
       "    <tr>\n",
       "      <th>1</th>\n",
       "      <td>e6dd5103-1e80-499f-8b41-4258497cfb34</td>\n",
       "      <td>2020-04-09 13:08:00+00:00</td>\n",
       "      <td>33458</td>\n",
       "      <td>faceShields</td>\n",
       "      <td>10.0</td>\n",
       "      <td>0c33f512-d45f-4462-9703-f06d1add777a</td>\n",
       "      <td>91505</td>\n",
       "      <td>2020-04-02 16:35:00+00:00</td>\n",
       "      <td>9.0</td>\n",
       "      <td>2314.629512</td>\n",
       "    </tr>\n",
       "    <tr>\n",
       "      <th>2</th>\n",
       "      <td>e6dd5103-1e80-499f-8b41-4258497cfb34</td>\n",
       "      <td>2020-04-09 13:08:00+00:00</td>\n",
       "      <td>33458</td>\n",
       "      <td>faceShields</td>\n",
       "      <td>10.0</td>\n",
       "      <td>6da9e3db-ffcd-49c5-a37e-c606eeb3e6d3</td>\n",
       "      <td>98208</td>\n",
       "      <td>2020-04-02 16:44:00+00:00</td>\n",
       "      <td>10.0</td>\n",
       "      <td>2678.304814</td>\n",
       "    </tr>\n",
       "    <tr>\n",
       "      <th>3</th>\n",
       "      <td>e6dd5103-1e80-499f-8b41-4258497cfb34</td>\n",
       "      <td>2020-04-09 13:08:00+00:00</td>\n",
       "      <td>33458</td>\n",
       "      <td>faceShields</td>\n",
       "      <td>10.0</td>\n",
       "      <td>2206ab02-6714-4ea5-ac9a-134efc936974</td>\n",
       "      <td>45209</td>\n",
       "      <td>2020-04-02 16:47:00+00:00</td>\n",
       "      <td>200.0</td>\n",
       "      <td>879.950511</td>\n",
       "    </tr>\n",
       "    <tr>\n",
       "      <th>4</th>\n",
       "      <td>e6dd5103-1e80-499f-8b41-4258497cfb34</td>\n",
       "      <td>2020-04-09 13:08:00+00:00</td>\n",
       "      <td>33458</td>\n",
       "      <td>faceShields</td>\n",
       "      <td>10.0</td>\n",
       "      <td>e62244d6-df43-44b3-8622-b7dc6ada4a08</td>\n",
       "      <td>92683</td>\n",
       "      <td>2020-04-02 16:55:00+00:00</td>\n",
       "      <td>100.0</td>\n",
       "      <td>2293.700408</td>\n",
       "    </tr>\n",
       "    <tr>\n",
       "      <th>...</th>\n",
       "      <td>...</td>\n",
       "      <td>...</td>\n",
       "      <td>...</td>\n",
       "      <td>...</td>\n",
       "      <td>...</td>\n",
       "      <td>...</td>\n",
       "      <td>...</td>\n",
       "      <td>...</td>\n",
       "      <td>...</td>\n",
       "      <td>...</td>\n",
       "    </tr>\n",
       "    <tr>\n",
       "      <th>3200992</th>\n",
       "      <td>ae3e3190-58c1-41f0-8925-3a4e9d8b30f6</td>\n",
       "      <td>2020-05-27 01:40:58+00:00</td>\n",
       "      <td>70525</td>\n",
       "      <td>bodyBags</td>\n",
       "      <td>10.0</td>\n",
       "      <td>1ef916f1-2fe0-4de9-a0b2-6981a0eb34c8</td>\n",
       "      <td>41501</td>\n",
       "      <td>2020-07-12 21:57:10.032000+00:00</td>\n",
       "      <td>7.0</td>\n",
       "      <td>741.574503</td>\n",
       "    </tr>\n",
       "    <tr>\n",
       "      <th>3200993</th>\n",
       "      <td>ae3e3190-58c1-41f0-8925-3a4e9d8b30f6</td>\n",
       "      <td>2020-05-27 01:40:58+00:00</td>\n",
       "      <td>70525</td>\n",
       "      <td>bodyBags</td>\n",
       "      <td>10.0</td>\n",
       "      <td>d54a1f90-3e84-4d1a-ac55-d296dcbf04dc</td>\n",
       "      <td>77045</td>\n",
       "      <td>2020-07-13 04:39:04.804000+00:00</td>\n",
       "      <td>100.0</td>\n",
       "      <td>199.541385</td>\n",
       "    </tr>\n",
       "    <tr>\n",
       "      <th>3200994</th>\n",
       "      <td>ae3e3190-58c1-41f0-8925-3a4e9d8b30f6</td>\n",
       "      <td>2020-05-27 01:40:58+00:00</td>\n",
       "      <td>70525</td>\n",
       "      <td>bodyBags</td>\n",
       "      <td>10.0</td>\n",
       "      <td>be82b38f-8727-4277-9641-f300856b3a64</td>\n",
       "      <td>00265</td>\n",
       "      <td>2020-07-14 08:44:26.061000+00:00</td>\n",
       "      <td>1000.0</td>\n",
       "      <td>NaN</td>\n",
       "    </tr>\n",
       "    <tr>\n",
       "      <th>3200995</th>\n",
       "      <td>ae3e3190-58c1-41f0-8925-3a4e9d8b30f6</td>\n",
       "      <td>2020-05-27 01:40:58+00:00</td>\n",
       "      <td>70525</td>\n",
       "      <td>bodyBags</td>\n",
       "      <td>10.0</td>\n",
       "      <td>fe211921-0125-4c08-89c6-f1c386f5e60a</td>\n",
       "      <td>77082</td>\n",
       "      <td>2020-07-15 15:44:03.267000+00:00</td>\n",
       "      <td>20.0</td>\n",
       "      <td>208.912756</td>\n",
       "    </tr>\n",
       "    <tr>\n",
       "      <th>3200996</th>\n",
       "      <td>ae3e3190-58c1-41f0-8925-3a4e9d8b30f6</td>\n",
       "      <td>2020-05-27 01:40:58+00:00</td>\n",
       "      <td>70525</td>\n",
       "      <td>bodyBags</td>\n",
       "      <td>10.0</td>\n",
       "      <td>966d16d6-001e-4fb8-82ed-0168d6b3e578</td>\n",
       "      <td>29118</td>\n",
       "      <td>2020-07-16 16:45:14.774000+00:00</td>\n",
       "      <td>50.0</td>\n",
       "      <td>696.923944</td>\n",
       "    </tr>\n",
       "  </tbody>\n",
       "</table>\n",
       "<p>3200997 rows × 10 columns</p>\n",
       "</div>"
      ],
      "text/plain": [
       "                                       don_id                  date_don  \\\n",
       "0        e6dd5103-1e80-499f-8b41-4258497cfb34 2020-04-09 13:08:00+00:00   \n",
       "1        e6dd5103-1e80-499f-8b41-4258497cfb34 2020-04-09 13:08:00+00:00   \n",
       "2        e6dd5103-1e80-499f-8b41-4258497cfb34 2020-04-09 13:08:00+00:00   \n",
       "3        e6dd5103-1e80-499f-8b41-4258497cfb34 2020-04-09 13:08:00+00:00   \n",
       "4        e6dd5103-1e80-499f-8b41-4258497cfb34 2020-04-09 13:08:00+00:00   \n",
       "...                                       ...                       ...   \n",
       "3200992  ae3e3190-58c1-41f0-8925-3a4e9d8b30f6 2020-05-27 01:40:58+00:00   \n",
       "3200993  ae3e3190-58c1-41f0-8925-3a4e9d8b30f6 2020-05-27 01:40:58+00:00   \n",
       "3200994  ae3e3190-58c1-41f0-8925-3a4e9d8b30f6 2020-05-27 01:40:58+00:00   \n",
       "3200995  ae3e3190-58c1-41f0-8925-3a4e9d8b30f6 2020-05-27 01:40:58+00:00   \n",
       "3200996  ae3e3190-58c1-41f0-8925-3a4e9d8b30f6 2020-05-27 01:40:58+00:00   \n",
       "\n",
       "        zipcode_don          ppe  qty_don  \\\n",
       "0             33458  faceShields     10.0   \n",
       "1             33458  faceShields     10.0   \n",
       "2             33458  faceShields     10.0   \n",
       "3             33458  faceShields     10.0   \n",
       "4             33458  faceShields     10.0   \n",
       "...             ...          ...      ...   \n",
       "3200992       70525     bodyBags     10.0   \n",
       "3200993       70525     bodyBags     10.0   \n",
       "3200994       70525     bodyBags     10.0   \n",
       "3200995       70525     bodyBags     10.0   \n",
       "3200996       70525     bodyBags     10.0   \n",
       "\n",
       "                                       rec_id zipcode_rec  \\\n",
       "0        4320d44a-a8a7-4394-a842-8503153faa44       94609   \n",
       "1        0c33f512-d45f-4462-9703-f06d1add777a       91505   \n",
       "2        6da9e3db-ffcd-49c5-a37e-c606eeb3e6d3       98208   \n",
       "3        2206ab02-6714-4ea5-ac9a-134efc936974       45209   \n",
       "4        e62244d6-df43-44b3-8622-b7dc6ada4a08       92683   \n",
       "...                                       ...         ...   \n",
       "3200992  1ef916f1-2fe0-4de9-a0b2-6981a0eb34c8       41501   \n",
       "3200993  d54a1f90-3e84-4d1a-ac55-d296dcbf04dc       77045   \n",
       "3200994  be82b38f-8727-4277-9641-f300856b3a64       00265   \n",
       "3200995  fe211921-0125-4c08-89c6-f1c386f5e60a       77082   \n",
       "3200996  966d16d6-001e-4fb8-82ed-0168d6b3e578       29118   \n",
       "\n",
       "                                date_rec  qty_rec     distance  \n",
       "0              2020-04-02 16:27:00+00:00   5000.0  2548.016134  \n",
       "1              2020-04-02 16:35:00+00:00      9.0  2314.629512  \n",
       "2              2020-04-02 16:44:00+00:00     10.0  2678.304814  \n",
       "3              2020-04-02 16:47:00+00:00    200.0   879.950511  \n",
       "4              2020-04-02 16:55:00+00:00    100.0  2293.700408  \n",
       "...                                  ...      ...          ...  \n",
       "3200992 2020-07-12 21:57:10.032000+00:00      7.0   741.574503  \n",
       "3200993 2020-07-13 04:39:04.804000+00:00    100.0   199.541385  \n",
       "3200994 2020-07-14 08:44:26.061000+00:00   1000.0          NaN  \n",
       "3200995 2020-07-15 15:44:03.267000+00:00     20.0   208.912756  \n",
       "3200996 2020-07-16 16:45:14.774000+00:00     50.0   696.923944  \n",
       "\n",
       "[3200997 rows x 10 columns]"
      ]
     },
     "execution_count": 38,
     "metadata": {},
     "output_type": "execute_result"
    }
   ],
   "source": [
    "m1.loc[:,'distance'] = distances\n",
    "m1"
   ]
  },
  {
   "cell_type": "code",
   "execution_count": 39,
   "metadata": {},
   "outputs": [
    {
     "data": {
      "text/html": [
       "<div>\n",
       "<style scoped>\n",
       "    .dataframe tbody tr th:only-of-type {\n",
       "        vertical-align: middle;\n",
       "    }\n",
       "\n",
       "    .dataframe tbody tr th {\n",
       "        vertical-align: top;\n",
       "    }\n",
       "\n",
       "    .dataframe thead th {\n",
       "        text-align: right;\n",
       "    }\n",
       "</style>\n",
       "<table border=\"1\" class=\"dataframe\">\n",
       "  <thead>\n",
       "    <tr style=\"text-align: right;\">\n",
       "      <th></th>\n",
       "      <th>don_id</th>\n",
       "      <th>rec_id</th>\n",
       "      <th>distance</th>\n",
       "      <th>0</th>\n",
       "    </tr>\n",
       "  </thead>\n",
       "  <tbody>\n",
       "    <tr>\n",
       "      <th>0</th>\n",
       "      <td>0028bc23-d933-49ff-b213-b001b2bd1fff</td>\n",
       "      <td>0016bd18-3c2b-44ce-8b14-ef75dc3c480b</td>\n",
       "      <td>540.263969</td>\n",
       "      <td>1</td>\n",
       "    </tr>\n",
       "    <tr>\n",
       "      <th>1</th>\n",
       "      <td>a89f591f-d40a-4343-b366-d20486fa9acf</td>\n",
       "      <td>392656c0-3f09-482f-9e67-175bea1c9aae</td>\n",
       "      <td>770.589552</td>\n",
       "      <td>1</td>\n",
       "    </tr>\n",
       "    <tr>\n",
       "      <th>2</th>\n",
       "      <td>a89f591f-d40a-4343-b366-d20486fa9acf</td>\n",
       "      <td>393fa4a7-76be-4413-aa4c-24fdd97f0ffc</td>\n",
       "      <td>1017.043444</td>\n",
       "      <td>1</td>\n",
       "    </tr>\n",
       "    <tr>\n",
       "      <th>3</th>\n",
       "      <td>a89f591f-d40a-4343-b366-d20486fa9acf</td>\n",
       "      <td>3943473c-c8f6-4a35-9c2d-ce16b6c1916e</td>\n",
       "      <td>612.656722</td>\n",
       "      <td>1</td>\n",
       "    </tr>\n",
       "    <tr>\n",
       "      <th>4</th>\n",
       "      <td>a89f591f-d40a-4343-b366-d20486fa9acf</td>\n",
       "      <td>39452578-7a40-41e8-98f5-7f3bb08c56e6</td>\n",
       "      <td>1737.009898</td>\n",
       "      <td>1</td>\n",
       "    </tr>\n",
       "    <tr>\n",
       "      <th>...</th>\n",
       "      <td>...</td>\n",
       "      <td>...</td>\n",
       "      <td>...</td>\n",
       "      <td>...</td>\n",
       "    </tr>\n",
       "    <tr>\n",
       "      <th>2782715</th>\n",
       "      <td>713b89e7-893b-4847-98e9-d48d0753e816</td>\n",
       "      <td>9d6adb24-8df5-4a05-946e-053df6a8997b</td>\n",
       "      <td>883.147945</td>\n",
       "      <td>15</td>\n",
       "    </tr>\n",
       "    <tr>\n",
       "      <th>2782716</th>\n",
       "      <td>d7444d88-6300-499f-b39f-8dbfee2ce676</td>\n",
       "      <td>e077071e-3a2c-4707-bcc7-0caf085c5c85</td>\n",
       "      <td>2452.256239</td>\n",
       "      <td>16</td>\n",
       "    </tr>\n",
       "    <tr>\n",
       "      <th>2782717</th>\n",
       "      <td>d7444d88-6300-499f-b39f-8dbfee2ce676</td>\n",
       "      <td>7099acf1-0f8c-40aa-a344-567717531a24</td>\n",
       "      <td>873.115576</td>\n",
       "      <td>18</td>\n",
       "    </tr>\n",
       "    <tr>\n",
       "      <th>2782718</th>\n",
       "      <td>713b89e7-893b-4847-98e9-d48d0753e816</td>\n",
       "      <td>e077071e-3a2c-4707-bcc7-0caf085c5c85</td>\n",
       "      <td>1714.408610</td>\n",
       "      <td>18</td>\n",
       "    </tr>\n",
       "    <tr>\n",
       "      <th>2782719</th>\n",
       "      <td>713b89e7-893b-4847-98e9-d48d0753e816</td>\n",
       "      <td>7099acf1-0f8c-40aa-a344-567717531a24</td>\n",
       "      <td>226.015952</td>\n",
       "      <td>22</td>\n",
       "    </tr>\n",
       "  </tbody>\n",
       "</table>\n",
       "<p>2782720 rows × 4 columns</p>\n",
       "</div>"
      ],
      "text/plain": [
       "                                       don_id  \\\n",
       "0        0028bc23-d933-49ff-b213-b001b2bd1fff   \n",
       "1        a89f591f-d40a-4343-b366-d20486fa9acf   \n",
       "2        a89f591f-d40a-4343-b366-d20486fa9acf   \n",
       "3        a89f591f-d40a-4343-b366-d20486fa9acf   \n",
       "4        a89f591f-d40a-4343-b366-d20486fa9acf   \n",
       "...                                       ...   \n",
       "2782715  713b89e7-893b-4847-98e9-d48d0753e816   \n",
       "2782716  d7444d88-6300-499f-b39f-8dbfee2ce676   \n",
       "2782717  d7444d88-6300-499f-b39f-8dbfee2ce676   \n",
       "2782718  713b89e7-893b-4847-98e9-d48d0753e816   \n",
       "2782719  713b89e7-893b-4847-98e9-d48d0753e816   \n",
       "\n",
       "                                       rec_id     distance   0  \n",
       "0        0016bd18-3c2b-44ce-8b14-ef75dc3c480b   540.263969   1  \n",
       "1        392656c0-3f09-482f-9e67-175bea1c9aae   770.589552   1  \n",
       "2        393fa4a7-76be-4413-aa4c-24fdd97f0ffc  1017.043444   1  \n",
       "3        3943473c-c8f6-4a35-9c2d-ce16b6c1916e   612.656722   1  \n",
       "4        39452578-7a40-41e8-98f5-7f3bb08c56e6  1737.009898   1  \n",
       "...                                       ...          ...  ..  \n",
       "2782715  9d6adb24-8df5-4a05-946e-053df6a8997b   883.147945  15  \n",
       "2782716  e077071e-3a2c-4707-bcc7-0caf085c5c85  2452.256239  16  \n",
       "2782717  7099acf1-0f8c-40aa-a344-567717531a24   873.115576  18  \n",
       "2782718  e077071e-3a2c-4707-bcc7-0caf085c5c85  1714.408610  18  \n",
       "2782719  7099acf1-0f8c-40aa-a344-567717531a24   226.015952  22  \n",
       "\n",
       "[2782720 rows x 4 columns]"
      ]
     },
     "execution_count": 39,
     "metadata": {},
     "output_type": "execute_result"
    }
   ],
   "source": [
    "zipcodes = m1.groupby(['don_id','rec_id','distance']).size().sort_values().to_frame().reset_index()\n",
    "zipcodes"
   ]
  },
  {
   "cell_type": "code",
   "execution_count": 40,
   "metadata": {},
   "outputs": [],
   "source": [
    "zipcodes = zipcodes[['don_id','rec_id','distance']]"
   ]
  },
  {
   "cell_type": "code",
   "execution_count": 41,
   "metadata": {},
   "outputs": [
    {
     "data": {
      "text/html": [
       "<div>\n",
       "<style scoped>\n",
       "    .dataframe tbody tr th:only-of-type {\n",
       "        vertical-align: middle;\n",
       "    }\n",
       "\n",
       "    .dataframe tbody tr th {\n",
       "        vertical-align: top;\n",
       "    }\n",
       "\n",
       "    .dataframe thead th {\n",
       "        text-align: right;\n",
       "    }\n",
       "</style>\n",
       "<table border=\"1\" class=\"dataframe\">\n",
       "  <thead>\n",
       "    <tr style=\"text-align: right;\">\n",
       "      <th></th>\n",
       "      <th>don_id</th>\n",
       "      <th>rec_id</th>\n",
       "      <th>distance</th>\n",
       "    </tr>\n",
       "  </thead>\n",
       "  <tbody>\n",
       "    <tr>\n",
       "      <th>0</th>\n",
       "      <td>0028bc23-d933-49ff-b213-b001b2bd1fff</td>\n",
       "      <td>0016bd18-3c2b-44ce-8b14-ef75dc3c480b</td>\n",
       "      <td>540.263969</td>\n",
       "    </tr>\n",
       "    <tr>\n",
       "      <th>1</th>\n",
       "      <td>a89f591f-d40a-4343-b366-d20486fa9acf</td>\n",
       "      <td>392656c0-3f09-482f-9e67-175bea1c9aae</td>\n",
       "      <td>770.589552</td>\n",
       "    </tr>\n",
       "    <tr>\n",
       "      <th>2</th>\n",
       "      <td>a89f591f-d40a-4343-b366-d20486fa9acf</td>\n",
       "      <td>393fa4a7-76be-4413-aa4c-24fdd97f0ffc</td>\n",
       "      <td>1017.043444</td>\n",
       "    </tr>\n",
       "    <tr>\n",
       "      <th>3</th>\n",
       "      <td>a89f591f-d40a-4343-b366-d20486fa9acf</td>\n",
       "      <td>3943473c-c8f6-4a35-9c2d-ce16b6c1916e</td>\n",
       "      <td>612.656722</td>\n",
       "    </tr>\n",
       "    <tr>\n",
       "      <th>4</th>\n",
       "      <td>a89f591f-d40a-4343-b366-d20486fa9acf</td>\n",
       "      <td>39452578-7a40-41e8-98f5-7f3bb08c56e6</td>\n",
       "      <td>1737.009898</td>\n",
       "    </tr>\n",
       "    <tr>\n",
       "      <th>...</th>\n",
       "      <td>...</td>\n",
       "      <td>...</td>\n",
       "      <td>...</td>\n",
       "    </tr>\n",
       "    <tr>\n",
       "      <th>2782715</th>\n",
       "      <td>713b89e7-893b-4847-98e9-d48d0753e816</td>\n",
       "      <td>9d6adb24-8df5-4a05-946e-053df6a8997b</td>\n",
       "      <td>883.147945</td>\n",
       "    </tr>\n",
       "    <tr>\n",
       "      <th>2782716</th>\n",
       "      <td>d7444d88-6300-499f-b39f-8dbfee2ce676</td>\n",
       "      <td>e077071e-3a2c-4707-bcc7-0caf085c5c85</td>\n",
       "      <td>2452.256239</td>\n",
       "    </tr>\n",
       "    <tr>\n",
       "      <th>2782717</th>\n",
       "      <td>d7444d88-6300-499f-b39f-8dbfee2ce676</td>\n",
       "      <td>7099acf1-0f8c-40aa-a344-567717531a24</td>\n",
       "      <td>873.115576</td>\n",
       "    </tr>\n",
       "    <tr>\n",
       "      <th>2782718</th>\n",
       "      <td>713b89e7-893b-4847-98e9-d48d0753e816</td>\n",
       "      <td>e077071e-3a2c-4707-bcc7-0caf085c5c85</td>\n",
       "      <td>1714.408610</td>\n",
       "    </tr>\n",
       "    <tr>\n",
       "      <th>2782719</th>\n",
       "      <td>713b89e7-893b-4847-98e9-d48d0753e816</td>\n",
       "      <td>7099acf1-0f8c-40aa-a344-567717531a24</td>\n",
       "      <td>226.015952</td>\n",
       "    </tr>\n",
       "  </tbody>\n",
       "</table>\n",
       "<p>2782720 rows × 3 columns</p>\n",
       "</div>"
      ],
      "text/plain": [
       "                                       don_id  \\\n",
       "0        0028bc23-d933-49ff-b213-b001b2bd1fff   \n",
       "1        a89f591f-d40a-4343-b366-d20486fa9acf   \n",
       "2        a89f591f-d40a-4343-b366-d20486fa9acf   \n",
       "3        a89f591f-d40a-4343-b366-d20486fa9acf   \n",
       "4        a89f591f-d40a-4343-b366-d20486fa9acf   \n",
       "...                                       ...   \n",
       "2782715  713b89e7-893b-4847-98e9-d48d0753e816   \n",
       "2782716  d7444d88-6300-499f-b39f-8dbfee2ce676   \n",
       "2782717  d7444d88-6300-499f-b39f-8dbfee2ce676   \n",
       "2782718  713b89e7-893b-4847-98e9-d48d0753e816   \n",
       "2782719  713b89e7-893b-4847-98e9-d48d0753e816   \n",
       "\n",
       "                                       rec_id     distance  \n",
       "0        0016bd18-3c2b-44ce-8b14-ef75dc3c480b   540.263969  \n",
       "1        392656c0-3f09-482f-9e67-175bea1c9aae   770.589552  \n",
       "2        393fa4a7-76be-4413-aa4c-24fdd97f0ffc  1017.043444  \n",
       "3        3943473c-c8f6-4a35-9c2d-ce16b6c1916e   612.656722  \n",
       "4        39452578-7a40-41e8-98f5-7f3bb08c56e6  1737.009898  \n",
       "...                                       ...          ...  \n",
       "2782715  9d6adb24-8df5-4a05-946e-053df6a8997b   883.147945  \n",
       "2782716  e077071e-3a2c-4707-bcc7-0caf085c5c85  2452.256239  \n",
       "2782717  7099acf1-0f8c-40aa-a344-567717531a24   873.115576  \n",
       "2782718  e077071e-3a2c-4707-bcc7-0caf085c5c85  1714.408610  \n",
       "2782719  7099acf1-0f8c-40aa-a344-567717531a24   226.015952  \n",
       "\n",
       "[2782720 rows x 3 columns]"
      ]
     },
     "execution_count": 41,
     "metadata": {},
     "output_type": "execute_result"
    }
   ],
   "source": [
    "zipcodes"
   ]
  },
  {
   "cell_type": "markdown",
   "metadata": {},
   "source": [
    "# Remove donors and recipients that are not present in the distance matrix"
   ]
  },
  {
   "cell_type": "code",
   "execution_count": 42,
   "metadata": {},
   "outputs": [],
   "source": [
    "donors_to_keep = set(zipcodes.don_id)\n",
    "mod_donors = mod_donors[mod_donors.don_id.isin(donors_to_keep)]"
   ]
  },
  {
   "cell_type": "code",
   "execution_count": 43,
   "metadata": {},
   "outputs": [],
   "source": [
    "recipients_to_keep = set(zipcodes.rec_id)\n",
    "mod_recipients = mod_recipients[mod_recipients.rec_id.isin(recipients_to_keep)]"
   ]
  },
  {
   "cell_type": "markdown",
   "metadata": {},
   "source": [
    "# Anonymize"
   ]
  },
  {
   "cell_type": "markdown",
   "metadata": {},
   "source": [
    "### Ids for recipients and donors"
   ]
  },
  {
   "cell_type": "code",
   "execution_count": 44,
   "metadata": {
    "scrolled": true
   },
   "outputs": [],
   "source": [
    "dict_rec_ids = {}\n",
    "i=0\n",
    "for r in mod_recipients['rec_id'].values:\n",
    "    dict_rec_ids[r]='rec'+str(i)\n",
    "    i+=1"
   ]
  },
  {
   "cell_type": "code",
   "execution_count": 45,
   "metadata": {
    "scrolled": true
   },
   "outputs": [],
   "source": [
    "dict_don_ids = {}\n",
    "i=0\n",
    "for d in mod_donors['don_id'].values:\n",
    "    dict_don_ids[d]='don'+str(i)\n",
    "    i+=1"
   ]
  },
  {
   "cell_type": "code",
   "execution_count": 46,
   "metadata": {},
   "outputs": [],
   "source": [
    "mod_recipients.loc[:,'rec_id'] = mod_recipients['rec_id'].replace(dict_rec_ids)"
   ]
  },
  {
   "cell_type": "code",
   "execution_count": 47,
   "metadata": {},
   "outputs": [],
   "source": [
    "mod_donors.loc[:,'don_id'] = mod_donors['don_id'].replace(dict_don_ids)"
   ]
  },
  {
   "cell_type": "markdown",
   "metadata": {},
   "source": [
    "### Dict for zipcodes"
   ]
  },
  {
   "cell_type": "code",
   "execution_count": 48,
   "metadata": {},
   "outputs": [],
   "source": [
    "rec_dict = {}\n",
    "i=0\n",
    "for z in mod_recipients['zipcode'].unique():\n",
    "    rec_dict[z]='rec_zip'+str(i)\n",
    "    i+=1"
   ]
  },
  {
   "cell_type": "code",
   "execution_count": 49,
   "metadata": {},
   "outputs": [],
   "source": [
    "don_zipcode_dict = {}\n",
    "i=0\n",
    "for z in mod_donors['zipcode'].unique():\n",
    "    don_zipcode_dict[z]='don_zip'+str(i)\n",
    "    i+=1"
   ]
  },
  {
   "cell_type": "code",
   "execution_count": 50,
   "metadata": {},
   "outputs": [],
   "source": [
    "mod_recipients.loc[:,'zipcode'] = mod_recipients['zipcode'].replace(rec_dict)"
   ]
  },
  {
   "cell_type": "code",
   "execution_count": 51,
   "metadata": {},
   "outputs": [],
   "source": [
    "mod_donors.loc[:,'zipcode'] = mod_donors['zipcode'].replace(don_zipcode_dict)"
   ]
  },
  {
   "cell_type": "markdown",
   "metadata": {},
   "source": [
    "### Anonymize the distance matrix"
   ]
  },
  {
   "cell_type": "code",
   "execution_count": 52,
   "metadata": {},
   "outputs": [
    {
     "data": {
      "text/plain": [
       "Index(['don_id', 'rec_id', 'distance'], dtype='object')"
      ]
     },
     "execution_count": 52,
     "metadata": {},
     "output_type": "execute_result"
    }
   ],
   "source": [
    "zipcodes.columns"
   ]
  },
  {
   "cell_type": "code",
   "execution_count": 53,
   "metadata": {
    "scrolled": true
   },
   "outputs": [
    {
     "name": "stderr",
     "output_type": "stream",
     "text": [
      "C:\\Users\\msamorani\\Anaconda3\\lib\\site-packages\\pandas\\core\\indexing.py:965: SettingWithCopyWarning: \n",
      "A value is trying to be set on a copy of a slice from a DataFrame.\n",
      "Try using .loc[row_indexer,col_indexer] = value instead\n",
      "\n",
      "See the caveats in the documentation: https://pandas.pydata.org/pandas-docs/stable/user_guide/indexing.html#returning-a-view-versus-a-copy\n",
      "  self.obj[item] = s\n"
     ]
    }
   ],
   "source": [
    "zipcodes.loc[:,'rec_id']  = zipcodes['rec_id'].map(dict_rec_ids.get)"
   ]
  },
  {
   "cell_type": "code",
   "execution_count": 54,
   "metadata": {
    "scrolled": true
   },
   "outputs": [],
   "source": [
    "zipcodes.loc[:,'don_id']  = zipcodes['don_id'].map(dict_don_ids.get)"
   ]
  },
  {
   "cell_type": "code",
   "execution_count": null,
   "metadata": {},
   "outputs": [],
   "source": []
  },
  {
   "cell_type": "markdown",
   "metadata": {},
   "source": [
    "# Print the anonymized data"
   ]
  },
  {
   "cell_type": "code",
   "execution_count": 55,
   "metadata": {},
   "outputs": [],
   "source": [
    "mod_recipients.drop(columns=['zipcode'],inplace=True)"
   ]
  },
  {
   "cell_type": "code",
   "execution_count": 56,
   "metadata": {},
   "outputs": [],
   "source": [
    "mod_recipients['rec_req_id'] = np.arange(0,len(mod_recipients))"
   ]
  },
  {
   "cell_type": "code",
   "execution_count": 60,
   "metadata": {
    "scrolled": true
   },
   "outputs": [
    {
     "data": {
      "text/html": [
       "<div>\n",
       "<style scoped>\n",
       "    .dataframe tbody tr th:only-of-type {\n",
       "        vertical-align: middle;\n",
       "    }\n",
       "\n",
       "    .dataframe tbody tr th {\n",
       "        vertical-align: top;\n",
       "    }\n",
       "\n",
       "    .dataframe thead th {\n",
       "        text-align: right;\n",
       "    }\n",
       "</style>\n",
       "<table border=\"1\" class=\"dataframe\">\n",
       "  <thead>\n",
       "    <tr style=\"text-align: right;\">\n",
       "      <th></th>\n",
       "      <th>rec_id</th>\n",
       "      <th>date</th>\n",
       "      <th>disinfectingWipes</th>\n",
       "      <th>surgicalCaps</th>\n",
       "      <th>disposableBooties</th>\n",
       "      <th>respirators</th>\n",
       "      <th>handmadeMasks</th>\n",
       "      <th>nitrileGloves</th>\n",
       "      <th>coveralls</th>\n",
       "      <th>handSanitizer</th>\n",
       "      <th>safetyGlasses</th>\n",
       "      <th>bodyBags</th>\n",
       "      <th>gowns</th>\n",
       "      <th>faceShields</th>\n",
       "      <th>safetyGoggles</th>\n",
       "      <th>thermometers</th>\n",
       "      <th>surgicalMasks</th>\n",
       "      <th>paprShield</th>\n",
       "      <th>babyMonitors</th>\n",
       "      <th>rec_req_id</th>\n",
       "    </tr>\n",
       "  </thead>\n",
       "  <tbody>\n",
       "    <tr>\n",
       "      <th>0</th>\n",
       "      <td>rec0</td>\n",
       "      <td>2020-04-02 16:27:00+00:00</td>\n",
       "      <td>0</td>\n",
       "      <td>0</td>\n",
       "      <td>0</td>\n",
       "      <td>10000.0</td>\n",
       "      <td>0</td>\n",
       "      <td>10000</td>\n",
       "      <td>0</td>\n",
       "      <td>0</td>\n",
       "      <td>0</td>\n",
       "      <td>0</td>\n",
       "      <td>1000</td>\n",
       "      <td>5000</td>\n",
       "      <td>0</td>\n",
       "      <td>0</td>\n",
       "      <td>0</td>\n",
       "      <td>0</td>\n",
       "      <td>0</td>\n",
       "      <td>0</td>\n",
       "    </tr>\n",
       "    <tr>\n",
       "      <th>1</th>\n",
       "      <td>rec1</td>\n",
       "      <td>2020-04-02 16:35:00+00:00</td>\n",
       "      <td>4</td>\n",
       "      <td>0</td>\n",
       "      <td>0</td>\n",
       "      <td>9.0</td>\n",
       "      <td>9</td>\n",
       "      <td>5</td>\n",
       "      <td>0</td>\n",
       "      <td>4</td>\n",
       "      <td>0</td>\n",
       "      <td>0</td>\n",
       "      <td>9</td>\n",
       "      <td>9</td>\n",
       "      <td>0</td>\n",
       "      <td>0</td>\n",
       "      <td>0</td>\n",
       "      <td>0</td>\n",
       "      <td>0</td>\n",
       "      <td>1</td>\n",
       "    </tr>\n",
       "    <tr>\n",
       "      <th>2</th>\n",
       "      <td>rec2</td>\n",
       "      <td>2020-04-02 16:44:00+00:00</td>\n",
       "      <td>300</td>\n",
       "      <td>0</td>\n",
       "      <td>100</td>\n",
       "      <td>5.0</td>\n",
       "      <td>0</td>\n",
       "      <td>0</td>\n",
       "      <td>0</td>\n",
       "      <td>25</td>\n",
       "      <td>0</td>\n",
       "      <td>0</td>\n",
       "      <td>100</td>\n",
       "      <td>10</td>\n",
       "      <td>0</td>\n",
       "      <td>20</td>\n",
       "      <td>0</td>\n",
       "      <td>0</td>\n",
       "      <td>0</td>\n",
       "      <td>2</td>\n",
       "    </tr>\n",
       "    <tr>\n",
       "      <th>3</th>\n",
       "      <td>rec3</td>\n",
       "      <td>2020-04-02 16:47:00+00:00</td>\n",
       "      <td>50</td>\n",
       "      <td>0</td>\n",
       "      <td>0</td>\n",
       "      <td>200.0</td>\n",
       "      <td>100</td>\n",
       "      <td>100</td>\n",
       "      <td>0</td>\n",
       "      <td>100</td>\n",
       "      <td>0</td>\n",
       "      <td>0</td>\n",
       "      <td>400</td>\n",
       "      <td>200</td>\n",
       "      <td>0</td>\n",
       "      <td>50</td>\n",
       "      <td>0</td>\n",
       "      <td>0</td>\n",
       "      <td>0</td>\n",
       "      <td>3</td>\n",
       "    </tr>\n",
       "    <tr>\n",
       "      <th>4</th>\n",
       "      <td>rec4</td>\n",
       "      <td>2020-04-02 16:54:00+00:00</td>\n",
       "      <td>0</td>\n",
       "      <td>0</td>\n",
       "      <td>0</td>\n",
       "      <td>10.0</td>\n",
       "      <td>0</td>\n",
       "      <td>0</td>\n",
       "      <td>0</td>\n",
       "      <td>4</td>\n",
       "      <td>0</td>\n",
       "      <td>0</td>\n",
       "      <td>30</td>\n",
       "      <td>0</td>\n",
       "      <td>0</td>\n",
       "      <td>2</td>\n",
       "      <td>0</td>\n",
       "      <td>0</td>\n",
       "      <td>0</td>\n",
       "      <td>4</td>\n",
       "    </tr>\n",
       "  </tbody>\n",
       "</table>\n",
       "</div>"
      ],
      "text/plain": [
       "  rec_id                      date  disinfectingWipes  surgicalCaps  \\\n",
       "0   rec0 2020-04-02 16:27:00+00:00                  0             0   \n",
       "1   rec1 2020-04-02 16:35:00+00:00                  4             0   \n",
       "2   rec2 2020-04-02 16:44:00+00:00                300             0   \n",
       "3   rec3 2020-04-02 16:47:00+00:00                 50             0   \n",
       "4   rec4 2020-04-02 16:54:00+00:00                  0             0   \n",
       "\n",
       "   disposableBooties  respirators  handmadeMasks  nitrileGloves  coveralls  \\\n",
       "0                  0      10000.0              0          10000          0   \n",
       "1                  0          9.0              9              5          0   \n",
       "2                100          5.0              0              0          0   \n",
       "3                  0        200.0            100            100          0   \n",
       "4                  0         10.0              0              0          0   \n",
       "\n",
       "   handSanitizer  safetyGlasses  bodyBags  gowns  faceShields  safetyGoggles  \\\n",
       "0              0              0         0   1000         5000              0   \n",
       "1              4              0         0      9            9              0   \n",
       "2             25              0         0    100           10              0   \n",
       "3            100              0         0    400          200              0   \n",
       "4              4              0         0     30            0              0   \n",
       "\n",
       "   thermometers  surgicalMasks  paprShield  babyMonitors  rec_req_id  \n",
       "0             0              0           0             0           0  \n",
       "1             0              0           0             0           1  \n",
       "2            20              0           0             0           2  \n",
       "3            50              0           0             0           3  \n",
       "4             2              0           0             0           4  "
      ]
     },
     "execution_count": 60,
     "metadata": {},
     "output_type": "execute_result"
    }
   ],
   "source": [
    "mod_recipients = mod_recipients.reset_index().drop(columns=['index'])\n",
    "mod_recipients.to_csv('data/anon_recipients.csv')\n",
    "mod_recipients.head()"
   ]
  },
  {
   "cell_type": "code",
   "execution_count": 61,
   "metadata": {},
   "outputs": [],
   "source": [
    "mod_donors.drop(columns=['zipcode'],inplace=True)"
   ]
  },
  {
   "cell_type": "code",
   "execution_count": 62,
   "metadata": {},
   "outputs": [],
   "source": [
    "mod_donors['don_req_id'] = np.arange(0,len(mod_donors))"
   ]
  },
  {
   "cell_type": "code",
   "execution_count": 64,
   "metadata": {
    "scrolled": false
   },
   "outputs": [
    {
     "data": {
      "text/html": [
       "<div>\n",
       "<style scoped>\n",
       "    .dataframe tbody tr th:only-of-type {\n",
       "        vertical-align: middle;\n",
       "    }\n",
       "\n",
       "    .dataframe tbody tr th {\n",
       "        vertical-align: top;\n",
       "    }\n",
       "\n",
       "    .dataframe thead th {\n",
       "        text-align: right;\n",
       "    }\n",
       "</style>\n",
       "<table border=\"1\" class=\"dataframe\">\n",
       "  <thead>\n",
       "    <tr style=\"text-align: right;\">\n",
       "      <th></th>\n",
       "      <th>don_id</th>\n",
       "      <th>date</th>\n",
       "      <th>ppe</th>\n",
       "      <th>qty</th>\n",
       "      <th>don_req_id</th>\n",
       "    </tr>\n",
       "  </thead>\n",
       "  <tbody>\n",
       "    <tr>\n",
       "      <th>0</th>\n",
       "      <td>don0</td>\n",
       "      <td>2020-04-09 13:08:00+00:00</td>\n",
       "      <td>faceShields</td>\n",
       "      <td>10.0</td>\n",
       "      <td>0</td>\n",
       "    </tr>\n",
       "    <tr>\n",
       "      <th>1</th>\n",
       "      <td>don1</td>\n",
       "      <td>2020-04-09 13:36:00+00:00</td>\n",
       "      <td>faceShields</td>\n",
       "      <td>1.0</td>\n",
       "      <td>1</td>\n",
       "    </tr>\n",
       "    <tr>\n",
       "      <th>2</th>\n",
       "      <td>don2</td>\n",
       "      <td>2020-04-09 13:53:00+00:00</td>\n",
       "      <td>faceShields</td>\n",
       "      <td>3000.0</td>\n",
       "      <td>2</td>\n",
       "    </tr>\n",
       "    <tr>\n",
       "      <th>3</th>\n",
       "      <td>don3</td>\n",
       "      <td>2020-04-09 14:24:00+00:00</td>\n",
       "      <td>faceShields</td>\n",
       "      <td>5.0</td>\n",
       "      <td>3</td>\n",
       "    </tr>\n",
       "    <tr>\n",
       "      <th>4</th>\n",
       "      <td>don71</td>\n",
       "      <td>2020-04-09 17:52:00+00:00</td>\n",
       "      <td>faceShields</td>\n",
       "      <td>10.0</td>\n",
       "      <td>4</td>\n",
       "    </tr>\n",
       "  </tbody>\n",
       "</table>\n",
       "</div>"
      ],
      "text/plain": [
       "  don_id                      date          ppe     qty  don_req_id\n",
       "0   don0 2020-04-09 13:08:00+00:00  faceShields    10.0           0\n",
       "1   don1 2020-04-09 13:36:00+00:00  faceShields     1.0           1\n",
       "2   don2 2020-04-09 13:53:00+00:00  faceShields  3000.0           2\n",
       "3   don3 2020-04-09 14:24:00+00:00  faceShields     5.0           3\n",
       "4  don71 2020-04-09 17:52:00+00:00  faceShields    10.0           4"
      ]
     },
     "execution_count": 64,
     "metadata": {},
     "output_type": "execute_result"
    }
   ],
   "source": [
    "mod_donors = mod_donors.reset_index().drop(columns=['index'])\n",
    "mod_donors.to_csv('data/anon_donors.csv')\n",
    "mod_donors.head()"
   ]
  },
  {
   "cell_type": "code",
   "execution_count": null,
   "metadata": {},
   "outputs": [],
   "source": [
    "import pickle\n",
    "pickle.dump(zipcodes,open( 'data/anon_distance_matrix.p', \"wb\" ))\n",
    "zipcodes"
   ]
  },
  {
   "cell_type": "code",
   "execution_count": null,
   "metadata": {},
   "outputs": [],
   "source": []
  }
 ],
 "metadata": {
  "kernelspec": {
   "display_name": "Python 3",
   "language": "python",
   "name": "python3"
  },
  "language_info": {
   "codemirror_mode": {
    "name": "ipython",
    "version": 3
   },
   "file_extension": ".py",
   "mimetype": "text/x-python",
   "name": "python",
   "nbconvert_exporter": "python",
   "pygments_lexer": "ipython3",
   "version": "3.7.6"
  }
 },
 "nbformat": 4,
 "nbformat_minor": 4
}
