{
 "cells": [
  {
   "cell_type": "code",
   "execution_count": 6,
   "metadata": {},
   "outputs": [],
   "source": [
    "import pandas as pd\n",
    "import numpy as np\n",
    "import datetime\n",
    "import os"
   ]
  },
  {
   "cell_type": "code",
   "execution_count": 2,
   "metadata": {},
   "outputs": [],
   "source": [
    "d=datetime.date.today()"
   ]
  },
  {
   "cell_type": "code",
   "execution_count": 16,
   "metadata": {},
   "outputs": [],
   "source": [
    "ppe = 'respirators'"
   ]
  },
  {
   "cell_type": "code",
   "execution_count": 10,
   "metadata": {},
   "outputs": [
    {
     "data": {
      "text/html": [
       "<div>\n",
       "<style scoped>\n",
       "    .dataframe tbody tr th:only-of-type {\n",
       "        vertical-align: middle;\n",
       "    }\n",
       "\n",
       "    .dataframe tbody tr th {\n",
       "        vertical-align: top;\n",
       "    }\n",
       "\n",
       "    .dataframe thead th {\n",
       "        text-align: right;\n",
       "    }\n",
       "</style>\n",
       "<table border=\"1\" class=\"dataframe\">\n",
       "  <thead>\n",
       "    <tr style=\"text-align: right;\">\n",
       "      <th></th>\n",
       "      <th>don_id</th>\n",
       "      <th>rec_id</th>\n",
       "      <th>qty</th>\n",
       "      <th>remove_donor</th>\n",
       "      <th>date</th>\n",
       "      <th>ppe</th>\n",
       "    </tr>\n",
       "  </thead>\n",
       "  <tbody>\n",
       "    <tr>\n",
       "      <th>0</th>\n",
       "      <td>don0</td>\n",
       "      <td>rec0</td>\n",
       "      <td>20.0</td>\n",
       "      <td>True</td>\n",
       "      <td>2020-04-03 11:46:00+00:00</td>\n",
       "      <td>respirators</td>\n",
       "    </tr>\n",
       "  </tbody>\n",
       "</table>\n",
       "</div>"
      ],
      "text/plain": [
       "  don_id rec_id   qty  remove_donor                      date          ppe\n",
       "0   don0   rec0  20.0          True 2020-04-03 11:46:00+00:00  respirators"
      ]
     },
     "execution_count": 10,
     "metadata": {},
     "output_type": "execute_result"
    }
   ],
   "source": [
    "decisions = pd.read_csv('decisions_respirators.csv',index_col=0,parse_dates=['date'])\n",
    "decisions"
   ]
  },
  {
   "cell_type": "code",
   "execution_count": 11,
   "metadata": {},
   "outputs": [
    {
     "data": {
      "text/html": [
       "<div>\n",
       "<style scoped>\n",
       "    .dataframe tbody tr th:only-of-type {\n",
       "        vertical-align: middle;\n",
       "    }\n",
       "\n",
       "    .dataframe tbody tr th {\n",
       "        vertical-align: top;\n",
       "    }\n",
       "\n",
       "    .dataframe thead th {\n",
       "        text-align: right;\n",
       "    }\n",
       "</style>\n",
       "<table border=\"1\" class=\"dataframe\">\n",
       "  <thead>\n",
       "    <tr style=\"text-align: right;\">\n",
       "      <th></th>\n",
       "      <th>rec_id</th>\n",
       "      <th>date</th>\n",
       "      <th>ppe</th>\n",
       "      <th>qty</th>\n",
       "    </tr>\n",
       "  </thead>\n",
       "  <tbody>\n",
       "    <tr>\n",
       "      <th>1</th>\n",
       "      <td>rec0</td>\n",
       "      <td>2020-04-02 16:27:00+00:00</td>\n",
       "      <td>respirators</td>\n",
       "      <td>10000.0</td>\n",
       "    </tr>\n",
       "    <tr>\n",
       "      <th>2</th>\n",
       "      <td>rec0</td>\n",
       "      <td>2020-04-02 16:27:00+00:00</td>\n",
       "      <td>faceShields</td>\n",
       "      <td>5000.0</td>\n",
       "    </tr>\n",
       "    <tr>\n",
       "      <th>14</th>\n",
       "      <td>rec0</td>\n",
       "      <td>2020-04-02 16:27:00+00:00</td>\n",
       "      <td>gowns</td>\n",
       "      <td>1000.0</td>\n",
       "    </tr>\n",
       "    <tr>\n",
       "      <th>15</th>\n",
       "      <td>rec0</td>\n",
       "      <td>2020-04-02 16:27:00+00:00</td>\n",
       "      <td>nitrileGloves</td>\n",
       "      <td>10000.0</td>\n",
       "    </tr>\n",
       "    <tr>\n",
       "      <th>18</th>\n",
       "      <td>rec1</td>\n",
       "      <td>2020-04-02 16:35:00+00:00</td>\n",
       "      <td>respirators</td>\n",
       "      <td>9.0</td>\n",
       "    </tr>\n",
       "    <tr>\n",
       "      <th>...</th>\n",
       "      <td>...</td>\n",
       "      <td>...</td>\n",
       "      <td>...</td>\n",
       "      <td>...</td>\n",
       "    </tr>\n",
       "    <tr>\n",
       "      <th>6344</th>\n",
       "      <td>rec373</td>\n",
       "      <td>2020-04-03 11:45:00+00:00</td>\n",
       "      <td>thermometers</td>\n",
       "      <td>2.0</td>\n",
       "    </tr>\n",
       "    <tr>\n",
       "      <th>6347</th>\n",
       "      <td>rec373</td>\n",
       "      <td>2020-04-03 11:45:00+00:00</td>\n",
       "      <td>disinfectingWipes</td>\n",
       "      <td>7.0</td>\n",
       "    </tr>\n",
       "    <tr>\n",
       "      <th>6350</th>\n",
       "      <td>rec373</td>\n",
       "      <td>2020-04-03 11:45:00+00:00</td>\n",
       "      <td>handmadeMasks</td>\n",
       "      <td>15.0</td>\n",
       "    </tr>\n",
       "    <tr>\n",
       "      <th>6352</th>\n",
       "      <td>rec373</td>\n",
       "      <td>2020-04-03 11:45:00+00:00</td>\n",
       "      <td>handSanitizer</td>\n",
       "      <td>7.0</td>\n",
       "    </tr>\n",
       "    <tr>\n",
       "      <th>6356</th>\n",
       "      <td>rec373</td>\n",
       "      <td>2020-04-03 11:45:00+00:00</td>\n",
       "      <td>nitrileGloves</td>\n",
       "      <td>100.0</td>\n",
       "    </tr>\n",
       "  </tbody>\n",
       "</table>\n",
       "<p>2076 rows × 4 columns</p>\n",
       "</div>"
      ],
      "text/plain": [
       "      rec_id                      date                ppe      qty\n",
       "1       rec0 2020-04-02 16:27:00+00:00        respirators  10000.0\n",
       "2       rec0 2020-04-02 16:27:00+00:00        faceShields   5000.0\n",
       "14      rec0 2020-04-02 16:27:00+00:00              gowns   1000.0\n",
       "15      rec0 2020-04-02 16:27:00+00:00      nitrileGloves  10000.0\n",
       "18      rec1 2020-04-02 16:35:00+00:00        respirators      9.0\n",
       "...      ...                       ...                ...      ...\n",
       "6344  rec373 2020-04-03 11:45:00+00:00       thermometers      2.0\n",
       "6347  rec373 2020-04-03 11:45:00+00:00  disinfectingWipes      7.0\n",
       "6350  rec373 2020-04-03 11:45:00+00:00      handmadeMasks     15.0\n",
       "6352  rec373 2020-04-03 11:45:00+00:00      handSanitizer      7.0\n",
       "6356  rec373 2020-04-03 11:45:00+00:00      nitrileGloves    100.0\n",
       "\n",
       "[2076 rows x 4 columns]"
      ]
     },
     "execution_count": 11,
     "metadata": {},
     "output_type": "execute_result"
    }
   ],
   "source": [
    "recipients = pd.read_csv('recipients.csv',index_col=0,parse_dates=['date'])\n",
    "recipients"
   ]
  },
  {
   "cell_type": "markdown",
   "metadata": {},
   "source": [
    "modify"
   ]
  },
  {
   "cell_type": "code",
   "execution_count": 32,
   "metadata": {},
   "outputs": [],
   "source": [
    "recipients.loc[1] = ['rec0','2020-04-02 16:27:00+00:00',ppe,6]"
   ]
  },
  {
   "cell_type": "code",
   "execution_count": 31,
   "metadata": {},
   "outputs": [],
   "source": [
    "recipients.loc[6352] = ['rec0','2020-04-03 11:45:00+00:00',ppe,6]"
   ]
  },
  {
   "cell_type": "code",
   "execution_count": 33,
   "metadata": {},
   "outputs": [
    {
     "data": {
      "text/html": [
       "<div>\n",
       "<style scoped>\n",
       "    .dataframe tbody tr th:only-of-type {\n",
       "        vertical-align: middle;\n",
       "    }\n",
       "\n",
       "    .dataframe tbody tr th {\n",
       "        vertical-align: top;\n",
       "    }\n",
       "\n",
       "    .dataframe thead th {\n",
       "        text-align: right;\n",
       "    }\n",
       "</style>\n",
       "<table border=\"1\" class=\"dataframe\">\n",
       "  <thead>\n",
       "    <tr style=\"text-align: right;\">\n",
       "      <th></th>\n",
       "      <th>rec_id</th>\n",
       "      <th>date</th>\n",
       "      <th>ppe</th>\n",
       "      <th>qty</th>\n",
       "    </tr>\n",
       "  </thead>\n",
       "  <tbody>\n",
       "    <tr>\n",
       "      <th>1</th>\n",
       "      <td>rec0</td>\n",
       "      <td>2020-04-02 16:27:00+00:00</td>\n",
       "      <td>respirators</td>\n",
       "      <td>6.0</td>\n",
       "    </tr>\n",
       "    <tr>\n",
       "      <th>2</th>\n",
       "      <td>rec0</td>\n",
       "      <td>2020-04-02 16:27:00+00:00</td>\n",
       "      <td>faceShields</td>\n",
       "      <td>5000.0</td>\n",
       "    </tr>\n",
       "    <tr>\n",
       "      <th>14</th>\n",
       "      <td>rec0</td>\n",
       "      <td>2020-04-02 16:27:00+00:00</td>\n",
       "      <td>gowns</td>\n",
       "      <td>1000.0</td>\n",
       "    </tr>\n",
       "    <tr>\n",
       "      <th>15</th>\n",
       "      <td>rec0</td>\n",
       "      <td>2020-04-02 16:27:00+00:00</td>\n",
       "      <td>nitrileGloves</td>\n",
       "      <td>10000.0</td>\n",
       "    </tr>\n",
       "    <tr>\n",
       "      <th>18</th>\n",
       "      <td>rec1</td>\n",
       "      <td>2020-04-02 16:35:00+00:00</td>\n",
       "      <td>respirators</td>\n",
       "      <td>9.0</td>\n",
       "    </tr>\n",
       "    <tr>\n",
       "      <th>...</th>\n",
       "      <td>...</td>\n",
       "      <td>...</td>\n",
       "      <td>...</td>\n",
       "      <td>...</td>\n",
       "    </tr>\n",
       "    <tr>\n",
       "      <th>6344</th>\n",
       "      <td>rec373</td>\n",
       "      <td>2020-04-03 11:45:00+00:00</td>\n",
       "      <td>thermometers</td>\n",
       "      <td>2.0</td>\n",
       "    </tr>\n",
       "    <tr>\n",
       "      <th>6347</th>\n",
       "      <td>rec373</td>\n",
       "      <td>2020-04-03 11:45:00+00:00</td>\n",
       "      <td>disinfectingWipes</td>\n",
       "      <td>7.0</td>\n",
       "    </tr>\n",
       "    <tr>\n",
       "      <th>6350</th>\n",
       "      <td>rec373</td>\n",
       "      <td>2020-04-03 11:45:00+00:00</td>\n",
       "      <td>handmadeMasks</td>\n",
       "      <td>15.0</td>\n",
       "    </tr>\n",
       "    <tr>\n",
       "      <th>6352</th>\n",
       "      <td>rec0</td>\n",
       "      <td>2020-04-03 11:45:00+00:00</td>\n",
       "      <td>respirators</td>\n",
       "      <td>6.0</td>\n",
       "    </tr>\n",
       "    <tr>\n",
       "      <th>6356</th>\n",
       "      <td>rec373</td>\n",
       "      <td>2020-04-03 11:45:00+00:00</td>\n",
       "      <td>nitrileGloves</td>\n",
       "      <td>100.0</td>\n",
       "    </tr>\n",
       "  </tbody>\n",
       "</table>\n",
       "<p>2076 rows × 4 columns</p>\n",
       "</div>"
      ],
      "text/plain": [
       "      rec_id                       date                ppe      qty\n",
       "1       rec0  2020-04-02 16:27:00+00:00        respirators      6.0\n",
       "2       rec0  2020-04-02 16:27:00+00:00        faceShields   5000.0\n",
       "14      rec0  2020-04-02 16:27:00+00:00              gowns   1000.0\n",
       "15      rec0  2020-04-02 16:27:00+00:00      nitrileGloves  10000.0\n",
       "18      rec1  2020-04-02 16:35:00+00:00        respirators      9.0\n",
       "...      ...                        ...                ...      ...\n",
       "6344  rec373  2020-04-03 11:45:00+00:00       thermometers      2.0\n",
       "6347  rec373  2020-04-03 11:45:00+00:00  disinfectingWipes      7.0\n",
       "6350  rec373  2020-04-03 11:45:00+00:00      handmadeMasks     15.0\n",
       "6352    rec0  2020-04-03 11:45:00+00:00        respirators      6.0\n",
       "6356  rec373  2020-04-03 11:45:00+00:00      nitrileGloves    100.0\n",
       "\n",
       "[2076 rows x 4 columns]"
      ]
     },
     "execution_count": 33,
     "metadata": {},
     "output_type": "execute_result"
    }
   ],
   "source": [
    "recipients"
   ]
  },
  {
   "cell_type": "code",
   "execution_count": 34,
   "metadata": {},
   "outputs": [
    {
     "data": {
      "text/plain": [
       "don_id                               don0\n",
       "rec_id                               rec0\n",
       "qty                                    20\n",
       "remove_donor                         True\n",
       "date            2020-04-03 11:46:00+00:00\n",
       "ppe                           respirators\n",
       "Name: 0, dtype: object"
      ]
     },
     "execution_count": 34,
     "metadata": {},
     "output_type": "execute_result"
    }
   ],
   "source": [
    "dec = decisions.iloc[0]\n",
    "dec"
   ]
  },
  {
   "cell_type": "code",
   "execution_count": 40,
   "metadata": {},
   "outputs": [],
   "source": [
    "rem_qty_to_ship = dec.qty\n",
    "rec = dec.rec_id"
   ]
  },
  {
   "cell_type": "code",
   "execution_count": 41,
   "metadata": {},
   "outputs": [
    {
     "data": {
      "text/html": [
       "<div>\n",
       "<style scoped>\n",
       "    .dataframe tbody tr th:only-of-type {\n",
       "        vertical-align: middle;\n",
       "    }\n",
       "\n",
       "    .dataframe tbody tr th {\n",
       "        vertical-align: top;\n",
       "    }\n",
       "\n",
       "    .dataframe thead th {\n",
       "        text-align: right;\n",
       "    }\n",
       "</style>\n",
       "<table border=\"1\" class=\"dataframe\">\n",
       "  <thead>\n",
       "    <tr style=\"text-align: right;\">\n",
       "      <th></th>\n",
       "      <th>rec_id</th>\n",
       "      <th>date</th>\n",
       "      <th>ppe</th>\n",
       "      <th>qty</th>\n",
       "    </tr>\n",
       "  </thead>\n",
       "  <tbody>\n",
       "    <tr>\n",
       "      <th>1</th>\n",
       "      <td>rec0</td>\n",
       "      <td>2020-04-02 16:27:00+00:00</td>\n",
       "      <td>respirators</td>\n",
       "      <td>6.0</td>\n",
       "    </tr>\n",
       "    <tr>\n",
       "      <th>6352</th>\n",
       "      <td>rec0</td>\n",
       "      <td>2020-04-03 11:45:00+00:00</td>\n",
       "      <td>respirators</td>\n",
       "      <td>6.0</td>\n",
       "    </tr>\n",
       "  </tbody>\n",
       "</table>\n",
       "</div>"
      ],
      "text/plain": [
       "     rec_id                       date          ppe  qty\n",
       "1      rec0  2020-04-02 16:27:00+00:00  respirators  6.0\n",
       "6352   rec0  2020-04-03 11:45:00+00:00  respirators  6.0"
      ]
     },
     "execution_count": 41,
     "metadata": {},
     "output_type": "execute_result"
    }
   ],
   "source": [
    "rec_df = recipients[(recipients.rec_id == rec)&(recipients.ppe == ppe)]\n",
    "rec_df"
   ]
  },
  {
   "cell_type": "code",
   "execution_count": 42,
   "metadata": {},
   "outputs": [],
   "source": [
    "requests_to_remove = []\n",
    "for _,row in rec_df.iterrows():\n",
    "    request_id = row.name\n",
    "    request_qty = row.qty\n",
    "    request_date = row.date\n",
    "    if rem_qty_to_ship < request_qty:\n",
    "        # TODO modify the row, but keep it, then exit the loop\n",
    "        print('modify the row, but keep it, then exit the loop')\n",
    "    else:\n",
    "        # remove the row and update remo_qty_to_ship\n",
    "        rem_qty_to_ship -= request_qty\n",
    "        requests_to_remove.append(request_id)\n",
    "        "
   ]
  },
  {
   "cell_type": "code",
   "execution_count": 44,
   "metadata": {},
   "outputs": [
    {
     "data": {
      "text/plain": [
       "8.0"
      ]
     },
     "execution_count": 44,
     "metadata": {},
     "output_type": "execute_result"
    }
   ],
   "source": [
    "rem_qty_to_ship"
   ]
  },
  {
   "cell_type": "code",
   "execution_count": null,
   "metadata": {},
   "outputs": [],
   "source": [
    "requests_to_remove"
   ]
  }
 ],
 "metadata": {
  "kernelspec": {
   "display_name": "Python 3",
   "language": "python",
   "name": "python3"
  },
  "language_info": {
   "codemirror_mode": {
    "name": "ipython",
    "version": 3
   },
   "file_extension": ".py",
   "mimetype": "text/x-python",
   "name": "python",
   "nbconvert_exporter": "python",
   "pygments_lexer": "ipython3",
   "version": "3.6.6"
  }
 },
 "nbformat": 4,
 "nbformat_minor": 4
}
