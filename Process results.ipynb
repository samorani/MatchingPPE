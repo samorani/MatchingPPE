{
 "cells": [
  {
   "cell_type": "markdown",
   "metadata": {},
   "source": [
    "# Process results"
   ]
  },
  {
   "cell_type": "markdown",
   "metadata": {},
   "source": [
    "This notebook analyzes the matching decisions by the simulation.py and summarizes a few metrics"
   ]
  },
  {
   "cell_type": "code",
   "execution_count": 1,
   "metadata": {},
   "outputs": [],
   "source": [
    "import pandas as pd\n",
    "import numpy as np"
   ]
  },
  {
   "cell_type": "code",
   "execution_count": 13,
   "metadata": {},
   "outputs": [
    {
     "output_type": "execute_result",
     "data": {
      "text/plain": [
       "  rec_id                      date     ppe    qty\n",
       "0     R1 2020-04-04 13:08:00+00:00   masks  100.0\n",
       "1     R1 2020-04-09 13:08:00+00:00  gloves  300.0\n",
       "2     R2 2020-04-10 13:08:00+00:00  gloves  200.0\n",
       "3     R2 2020-04-12 13:08:00+00:00   gowns   50.0\n",
       "4     R3 2020-04-05 13:08:00+00:00   gowns   60.0"
      ],
      "text/html": "<div>\n<style scoped>\n    .dataframe tbody tr th:only-of-type {\n        vertical-align: middle;\n    }\n\n    .dataframe tbody tr th {\n        vertical-align: top;\n    }\n\n    .dataframe thead th {\n        text-align: right;\n    }\n</style>\n<table border=\"1\" class=\"dataframe\">\n  <thead>\n    <tr style=\"text-align: right;\">\n      <th></th>\n      <th>rec_id</th>\n      <th>date</th>\n      <th>ppe</th>\n      <th>qty</th>\n    </tr>\n  </thead>\n  <tbody>\n    <tr>\n      <th>0</th>\n      <td>R1</td>\n      <td>2020-04-04 13:08:00+00:00</td>\n      <td>masks</td>\n      <td>100.0</td>\n    </tr>\n    <tr>\n      <th>1</th>\n      <td>R1</td>\n      <td>2020-04-09 13:08:00+00:00</td>\n      <td>gloves</td>\n      <td>300.0</td>\n    </tr>\n    <tr>\n      <th>2</th>\n      <td>R2</td>\n      <td>2020-04-10 13:08:00+00:00</td>\n      <td>gloves</td>\n      <td>200.0</td>\n    </tr>\n    <tr>\n      <th>3</th>\n      <td>R2</td>\n      <td>2020-04-12 13:08:00+00:00</td>\n      <td>gowns</td>\n      <td>50.0</td>\n    </tr>\n    <tr>\n      <th>4</th>\n      <td>R3</td>\n      <td>2020-04-05 13:08:00+00:00</td>\n      <td>gowns</td>\n      <td>60.0</td>\n    </tr>\n  </tbody>\n</table>\n</div>"
     },
     "metadata": {},
     "execution_count": 13
    }
   ],
   "source": [
    "recipients = pd.read_csv('data/test/test_recipients.csv',index_col=0,parse_dates=['date'])\n",
    "recipients = recipients[recipients['qty']>0]\n",
    "recipients"
   ]
  },
  {
   "cell_type": "code",
   "execution_count": 14,
   "metadata": {},
   "outputs": [
    {
     "output_type": "execute_result",
     "data": {
      "text/plain": [
       "  don_id                      date     ppe  qty  don_req_id\n",
       "0     D1 2020-04-05 13:08:00+00:00  gloves  400           0\n",
       "1     D1 2020-04-11 13:08:00+00:00   gowns   20           1\n",
       "2     D2 2020-04-12 13:08:00+00:00   gowns   30           2\n",
       "3     D2 2020-04-12 13:08:00+00:00   masks  130           3"
      ],
      "text/html": "<div>\n<style scoped>\n    .dataframe tbody tr th:only-of-type {\n        vertical-align: middle;\n    }\n\n    .dataframe tbody tr th {\n        vertical-align: top;\n    }\n\n    .dataframe thead th {\n        text-align: right;\n    }\n</style>\n<table border=\"1\" class=\"dataframe\">\n  <thead>\n    <tr style=\"text-align: right;\">\n      <th></th>\n      <th>don_id</th>\n      <th>date</th>\n      <th>ppe</th>\n      <th>qty</th>\n      <th>don_req_id</th>\n    </tr>\n  </thead>\n  <tbody>\n    <tr>\n      <th>0</th>\n      <td>D1</td>\n      <td>2020-04-05 13:08:00+00:00</td>\n      <td>gloves</td>\n      <td>400</td>\n      <td>0</td>\n    </tr>\n    <tr>\n      <th>1</th>\n      <td>D1</td>\n      <td>2020-04-11 13:08:00+00:00</td>\n      <td>gowns</td>\n      <td>20</td>\n      <td>1</td>\n    </tr>\n    <tr>\n      <th>2</th>\n      <td>D2</td>\n      <td>2020-04-12 13:08:00+00:00</td>\n      <td>gowns</td>\n      <td>30</td>\n      <td>2</td>\n    </tr>\n    <tr>\n      <th>3</th>\n      <td>D2</td>\n      <td>2020-04-12 13:08:00+00:00</td>\n      <td>masks</td>\n      <td>130</td>\n      <td>3</td>\n    </tr>\n  </tbody>\n</table>\n</div>"
     },
     "metadata": {},
     "execution_count": 14
    }
   ],
   "source": [
    "donors = pd.read_csv('data/test/test_donors.csv',index_col=0,parse_dates=['date'])\n",
    "donors"
   ]
  },
  {
   "cell_type": "code",
   "execution_count": 15,
   "metadata": {},
   "outputs": [
    {
     "output_type": "execute_result",
     "data": {
      "text/plain": [
       "                       date don_id rec_id     ppe  qty  distance\n",
       "0 2020-04-15 13:08:00+00:00     D1     R1  gloves  300       100\n",
       "1 2020-04-15 13:08:00+00:00     D1     R2  gloves  100       100\n",
       "2 2020-04-15 13:08:00+00:00     D1     R2   gowns   20       100\n",
       "3 2020-04-20 13:08:00+00:00     D2     R1   masks  130        50\n",
       "4 2020-04-20 13:08:00+00:00     D2     R2   gowns   30        50"
      ],
      "text/html": "<div>\n<style scoped>\n    .dataframe tbody tr th:only-of-type {\n        vertical-align: middle;\n    }\n\n    .dataframe tbody tr th {\n        vertical-align: top;\n    }\n\n    .dataframe thead th {\n        text-align: right;\n    }\n</style>\n<table border=\"1\" class=\"dataframe\">\n  <thead>\n    <tr style=\"text-align: right;\">\n      <th></th>\n      <th>date</th>\n      <th>don_id</th>\n      <th>rec_id</th>\n      <th>ppe</th>\n      <th>qty</th>\n      <th>distance</th>\n    </tr>\n  </thead>\n  <tbody>\n    <tr>\n      <th>0</th>\n      <td>2020-04-15 13:08:00+00:00</td>\n      <td>D1</td>\n      <td>R1</td>\n      <td>gloves</td>\n      <td>300</td>\n      <td>100</td>\n    </tr>\n    <tr>\n      <th>1</th>\n      <td>2020-04-15 13:08:00+00:00</td>\n      <td>D1</td>\n      <td>R2</td>\n      <td>gloves</td>\n      <td>100</td>\n      <td>100</td>\n    </tr>\n    <tr>\n      <th>2</th>\n      <td>2020-04-15 13:08:00+00:00</td>\n      <td>D1</td>\n      <td>R2</td>\n      <td>gowns</td>\n      <td>20</td>\n      <td>100</td>\n    </tr>\n    <tr>\n      <th>3</th>\n      <td>2020-04-20 13:08:00+00:00</td>\n      <td>D2</td>\n      <td>R1</td>\n      <td>masks</td>\n      <td>130</td>\n      <td>50</td>\n    </tr>\n    <tr>\n      <th>4</th>\n      <td>2020-04-20 13:08:00+00:00</td>\n      <td>D2</td>\n      <td>R2</td>\n      <td>gowns</td>\n      <td>30</td>\n      <td>50</td>\n    </tr>\n  </tbody>\n</table>\n</div>"
     },
     "metadata": {},
     "execution_count": 15
    }
   ],
   "source": [
    "import pickle\n",
    "decisions = pd.read_csv('data/test/test_decisions.csv',index_col=0,parse_dates=['date'])\n",
    "decisions"
   ]
  },
  {
   "cell_type": "code",
   "execution_count": 16,
   "metadata": {},
   "outputs": [],
   "source": [
    "all_ppes = set(donors.ppe.unique())\n",
    "all_ppes = all_ppes.union(set(recipients.ppe.unique()))"
   ]
  },
  {
   "cell_type": "code",
   "execution_count": 17,
   "metadata": {},
   "outputs": [],
   "source": [
    "#ppes_to_consider = set(donors.ppe.unique())\n",
    "#ppes_to_consider = ppes_to_consider.intersection(set(recipients.ppe.unique()))"
   ]
  },
  {
   "source": [
    "# Set up result table"
   ],
   "cell_type": "markdown",
   "metadata": {}
  },
  {
   "cell_type": "code",
   "execution_count": 41,
   "metadata": {},
   "outputs": [
    {
     "output_type": "execute_result",
     "data": {
      "text/plain": [
       "Empty DataFrame\n",
       "Columns: [metric_name, description, value]\n",
       "Index: []"
      ],
      "text/html": "<div>\n<style scoped>\n    .dataframe tbody tr th:only-of-type {\n        vertical-align: middle;\n    }\n\n    .dataframe tbody tr th {\n        vertical-align: top;\n    }\n\n    .dataframe thead th {\n        text-align: right;\n    }\n</style>\n<table border=\"1\" class=\"dataframe\">\n  <thead>\n    <tr style=\"text-align: right;\">\n      <th></th>\n      <th>metric_name</th>\n      <th>description</th>\n      <th>value</th>\n    </tr>\n  </thead>\n  <tbody>\n  </tbody>\n</table>\n</div>"
     },
     "metadata": {},
     "execution_count": 41
    }
   ],
   "source": [
    "result = pd.DataFrame(columns=['metric_name','description','value'])\n",
    "result"
   ]
  },
  {
   "source": [
    "# Fill rate for rec_id,ppe"
   ],
   "cell_type": "markdown",
   "metadata": {}
  },
  {
   "cell_type": "code",
   "execution_count": 35,
   "metadata": {},
   "outputs": [
    {
     "output_type": "execute_result",
     "data": {
      "text/plain": [
       "  rec_id     ppe  requested  fill_rate\n",
       "0     R1  gloves      300.0         -1\n",
       "1     R1   masks      100.0         -1\n",
       "2     R2  gloves      200.0         -1\n",
       "3     R2   gowns       50.0         -1\n",
       "4     R3   gowns       60.0         -1"
      ],
      "text/html": "<div>\n<style scoped>\n    .dataframe tbody tr th:only-of-type {\n        vertical-align: middle;\n    }\n\n    .dataframe tbody tr th {\n        vertical-align: top;\n    }\n\n    .dataframe thead th {\n        text-align: right;\n    }\n</style>\n<table border=\"1\" class=\"dataframe\">\n  <thead>\n    <tr style=\"text-align: right;\">\n      <th></th>\n      <th>rec_id</th>\n      <th>ppe</th>\n      <th>requested</th>\n      <th>fill_rate</th>\n    </tr>\n  </thead>\n  <tbody>\n    <tr>\n      <th>0</th>\n      <td>R1</td>\n      <td>gloves</td>\n      <td>300.0</td>\n      <td>-1</td>\n    </tr>\n    <tr>\n      <th>1</th>\n      <td>R1</td>\n      <td>masks</td>\n      <td>100.0</td>\n      <td>-1</td>\n    </tr>\n    <tr>\n      <th>2</th>\n      <td>R2</td>\n      <td>gloves</td>\n      <td>200.0</td>\n      <td>-1</td>\n    </tr>\n    <tr>\n      <th>3</th>\n      <td>R2</td>\n      <td>gowns</td>\n      <td>50.0</td>\n      <td>-1</td>\n    </tr>\n    <tr>\n      <th>4</th>\n      <td>R3</td>\n      <td>gowns</td>\n      <td>60.0</td>\n      <td>-1</td>\n    </tr>\n  </tbody>\n</table>\n</div>"
     },
     "metadata": {},
     "execution_count": 35
    }
   ],
   "source": [
    "fr = recipients.groupby(['rec_id','ppe'])['qty'].agg(['sum','size'])\n",
    "fr = fr.reset_index()\n",
    "fr.columns=['rec_id','ppe','requested', 'fill_rate']\n",
    "fr['fill_rate'] = -1\n",
    "fr"
   ]
  },
  {
   "cell_type": "code",
   "execution_count": 42,
   "metadata": {},
   "outputs": [
    {
     "output_type": "execute_result",
     "data": {
      "text/plain": [
       "  rec_id     ppe  requested  fill_rate\n",
       "0     R1  gloves      300.0        1.0\n",
       "1     R1   masks      100.0        1.0\n",
       "2     R2  gloves      200.0        0.5\n",
       "3     R2   gowns       50.0        1.0\n",
       "4     R3   gowns       60.0        0.0"
      ],
      "text/html": "<div>\n<style scoped>\n    .dataframe tbody tr th:only-of-type {\n        vertical-align: middle;\n    }\n\n    .dataframe tbody tr th {\n        vertical-align: top;\n    }\n\n    .dataframe thead th {\n        text-align: right;\n    }\n</style>\n<table border=\"1\" class=\"dataframe\">\n  <thead>\n    <tr style=\"text-align: right;\">\n      <th></th>\n      <th>rec_id</th>\n      <th>ppe</th>\n      <th>requested</th>\n      <th>fill_rate</th>\n    </tr>\n  </thead>\n  <tbody>\n    <tr>\n      <th>0</th>\n      <td>R1</td>\n      <td>gloves</td>\n      <td>300.0</td>\n      <td>1.0</td>\n    </tr>\n    <tr>\n      <th>1</th>\n      <td>R1</td>\n      <td>masks</td>\n      <td>100.0</td>\n      <td>1.0</td>\n    </tr>\n    <tr>\n      <th>2</th>\n      <td>R2</td>\n      <td>gloves</td>\n      <td>200.0</td>\n      <td>0.5</td>\n    </tr>\n    <tr>\n      <th>3</th>\n      <td>R2</td>\n      <td>gowns</td>\n      <td>50.0</td>\n      <td>1.0</td>\n    </tr>\n    <tr>\n      <th>4</th>\n      <td>R3</td>\n      <td>gowns</td>\n      <td>60.0</td>\n      <td>0.0</td>\n    </tr>\n  </tbody>\n</table>\n</div>"
     },
     "metadata": {},
     "execution_count": 42
    }
   ],
   "source": [
    "for i,row in fr.iterrows():\n",
    "    rec = row.rec_id\n",
    "    ppe = row.ppe\n",
    "    # find proportion of ppe received by rec out of the ones requested\n",
    "    received = decisions.loc[(decisions['rec_id'] == rec) & (decisions['ppe'] == ppe),'qty'].sum()\n",
    "    #print(f'{rec} received {received} units of {ppe} out of {row.requested} units requested')\n",
    "    val = 0 if received == 0 else min(1,received/row.requested)\n",
    "    fr.loc[i,'fill_rate'] = val\n",
    "    result.loc[len(result)] = [f'fill rate ({rec},{ppe})', f'fill rate of recipient {rec} limited to {ppe}',val]\n",
    "fr"
   ]
  },
  {
   "cell_type": "code",
   "execution_count": 43,
   "metadata": {},
   "outputs": [
    {
     "output_type": "execute_result",
     "data": {
      "text/plain": [
       "             metric_name                                  description value\n",
       "0  fill rate (R1,gloves)  fill rate of recipient R1 limited to gloves     1\n",
       "1   fill rate (R1,masks)   fill rate of recipient R1 limited to masks     1\n",
       "2  fill rate (R2,gloves)  fill rate of recipient R2 limited to gloves   0.5\n",
       "3   fill rate (R2,gowns)   fill rate of recipient R2 limited to gowns     1\n",
       "4   fill rate (R3,gowns)   fill rate of recipient R3 limited to gowns     0"
      ],
      "text/html": "<div>\n<style scoped>\n    .dataframe tbody tr th:only-of-type {\n        vertical-align: middle;\n    }\n\n    .dataframe tbody tr th {\n        vertical-align: top;\n    }\n\n    .dataframe thead th {\n        text-align: right;\n    }\n</style>\n<table border=\"1\" class=\"dataframe\">\n  <thead>\n    <tr style=\"text-align: right;\">\n      <th></th>\n      <th>metric_name</th>\n      <th>description</th>\n      <th>value</th>\n    </tr>\n  </thead>\n  <tbody>\n    <tr>\n      <th>0</th>\n      <td>fill rate (R1,gloves)</td>\n      <td>fill rate of recipient R1 limited to gloves</td>\n      <td>1</td>\n    </tr>\n    <tr>\n      <th>1</th>\n      <td>fill rate (R1,masks)</td>\n      <td>fill rate of recipient R1 limited to masks</td>\n      <td>1</td>\n    </tr>\n    <tr>\n      <th>2</th>\n      <td>fill rate (R2,gloves)</td>\n      <td>fill rate of recipient R2 limited to gloves</td>\n      <td>0.5</td>\n    </tr>\n    <tr>\n      <th>3</th>\n      <td>fill rate (R2,gowns)</td>\n      <td>fill rate of recipient R2 limited to gowns</td>\n      <td>1</td>\n    </tr>\n    <tr>\n      <th>4</th>\n      <td>fill rate (R3,gowns)</td>\n      <td>fill rate of recipient R3 limited to gowns</td>\n      <td>0</td>\n    </tr>\n  </tbody>\n</table>\n</div>"
     },
     "metadata": {},
     "execution_count": 43
    }
   ],
   "source": [
    "result"
   ]
  },
  {
   "source": [
    "# Fill rate for each ppe"
   ],
   "cell_type": "markdown",
   "metadata": {}
  },
  {
   "source": [
    "For each ppe, the average fill rate from table fr"
   ],
   "cell_type": "markdown",
   "metadata": {}
  },
  {
   "cell_type": "code",
   "execution_count": 32,
   "metadata": {},
   "outputs": [
    {
     "output_type": "execute_result",
     "data": {
      "text/plain": [
       "ppe\n",
       "gloves    0.75\n",
       "gowns     0.50\n",
       "masks     1.00\n",
       "Name: fill_rate, dtype: float64"
      ]
     },
     "metadata": {},
     "execution_count": 32
    }
   ],
   "source": [
    "fr_p = fr.groupby('ppe')['fill_rate'].mean()\n",
    "fr_p"
   ]
  },
  {
   "cell_type": "code",
   "execution_count": 46,
   "metadata": {},
   "outputs": [],
   "source": [
    "for ppe,val in fr_p.items():\n",
    "    result.loc[len(result)] = [f'fill rate ({ppe})', f'average fill rate among recipients who requested {ppe}',val]"
   ]
  },
  {
   "cell_type": "code",
   "execution_count": 47,
   "metadata": {},
   "outputs": [
    {
     "output_type": "execute_result",
     "data": {
      "text/plain": [
       "             metric_name                                        description  \\\n",
       "0  fill rate (R1,gloves)        fill rate of recipient R1 limited to gloves   \n",
       "1   fill rate (R1,masks)         fill rate of recipient R1 limited to masks   \n",
       "2  fill rate (R2,gloves)        fill rate of recipient R2 limited to gloves   \n",
       "3   fill rate (R2,gowns)         fill rate of recipient R2 limited to gowns   \n",
       "4   fill rate (R3,gowns)         fill rate of recipient R3 limited to gowns   \n",
       "5     fill rate (gloves)  average fill rate among recipients who request...   \n",
       "6      fill rate (gowns)  average fill rate among recipients who request...   \n",
       "7      fill rate (masks)  average fill rate among recipients who request...   \n",
       "\n",
       "  value  \n",
       "0     1  \n",
       "1     1  \n",
       "2   0.5  \n",
       "3     1  \n",
       "4     0  \n",
       "5  0.75  \n",
       "6   0.5  \n",
       "7     1  "
      ],
      "text/html": "<div>\n<style scoped>\n    .dataframe tbody tr th:only-of-type {\n        vertical-align: middle;\n    }\n\n    .dataframe tbody tr th {\n        vertical-align: top;\n    }\n\n    .dataframe thead th {\n        text-align: right;\n    }\n</style>\n<table border=\"1\" class=\"dataframe\">\n  <thead>\n    <tr style=\"text-align: right;\">\n      <th></th>\n      <th>metric_name</th>\n      <th>description</th>\n      <th>value</th>\n    </tr>\n  </thead>\n  <tbody>\n    <tr>\n      <th>0</th>\n      <td>fill rate (R1,gloves)</td>\n      <td>fill rate of recipient R1 limited to gloves</td>\n      <td>1</td>\n    </tr>\n    <tr>\n      <th>1</th>\n      <td>fill rate (R1,masks)</td>\n      <td>fill rate of recipient R1 limited to masks</td>\n      <td>1</td>\n    </tr>\n    <tr>\n      <th>2</th>\n      <td>fill rate (R2,gloves)</td>\n      <td>fill rate of recipient R2 limited to gloves</td>\n      <td>0.5</td>\n    </tr>\n    <tr>\n      <th>3</th>\n      <td>fill rate (R2,gowns)</td>\n      <td>fill rate of recipient R2 limited to gowns</td>\n      <td>1</td>\n    </tr>\n    <tr>\n      <th>4</th>\n      <td>fill rate (R3,gowns)</td>\n      <td>fill rate of recipient R3 limited to gowns</td>\n      <td>0</td>\n    </tr>\n    <tr>\n      <th>5</th>\n      <td>fill rate (gloves)</td>\n      <td>average fill rate among recipients who request...</td>\n      <td>0.75</td>\n    </tr>\n    <tr>\n      <th>6</th>\n      <td>fill rate (gowns)</td>\n      <td>average fill rate among recipients who request...</td>\n      <td>0.5</td>\n    </tr>\n    <tr>\n      <th>7</th>\n      <td>fill rate (masks)</td>\n      <td>average fill rate among recipients who request...</td>\n      <td>1</td>\n    </tr>\n  </tbody>\n</table>\n</div>"
     },
     "metadata": {},
     "execution_count": 47
    }
   ],
   "source": [
    "result"
   ]
  },
  {
   "source": [
    "Excluding the zero fill_rates"
   ],
   "cell_type": "markdown",
   "metadata": {}
  },
  {
   "cell_type": "code",
   "execution_count": 33,
   "metadata": {},
   "outputs": [
    {
     "output_type": "execute_result",
     "data": {
      "text/plain": [
       "ppe\n",
       "gloves    0.75\n",
       "gowns     1.00\n",
       "masks     1.00\n",
       "Name: fill_rate, dtype: float64"
      ]
     },
     "metadata": {},
     "execution_count": 33
    }
   ],
   "source": [
    "fr_p_zero = fr[fr.fill_rate > 0].groupby('ppe')['fill_rate'].mean()\n",
    "fr_p_zero"
   ]
  },
  {
   "cell_type": "code",
   "execution_count": 48,
   "metadata": {},
   "outputs": [
    {
     "output_type": "execute_result",
     "data": {
      "text/plain": [
       "                     metric_name  \\\n",
       "0          fill rate (R1,gloves)   \n",
       "1           fill rate (R1,masks)   \n",
       "2          fill rate (R2,gloves)   \n",
       "3           fill rate (R2,gowns)   \n",
       "4           fill rate (R3,gowns)   \n",
       "5             fill rate (gloves)   \n",
       "6              fill rate (gowns)   \n",
       "7              fill rate (masks)   \n",
       "8   fill rate exc zeros (gloves)   \n",
       "9    fill rate exc zeros (gowns)   \n",
       "10   fill rate exc zeros (masks)   \n",
       "\n",
       "                                          description value  \n",
       "0         fill rate of recipient R1 limited to gloves     1  \n",
       "1          fill rate of recipient R1 limited to masks     1  \n",
       "2         fill rate of recipient R2 limited to gloves   0.5  \n",
       "3          fill rate of recipient R2 limited to gowns     1  \n",
       "4          fill rate of recipient R3 limited to gowns     0  \n",
       "5   average fill rate among recipients who request...  0.75  \n",
       "6   average fill rate among recipients who request...   0.5  \n",
       "7   average fill rate among recipients who request...     1  \n",
       "8   average fill rate among recipients who request...  0.75  \n",
       "9   average fill rate among recipients who request...     1  \n",
       "10  average fill rate among recipients who request...     1  "
      ],
      "text/html": "<div>\n<style scoped>\n    .dataframe tbody tr th:only-of-type {\n        vertical-align: middle;\n    }\n\n    .dataframe tbody tr th {\n        vertical-align: top;\n    }\n\n    .dataframe thead th {\n        text-align: right;\n    }\n</style>\n<table border=\"1\" class=\"dataframe\">\n  <thead>\n    <tr style=\"text-align: right;\">\n      <th></th>\n      <th>metric_name</th>\n      <th>description</th>\n      <th>value</th>\n    </tr>\n  </thead>\n  <tbody>\n    <tr>\n      <th>0</th>\n      <td>fill rate (R1,gloves)</td>\n      <td>fill rate of recipient R1 limited to gloves</td>\n      <td>1</td>\n    </tr>\n    <tr>\n      <th>1</th>\n      <td>fill rate (R1,masks)</td>\n      <td>fill rate of recipient R1 limited to masks</td>\n      <td>1</td>\n    </tr>\n    <tr>\n      <th>2</th>\n      <td>fill rate (R2,gloves)</td>\n      <td>fill rate of recipient R2 limited to gloves</td>\n      <td>0.5</td>\n    </tr>\n    <tr>\n      <th>3</th>\n      <td>fill rate (R2,gowns)</td>\n      <td>fill rate of recipient R2 limited to gowns</td>\n      <td>1</td>\n    </tr>\n    <tr>\n      <th>4</th>\n      <td>fill rate (R3,gowns)</td>\n      <td>fill rate of recipient R3 limited to gowns</td>\n      <td>0</td>\n    </tr>\n    <tr>\n      <th>5</th>\n      <td>fill rate (gloves)</td>\n      <td>average fill rate among recipients who request...</td>\n      <td>0.75</td>\n    </tr>\n    <tr>\n      <th>6</th>\n      <td>fill rate (gowns)</td>\n      <td>average fill rate among recipients who request...</td>\n      <td>0.5</td>\n    </tr>\n    <tr>\n      <th>7</th>\n      <td>fill rate (masks)</td>\n      <td>average fill rate among recipients who request...</td>\n      <td>1</td>\n    </tr>\n    <tr>\n      <th>8</th>\n      <td>fill rate exc zeros (gloves)</td>\n      <td>average fill rate among recipients who request...</td>\n      <td>0.75</td>\n    </tr>\n    <tr>\n      <th>9</th>\n      <td>fill rate exc zeros (gowns)</td>\n      <td>average fill rate among recipients who request...</td>\n      <td>1</td>\n    </tr>\n    <tr>\n      <th>10</th>\n      <td>fill rate exc zeros (masks)</td>\n      <td>average fill rate among recipients who request...</td>\n      <td>1</td>\n    </tr>\n  </tbody>\n</table>\n</div>"
     },
     "metadata": {},
     "execution_count": 48
    }
   ],
   "source": [
    "for ppe,val in fr_p_zero.items():\n",
    "    result.loc[len(result)] = [f'fill rate exc zeros ({ppe})', f'average fill rate among recipients who requested {ppe} and received at least one unit',val]\n",
    "result"
   ]
  },
  {
   "source": [
    "# overall fill rate"
   ],
   "cell_type": "markdown",
   "metadata": {}
  },
  {
   "cell_type": "code",
   "execution_count": 52,
   "metadata": {},
   "outputs": [],
   "source": [
    "result.loc[len(result)] = [f'fill rate', f'overall fill rate, i.e., the average of the fill rates (ppe)',fr_p.mean()]\n",
    "result.loc[len(result)] = [f'fill rate exc zeros', f'overall fill rate among recipients who received something, i.e., the average of the fill rates (ppe) among recipients who received at least one unit',fr_p_zero.mean()]\n",
    "\n"
   ]
  },
  {
   "cell_type": "code",
   "execution_count": 53,
   "metadata": {},
   "outputs": [
    {
     "output_type": "execute_result",
     "data": {
      "text/plain": [
       "                     metric_name  \\\n",
       "0          fill rate (R1,gloves)   \n",
       "1           fill rate (R1,masks)   \n",
       "2          fill rate (R2,gloves)   \n",
       "3           fill rate (R2,gowns)   \n",
       "4           fill rate (R3,gowns)   \n",
       "5             fill rate (gloves)   \n",
       "6              fill rate (gowns)   \n",
       "7              fill rate (masks)   \n",
       "8   fill rate exc zeros (gloves)   \n",
       "9    fill rate exc zeros (gowns)   \n",
       "10   fill rate exc zeros (masks)   \n",
       "11                     fill rate   \n",
       "12           fill rate exc zeros   \n",
       "\n",
       "                                          description     value  \n",
       "0         fill rate of recipient R1 limited to gloves         1  \n",
       "1          fill rate of recipient R1 limited to masks         1  \n",
       "2         fill rate of recipient R2 limited to gloves       0.5  \n",
       "3          fill rate of recipient R2 limited to gowns         1  \n",
       "4          fill rate of recipient R3 limited to gowns         0  \n",
       "5   average fill rate among recipients who request...      0.75  \n",
       "6   average fill rate among recipients who request...       0.5  \n",
       "7   average fill rate among recipients who request...         1  \n",
       "8   average fill rate among recipients who request...      0.75  \n",
       "9   average fill rate among recipients who request...         1  \n",
       "10  average fill rate among recipients who request...         1  \n",
       "11  overall fill rate, i.e., the average of the fi...      0.75  \n",
       "12  overall fill rate among recipients who receive...  0.916667  "
      ],
      "text/html": "<div>\n<style scoped>\n    .dataframe tbody tr th:only-of-type {\n        vertical-align: middle;\n    }\n\n    .dataframe tbody tr th {\n        vertical-align: top;\n    }\n\n    .dataframe thead th {\n        text-align: right;\n    }\n</style>\n<table border=\"1\" class=\"dataframe\">\n  <thead>\n    <tr style=\"text-align: right;\">\n      <th></th>\n      <th>metric_name</th>\n      <th>description</th>\n      <th>value</th>\n    </tr>\n  </thead>\n  <tbody>\n    <tr>\n      <th>0</th>\n      <td>fill rate (R1,gloves)</td>\n      <td>fill rate of recipient R1 limited to gloves</td>\n      <td>1</td>\n    </tr>\n    <tr>\n      <th>1</th>\n      <td>fill rate (R1,masks)</td>\n      <td>fill rate of recipient R1 limited to masks</td>\n      <td>1</td>\n    </tr>\n    <tr>\n      <th>2</th>\n      <td>fill rate (R2,gloves)</td>\n      <td>fill rate of recipient R2 limited to gloves</td>\n      <td>0.5</td>\n    </tr>\n    <tr>\n      <th>3</th>\n      <td>fill rate (R2,gowns)</td>\n      <td>fill rate of recipient R2 limited to gowns</td>\n      <td>1</td>\n    </tr>\n    <tr>\n      <th>4</th>\n      <td>fill rate (R3,gowns)</td>\n      <td>fill rate of recipient R3 limited to gowns</td>\n      <td>0</td>\n    </tr>\n    <tr>\n      <th>5</th>\n      <td>fill rate (gloves)</td>\n      <td>average fill rate among recipients who request...</td>\n      <td>0.75</td>\n    </tr>\n    <tr>\n      <th>6</th>\n      <td>fill rate (gowns)</td>\n      <td>average fill rate among recipients who request...</td>\n      <td>0.5</td>\n    </tr>\n    <tr>\n      <th>7</th>\n      <td>fill rate (masks)</td>\n      <td>average fill rate among recipients who request...</td>\n      <td>1</td>\n    </tr>\n    <tr>\n      <th>8</th>\n      <td>fill rate exc zeros (gloves)</td>\n      <td>average fill rate among recipients who request...</td>\n      <td>0.75</td>\n    </tr>\n    <tr>\n      <th>9</th>\n      <td>fill rate exc zeros (gowns)</td>\n      <td>average fill rate among recipients who request...</td>\n      <td>1</td>\n    </tr>\n    <tr>\n      <th>10</th>\n      <td>fill rate exc zeros (masks)</td>\n      <td>average fill rate among recipients who request...</td>\n      <td>1</td>\n    </tr>\n    <tr>\n      <th>11</th>\n      <td>fill rate</td>\n      <td>overall fill rate, i.e., the average of the fi...</td>\n      <td>0.75</td>\n    </tr>\n    <tr>\n      <th>12</th>\n      <td>fill rate exc zeros</td>\n      <td>overall fill rate among recipients who receive...</td>\n      <td>0.916667</td>\n    </tr>\n  </tbody>\n</table>\n</div>"
     },
     "metadata": {},
     "execution_count": 53
    }
   ],
   "source": [
    "result"
   ]
  },
  {
   "source": [
    "# Continue here with avg miles, holding time, etc"
   ],
   "cell_type": "markdown",
   "metadata": {}
  },
  {
   "cell_type": "code",
   "execution_count": null,
   "metadata": {},
   "outputs": [],
   "source": []
  },
  {
   "cell_type": "code",
   "execution_count": null,
   "metadata": {},
   "outputs": [],
   "source": []
  },
  {
   "cell_type": "code",
   "execution_count": null,
   "metadata": {},
   "outputs": [],
   "source": []
  },
  {
   "cell_type": "code",
   "execution_count": null,
   "metadata": {},
   "outputs": [],
   "source": []
  },
  {
   "cell_type": "code",
   "execution_count": null,
   "metadata": {},
   "outputs": [],
   "source": []
  },
  {
   "cell_type": "markdown",
   "metadata": {},
   "source": [
    "# For each ppe, compute stats"
   ]
  },
  {
   "cell_type": "markdown",
   "metadata": {},
   "source": [
    "Fill rate"
   ]
  },
  {
   "cell_type": "code",
   "execution_count": 11,
   "metadata": {},
   "outputs": [
    {
     "data": {
      "text/html": [
       "<div>\n",
       "<style scoped>\n",
       "    .dataframe tbody tr th:only-of-type {\n",
       "        vertical-align: middle;\n",
       "    }\n",
       "\n",
       "    .dataframe tbody tr th {\n",
       "        vertical-align: top;\n",
       "    }\n",
       "\n",
       "    .dataframe thead th {\n",
       "        text-align: right;\n",
       "    }\n",
       "</style>\n",
       "<table border=\"1\" class=\"dataframe\">\n",
       "  <thead>\n",
       "    <tr style=\"text-align: right;\">\n",
       "      <th></th>\n",
       "      <th>rec_id</th>\n",
       "      <th>date_rec</th>\n",
       "      <th>ppe</th>\n",
       "      <th>qty_rec</th>\n",
       "      <th>date_decision</th>\n",
       "      <th>don_id</th>\n",
       "      <th>qty_decision</th>\n",
       "      <th>distance</th>\n",
       "    </tr>\n",
       "  </thead>\n",
       "  <tbody>\n",
       "    <tr>\n",
       "      <th>0</th>\n",
       "      <td>rec0</td>\n",
       "      <td>2020-04-02 16:27:00+00:00</td>\n",
       "      <td>nitrileGloves</td>\n",
       "      <td>10000.0</td>\n",
       "      <td>NaT</td>\n",
       "      <td>NaN</td>\n",
       "      <td>NaN</td>\n",
       "      <td>NaN</td>\n",
       "    </tr>\n",
       "    <tr>\n",
       "      <th>1</th>\n",
       "      <td>rec0</td>\n",
       "      <td>2020-04-02 16:27:00+00:00</td>\n",
       "      <td>respirators</td>\n",
       "      <td>10000.0</td>\n",
       "      <td>NaT</td>\n",
       "      <td>NaN</td>\n",
       "      <td>NaN</td>\n",
       "      <td>NaN</td>\n",
       "    </tr>\n",
       "    <tr>\n",
       "      <th>2</th>\n",
       "      <td>rec0</td>\n",
       "      <td>2020-04-02 16:27:00+00:00</td>\n",
       "      <td>gowns</td>\n",
       "      <td>1000.0</td>\n",
       "      <td>NaT</td>\n",
       "      <td>NaN</td>\n",
       "      <td>NaN</td>\n",
       "      <td>NaN</td>\n",
       "    </tr>\n",
       "    <tr>\n",
       "      <th>3</th>\n",
       "      <td>rec0</td>\n",
       "      <td>2020-04-02 16:27:00+00:00</td>\n",
       "      <td>faceShields</td>\n",
       "      <td>5000.0</td>\n",
       "      <td>NaT</td>\n",
       "      <td>NaN</td>\n",
       "      <td>NaN</td>\n",
       "      <td>NaN</td>\n",
       "    </tr>\n",
       "    <tr>\n",
       "      <th>4</th>\n",
       "      <td>rec1</td>\n",
       "      <td>2020-04-02 16:35:00+00:00</td>\n",
       "      <td>disinfectingWipes</td>\n",
       "      <td>4.0</td>\n",
       "      <td>2020-04-23 16:26:00+00:00</td>\n",
       "      <td>don114</td>\n",
       "      <td>4.0</td>\n",
       "      <td>1.910903</td>\n",
       "    </tr>\n",
       "    <tr>\n",
       "      <th>...</th>\n",
       "      <td>...</td>\n",
       "      <td>...</td>\n",
       "      <td>...</td>\n",
       "      <td>...</td>\n",
       "      <td>...</td>\n",
       "      <td>...</td>\n",
       "      <td>...</td>\n",
       "      <td>...</td>\n",
       "    </tr>\n",
       "    <tr>\n",
       "      <th>37399</th>\n",
       "      <td>rec6354</td>\n",
       "      <td>2020-07-17 08:14:58.249000+00:00</td>\n",
       "      <td>respirators</td>\n",
       "      <td>50.0</td>\n",
       "      <td>NaT</td>\n",
       "      <td>NaN</td>\n",
       "      <td>NaN</td>\n",
       "      <td>NaN</td>\n",
       "    </tr>\n",
       "    <tr>\n",
       "      <th>37400</th>\n",
       "      <td>rec6354</td>\n",
       "      <td>2020-07-17 08:14:58.249000+00:00</td>\n",
       "      <td>rec_req_id</td>\n",
       "      <td>6354.0</td>\n",
       "      <td>NaT</td>\n",
       "      <td>NaN</td>\n",
       "      <td>NaN</td>\n",
       "      <td>NaN</td>\n",
       "    </tr>\n",
       "    <tr>\n",
       "      <th>37401</th>\n",
       "      <td>rec6355</td>\n",
       "      <td>2020-07-17 14:25:54.605000+00:00</td>\n",
       "      <td>disposableBooties</td>\n",
       "      <td>1.0</td>\n",
       "      <td>NaT</td>\n",
       "      <td>NaN</td>\n",
       "      <td>NaN</td>\n",
       "      <td>NaN</td>\n",
       "    </tr>\n",
       "    <tr>\n",
       "      <th>37402</th>\n",
       "      <td>rec6355</td>\n",
       "      <td>2020-07-17 14:25:54.605000+00:00</td>\n",
       "      <td>respirators</td>\n",
       "      <td>1.0</td>\n",
       "      <td>NaT</td>\n",
       "      <td>NaN</td>\n",
       "      <td>NaN</td>\n",
       "      <td>NaN</td>\n",
       "    </tr>\n",
       "    <tr>\n",
       "      <th>37403</th>\n",
       "      <td>rec6355</td>\n",
       "      <td>2020-07-17 14:25:54.605000+00:00</td>\n",
       "      <td>rec_req_id</td>\n",
       "      <td>6355.0</td>\n",
       "      <td>NaT</td>\n",
       "      <td>NaN</td>\n",
       "      <td>NaN</td>\n",
       "      <td>NaN</td>\n",
       "    </tr>\n",
       "  </tbody>\n",
       "</table>\n",
       "<p>37404 rows × 8 columns</p>\n",
       "</div>"
      ],
      "text/plain": [
       "        rec_id                         date_rec                ppe  qty_rec  \\\n",
       "0         rec0        2020-04-02 16:27:00+00:00      nitrileGloves  10000.0   \n",
       "1         rec0        2020-04-02 16:27:00+00:00        respirators  10000.0   \n",
       "2         rec0        2020-04-02 16:27:00+00:00              gowns   1000.0   \n",
       "3         rec0        2020-04-02 16:27:00+00:00        faceShields   5000.0   \n",
       "4         rec1        2020-04-02 16:35:00+00:00  disinfectingWipes      4.0   \n",
       "...        ...                              ...                ...      ...   \n",
       "37399  rec6354 2020-07-17 08:14:58.249000+00:00        respirators     50.0   \n",
       "37400  rec6354 2020-07-17 08:14:58.249000+00:00         rec_req_id   6354.0   \n",
       "37401  rec6355 2020-07-17 14:25:54.605000+00:00  disposableBooties      1.0   \n",
       "37402  rec6355 2020-07-17 14:25:54.605000+00:00        respirators      1.0   \n",
       "37403  rec6355 2020-07-17 14:25:54.605000+00:00         rec_req_id   6355.0   \n",
       "\n",
       "                  date_decision  don_id  qty_decision  distance  \n",
       "0                           NaT     NaN           NaN       NaN  \n",
       "1                           NaT     NaN           NaN       NaN  \n",
       "2                           NaT     NaN           NaN       NaN  \n",
       "3                           NaT     NaN           NaN       NaN  \n",
       "4     2020-04-23 16:26:00+00:00  don114           4.0  1.910903  \n",
       "...                         ...     ...           ...       ...  \n",
       "37399                       NaT     NaN           NaN       NaN  \n",
       "37400                       NaT     NaN           NaN       NaN  \n",
       "37401                       NaT     NaN           NaN       NaN  \n",
       "37402                       NaT     NaN           NaN       NaN  \n",
       "37403                       NaT     NaN           NaN       NaN  \n",
       "\n",
       "[37404 rows x 8 columns]"
      ]
     },
     "execution_count": 11,
     "metadata": {},
     "output_type": "execute_result"
    }
   ],
   "source": [
    "merg = recipients.merge(decisions,on=['rec_id','ppe'],how='left',suffixes=('_rec','_decision'))\n",
    "merg"
   ]
  },
  {
   "cell_type": "code",
   "execution_count": 12,
   "metadata": {},
   "outputs": [],
   "source": [
    "merg['delay'] = (merg['date_decision'] - merg['date_rec']).dt.days\n",
    "#merg = merg[merg['delay'] < threshold_days]"
   ]
  },
  {
   "cell_type": "code",
   "execution_count": 13,
   "metadata": {},
   "outputs": [
    {
     "data": {
      "text/html": [
       "<div>\n",
       "<style scoped>\n",
       "    .dataframe tbody tr th:only-of-type {\n",
       "        vertical-align: middle;\n",
       "    }\n",
       "\n",
       "    .dataframe tbody tr th {\n",
       "        vertical-align: top;\n",
       "    }\n",
       "\n",
       "    .dataframe thead th {\n",
       "        text-align: right;\n",
       "    }\n",
       "</style>\n",
       "<table border=\"1\" class=\"dataframe\">\n",
       "  <thead>\n",
       "    <tr style=\"text-align: right;\">\n",
       "      <th></th>\n",
       "      <th>rec_id</th>\n",
       "      <th>date_rec</th>\n",
       "      <th>ppe</th>\n",
       "      <th>qty_rec</th>\n",
       "      <th>date_decision</th>\n",
       "      <th>don_id</th>\n",
       "      <th>qty_decision</th>\n",
       "      <th>distance</th>\n",
       "      <th>delay</th>\n",
       "    </tr>\n",
       "  </thead>\n",
       "  <tbody>\n",
       "    <tr>\n",
       "      <th>0</th>\n",
       "      <td>rec0</td>\n",
       "      <td>2020-04-02 16:27:00+00:00</td>\n",
       "      <td>nitrileGloves</td>\n",
       "      <td>10000.0</td>\n",
       "      <td>NaT</td>\n",
       "      <td>NaN</td>\n",
       "      <td>NaN</td>\n",
       "      <td>NaN</td>\n",
       "      <td>NaN</td>\n",
       "    </tr>\n",
       "    <tr>\n",
       "      <th>1</th>\n",
       "      <td>rec0</td>\n",
       "      <td>2020-04-02 16:27:00+00:00</td>\n",
       "      <td>respirators</td>\n",
       "      <td>10000.0</td>\n",
       "      <td>NaT</td>\n",
       "      <td>NaN</td>\n",
       "      <td>NaN</td>\n",
       "      <td>NaN</td>\n",
       "      <td>NaN</td>\n",
       "    </tr>\n",
       "    <tr>\n",
       "      <th>2</th>\n",
       "      <td>rec0</td>\n",
       "      <td>2020-04-02 16:27:00+00:00</td>\n",
       "      <td>gowns</td>\n",
       "      <td>1000.0</td>\n",
       "      <td>NaT</td>\n",
       "      <td>NaN</td>\n",
       "      <td>NaN</td>\n",
       "      <td>NaN</td>\n",
       "      <td>NaN</td>\n",
       "    </tr>\n",
       "    <tr>\n",
       "      <th>3</th>\n",
       "      <td>rec0</td>\n",
       "      <td>2020-04-02 16:27:00+00:00</td>\n",
       "      <td>faceShields</td>\n",
       "      <td>5000.0</td>\n",
       "      <td>NaT</td>\n",
       "      <td>NaN</td>\n",
       "      <td>NaN</td>\n",
       "      <td>NaN</td>\n",
       "      <td>NaN</td>\n",
       "    </tr>\n",
       "    <tr>\n",
       "      <th>4</th>\n",
       "      <td>rec1</td>\n",
       "      <td>2020-04-02 16:35:00+00:00</td>\n",
       "      <td>disinfectingWipes</td>\n",
       "      <td>4.0</td>\n",
       "      <td>2020-04-23 16:26:00+00:00</td>\n",
       "      <td>don114</td>\n",
       "      <td>4.0</td>\n",
       "      <td>1.910903</td>\n",
       "      <td>20.0</td>\n",
       "    </tr>\n",
       "    <tr>\n",
       "      <th>...</th>\n",
       "      <td>...</td>\n",
       "      <td>...</td>\n",
       "      <td>...</td>\n",
       "      <td>...</td>\n",
       "      <td>...</td>\n",
       "      <td>...</td>\n",
       "      <td>...</td>\n",
       "      <td>...</td>\n",
       "      <td>...</td>\n",
       "    </tr>\n",
       "    <tr>\n",
       "      <th>37399</th>\n",
       "      <td>rec6354</td>\n",
       "      <td>2020-07-17 08:14:58.249000+00:00</td>\n",
       "      <td>respirators</td>\n",
       "      <td>50.0</td>\n",
       "      <td>NaT</td>\n",
       "      <td>NaN</td>\n",
       "      <td>NaN</td>\n",
       "      <td>NaN</td>\n",
       "      <td>NaN</td>\n",
       "    </tr>\n",
       "    <tr>\n",
       "      <th>37400</th>\n",
       "      <td>rec6354</td>\n",
       "      <td>2020-07-17 08:14:58.249000+00:00</td>\n",
       "      <td>rec_req_id</td>\n",
       "      <td>6354.0</td>\n",
       "      <td>NaT</td>\n",
       "      <td>NaN</td>\n",
       "      <td>NaN</td>\n",
       "      <td>NaN</td>\n",
       "      <td>NaN</td>\n",
       "    </tr>\n",
       "    <tr>\n",
       "      <th>37401</th>\n",
       "      <td>rec6355</td>\n",
       "      <td>2020-07-17 14:25:54.605000+00:00</td>\n",
       "      <td>disposableBooties</td>\n",
       "      <td>1.0</td>\n",
       "      <td>NaT</td>\n",
       "      <td>NaN</td>\n",
       "      <td>NaN</td>\n",
       "      <td>NaN</td>\n",
       "      <td>NaN</td>\n",
       "    </tr>\n",
       "    <tr>\n",
       "      <th>37402</th>\n",
       "      <td>rec6355</td>\n",
       "      <td>2020-07-17 14:25:54.605000+00:00</td>\n",
       "      <td>respirators</td>\n",
       "      <td>1.0</td>\n",
       "      <td>NaT</td>\n",
       "      <td>NaN</td>\n",
       "      <td>NaN</td>\n",
       "      <td>NaN</td>\n",
       "      <td>NaN</td>\n",
       "    </tr>\n",
       "    <tr>\n",
       "      <th>37403</th>\n",
       "      <td>rec6355</td>\n",
       "      <td>2020-07-17 14:25:54.605000+00:00</td>\n",
       "      <td>rec_req_id</td>\n",
       "      <td>6355.0</td>\n",
       "      <td>NaT</td>\n",
       "      <td>NaN</td>\n",
       "      <td>NaN</td>\n",
       "      <td>NaN</td>\n",
       "      <td>NaN</td>\n",
       "    </tr>\n",
       "  </tbody>\n",
       "</table>\n",
       "<p>37404 rows × 9 columns</p>\n",
       "</div>"
      ],
      "text/plain": [
       "        rec_id                         date_rec                ppe  qty_rec  \\\n",
       "0         rec0        2020-04-02 16:27:00+00:00      nitrileGloves  10000.0   \n",
       "1         rec0        2020-04-02 16:27:00+00:00        respirators  10000.0   \n",
       "2         rec0        2020-04-02 16:27:00+00:00              gowns   1000.0   \n",
       "3         rec0        2020-04-02 16:27:00+00:00        faceShields   5000.0   \n",
       "4         rec1        2020-04-02 16:35:00+00:00  disinfectingWipes      4.0   \n",
       "...        ...                              ...                ...      ...   \n",
       "37399  rec6354 2020-07-17 08:14:58.249000+00:00        respirators     50.0   \n",
       "37400  rec6354 2020-07-17 08:14:58.249000+00:00         rec_req_id   6354.0   \n",
       "37401  rec6355 2020-07-17 14:25:54.605000+00:00  disposableBooties      1.0   \n",
       "37402  rec6355 2020-07-17 14:25:54.605000+00:00        respirators      1.0   \n",
       "37403  rec6355 2020-07-17 14:25:54.605000+00:00         rec_req_id   6355.0   \n",
       "\n",
       "                  date_decision  don_id  qty_decision  distance  delay  \n",
       "0                           NaT     NaN           NaN       NaN    NaN  \n",
       "1                           NaT     NaN           NaN       NaN    NaN  \n",
       "2                           NaT     NaN           NaN       NaN    NaN  \n",
       "3                           NaT     NaN           NaN       NaN    NaN  \n",
       "4     2020-04-23 16:26:00+00:00  don114           4.0  1.910903   20.0  \n",
       "...                         ...     ...           ...       ...    ...  \n",
       "37399                       NaT     NaN           NaN       NaN    NaN  \n",
       "37400                       NaT     NaN           NaN       NaN    NaN  \n",
       "37401                       NaT     NaN           NaN       NaN    NaN  \n",
       "37402                       NaT     NaN           NaN       NaN    NaN  \n",
       "37403                       NaT     NaN           NaN       NaN    NaN  \n",
       "\n",
       "[37404 rows x 9 columns]"
      ]
     },
     "execution_count": 13,
     "metadata": {},
     "output_type": "execute_result"
    }
   ],
   "source": [
    "merg"
   ]
  },
  {
   "cell_type": "code",
   "execution_count": 14,
   "metadata": {},
   "outputs": [
    {
     "data": {
      "text/html": [
       "<div>\n",
       "<style scoped>\n",
       "    .dataframe tbody tr th:only-of-type {\n",
       "        vertical-align: middle;\n",
       "    }\n",
       "\n",
       "    .dataframe tbody tr th {\n",
       "        vertical-align: top;\n",
       "    }\n",
       "\n",
       "    .dataframe thead th {\n",
       "        text-align: right;\n",
       "    }\n",
       "</style>\n",
       "<table border=\"1\" class=\"dataframe\">\n",
       "  <thead>\n",
       "    <tr style=\"text-align: right;\">\n",
       "      <th></th>\n",
       "      <th>rec_id</th>\n",
       "      <th>ppe</th>\n",
       "      <th>qty_rec</th>\n",
       "      <th>qty_decision</th>\n",
       "      <th>total_fill_rate</th>\n",
       "    </tr>\n",
       "  </thead>\n",
       "  <tbody>\n",
       "    <tr>\n",
       "      <th>0</th>\n",
       "      <td>rec0</td>\n",
       "      <td>faceShields</td>\n",
       "      <td>5000.0</td>\n",
       "      <td>0.0</td>\n",
       "      <td>0.0</td>\n",
       "    </tr>\n",
       "    <tr>\n",
       "      <th>1</th>\n",
       "      <td>rec0</td>\n",
       "      <td>gowns</td>\n",
       "      <td>1000.0</td>\n",
       "      <td>0.0</td>\n",
       "      <td>0.0</td>\n",
       "    </tr>\n",
       "    <tr>\n",
       "      <th>2</th>\n",
       "      <td>rec0</td>\n",
       "      <td>nitrileGloves</td>\n",
       "      <td>10000.0</td>\n",
       "      <td>0.0</td>\n",
       "      <td>0.0</td>\n",
       "    </tr>\n",
       "    <tr>\n",
       "      <th>3</th>\n",
       "      <td>rec0</td>\n",
       "      <td>respirators</td>\n",
       "      <td>10000.0</td>\n",
       "      <td>0.0</td>\n",
       "      <td>0.0</td>\n",
       "    </tr>\n",
       "    <tr>\n",
       "      <th>4</th>\n",
       "      <td>rec1</td>\n",
       "      <td>disinfectingWipes</td>\n",
       "      <td>4.0</td>\n",
       "      <td>4.0</td>\n",
       "      <td>1.0</td>\n",
       "    </tr>\n",
       "    <tr>\n",
       "      <th>...</th>\n",
       "      <td>...</td>\n",
       "      <td>...</td>\n",
       "      <td>...</td>\n",
       "      <td>...</td>\n",
       "      <td>...</td>\n",
       "    </tr>\n",
       "    <tr>\n",
       "      <th>37299</th>\n",
       "      <td>rec998</td>\n",
       "      <td>respirators</td>\n",
       "      <td>50.0</td>\n",
       "      <td>0.0</td>\n",
       "      <td>0.0</td>\n",
       "    </tr>\n",
       "    <tr>\n",
       "      <th>37300</th>\n",
       "      <td>rec998</td>\n",
       "      <td>thermometers</td>\n",
       "      <td>2.0</td>\n",
       "      <td>0.0</td>\n",
       "      <td>0.0</td>\n",
       "    </tr>\n",
       "    <tr>\n",
       "      <th>37301</th>\n",
       "      <td>rec999</td>\n",
       "      <td>faceShields</td>\n",
       "      <td>20.0</td>\n",
       "      <td>0.0</td>\n",
       "      <td>0.0</td>\n",
       "    </tr>\n",
       "    <tr>\n",
       "      <th>37302</th>\n",
       "      <td>rec999</td>\n",
       "      <td>rec_req_id</td>\n",
       "      <td>999.0</td>\n",
       "      <td>0.0</td>\n",
       "      <td>0.0</td>\n",
       "    </tr>\n",
       "    <tr>\n",
       "      <th>37303</th>\n",
       "      <td>rec999</td>\n",
       "      <td>respirators</td>\n",
       "      <td>30.0</td>\n",
       "      <td>30.0</td>\n",
       "      <td>1.0</td>\n",
       "    </tr>\n",
       "  </tbody>\n",
       "</table>\n",
       "<p>37304 rows × 5 columns</p>\n",
       "</div>"
      ],
      "text/plain": [
       "       rec_id                ppe  qty_rec  qty_decision  total_fill_rate\n",
       "0        rec0        faceShields   5000.0           0.0              0.0\n",
       "1        rec0              gowns   1000.0           0.0              0.0\n",
       "2        rec0      nitrileGloves  10000.0           0.0              0.0\n",
       "3        rec0        respirators  10000.0           0.0              0.0\n",
       "4        rec1  disinfectingWipes      4.0           4.0              1.0\n",
       "...       ...                ...      ...           ...              ...\n",
       "37299  rec998        respirators     50.0           0.0              0.0\n",
       "37300  rec998       thermometers      2.0           0.0              0.0\n",
       "37301  rec999        faceShields     20.0           0.0              0.0\n",
       "37302  rec999         rec_req_id    999.0           0.0              0.0\n",
       "37303  rec999        respirators     30.0          30.0              1.0\n",
       "\n",
       "[37304 rows x 5 columns]"
      ]
     },
     "execution_count": 14,
     "metadata": {},
     "output_type": "execute_result"
    }
   ],
   "source": [
    "res = merg.groupby(['rec_id','ppe']).agg({'qty_rec':min,'qty_decision':sum}).reset_index()\n",
    "res['total_fill_rate'] = res.qty_decision / res.qty_rec\n",
    "res"
   ]
  },
  {
   "cell_type": "code",
   "execution_count": 15,
   "metadata": {},
   "outputs": [
    {
     "data": {
      "text/html": [
       "<div>\n",
       "<style scoped>\n",
       "    .dataframe tbody tr th:only-of-type {\n",
       "        vertical-align: middle;\n",
       "    }\n",
       "\n",
       "    .dataframe tbody tr th {\n",
       "        vertical-align: top;\n",
       "    }\n",
       "\n",
       "    .dataframe thead th {\n",
       "        text-align: right;\n",
       "    }\n",
       "</style>\n",
       "<table border=\"1\" class=\"dataframe\">\n",
       "  <thead>\n",
       "    <tr style=\"text-align: right;\">\n",
       "      <th></th>\n",
       "      <th>rec_id</th>\n",
       "      <th>ppe</th>\n",
       "      <th>qty_rec</th>\n",
       "      <th>qty_decision</th>\n",
       "      <th>total_fill_rate</th>\n",
       "    </tr>\n",
       "  </thead>\n",
       "  <tbody>\n",
       "    <tr>\n",
       "      <th>0</th>\n",
       "      <td>rec0</td>\n",
       "      <td>faceShields</td>\n",
       "      <td>5000.0</td>\n",
       "      <td>0.0</td>\n",
       "      <td>0.0</td>\n",
       "    </tr>\n",
       "    <tr>\n",
       "      <th>1</th>\n",
       "      <td>rec0</td>\n",
       "      <td>gowns</td>\n",
       "      <td>1000.0</td>\n",
       "      <td>0.0</td>\n",
       "      <td>0.0</td>\n",
       "    </tr>\n",
       "    <tr>\n",
       "      <th>2</th>\n",
       "      <td>rec0</td>\n",
       "      <td>nitrileGloves</td>\n",
       "      <td>10000.0</td>\n",
       "      <td>0.0</td>\n",
       "      <td>0.0</td>\n",
       "    </tr>\n",
       "    <tr>\n",
       "      <th>3</th>\n",
       "      <td>rec0</td>\n",
       "      <td>respirators</td>\n",
       "      <td>10000.0</td>\n",
       "      <td>0.0</td>\n",
       "      <td>0.0</td>\n",
       "    </tr>\n",
       "    <tr>\n",
       "      <th>4</th>\n",
       "      <td>rec1</td>\n",
       "      <td>disinfectingWipes</td>\n",
       "      <td>4.0</td>\n",
       "      <td>4.0</td>\n",
       "      <td>1.0</td>\n",
       "    </tr>\n",
       "    <tr>\n",
       "      <th>...</th>\n",
       "      <td>...</td>\n",
       "      <td>...</td>\n",
       "      <td>...</td>\n",
       "      <td>...</td>\n",
       "      <td>...</td>\n",
       "    </tr>\n",
       "    <tr>\n",
       "      <th>37299</th>\n",
       "      <td>rec998</td>\n",
       "      <td>respirators</td>\n",
       "      <td>50.0</td>\n",
       "      <td>0.0</td>\n",
       "      <td>0.0</td>\n",
       "    </tr>\n",
       "    <tr>\n",
       "      <th>37300</th>\n",
       "      <td>rec998</td>\n",
       "      <td>thermometers</td>\n",
       "      <td>2.0</td>\n",
       "      <td>0.0</td>\n",
       "      <td>0.0</td>\n",
       "    </tr>\n",
       "    <tr>\n",
       "      <th>37301</th>\n",
       "      <td>rec999</td>\n",
       "      <td>faceShields</td>\n",
       "      <td>20.0</td>\n",
       "      <td>0.0</td>\n",
       "      <td>0.0</td>\n",
       "    </tr>\n",
       "    <tr>\n",
       "      <th>37302</th>\n",
       "      <td>rec999</td>\n",
       "      <td>rec_req_id</td>\n",
       "      <td>999.0</td>\n",
       "      <td>0.0</td>\n",
       "      <td>0.0</td>\n",
       "    </tr>\n",
       "    <tr>\n",
       "      <th>37303</th>\n",
       "      <td>rec999</td>\n",
       "      <td>respirators</td>\n",
       "      <td>30.0</td>\n",
       "      <td>30.0</td>\n",
       "      <td>1.0</td>\n",
       "    </tr>\n",
       "  </tbody>\n",
       "</table>\n",
       "<p>37304 rows × 5 columns</p>\n",
       "</div>"
      ],
      "text/plain": [
       "       rec_id                ppe  qty_rec  qty_decision  total_fill_rate\n",
       "0        rec0        faceShields   5000.0           0.0              0.0\n",
       "1        rec0              gowns   1000.0           0.0              0.0\n",
       "2        rec0      nitrileGloves  10000.0           0.0              0.0\n",
       "3        rec0        respirators  10000.0           0.0              0.0\n",
       "4        rec1  disinfectingWipes      4.0           4.0              1.0\n",
       "...       ...                ...      ...           ...              ...\n",
       "37299  rec998        respirators     50.0           0.0              0.0\n",
       "37300  rec998       thermometers      2.0           0.0              0.0\n",
       "37301  rec999        faceShields     20.0           0.0              0.0\n",
       "37302  rec999         rec_req_id    999.0           0.0              0.0\n",
       "37303  rec999        respirators     30.0          30.0              1.0\n",
       "\n",
       "[37304 rows x 5 columns]"
      ]
     },
     "execution_count": 15,
     "metadata": {},
     "output_type": "execute_result"
    }
   ],
   "source": [
    "res"
   ]
  },
  {
   "cell_type": "code",
   "execution_count": 16,
   "metadata": {},
   "outputs": [
    {
     "data": {
      "text/plain": [
       "ppe\n",
       "babyMonitors         0.005286\n",
       "bodyBags             0.005435\n",
       "coveralls            0.023564\n",
       "disinfectingWipes    0.002841\n",
       "disposableBooties    0.006105\n",
       "faceShields          0.046250\n",
       "gowns                0.000925\n",
       "handSanitizer        0.003906\n",
       "handmadeMasks        0.050814\n",
       "nitrileGloves        0.006539\n",
       "paprShield           0.000000\n",
       "rec_req_id           0.000000\n",
       "respirators          0.012295\n",
       "safetyGlasses        0.008809\n",
       "safetyGoggles        0.011034\n",
       "surgicalCaps         0.001350\n",
       "surgicalMasks        0.020832\n",
       "thermometers         0.000722\n",
       "Name: total_fill_rate, dtype: float64"
      ]
     },
     "execution_count": 16,
     "metadata": {},
     "output_type": "execute_result"
    }
   ],
   "source": [
    "res.groupby('ppe')['total_fill_rate'].mean()"
   ]
  },
  {
   "cell_type": "code",
   "execution_count": null,
   "metadata": {},
   "outputs": [],
   "source": []
  }
 ],
 "metadata": {
  "kernelspec": {
   "name": "python366jvsc74a57bd0f7291e4b392a32fbfa525b87d1bbd0a3d888adf3d0deca0c205c61b9e7284b82",
   "display_name": "Python 3.6.6 64-bit"
  },
  "language_info": {
   "codemirror_mode": {
    "name": "ipython",
    "version": 3
   },
   "file_extension": ".py",
   "mimetype": "text/x-python",
   "name": "python",
   "nbconvert_exporter": "python",
   "pygments_lexer": "ipython3",
   "version": "3.6.6"
  }
 },
 "nbformat": 4,
 "nbformat_minor": 4
}